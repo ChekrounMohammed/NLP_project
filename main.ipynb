{
 "cells": [
  {
   "cell_type": "code",
   "execution_count": 13,
   "id": "5483104e-f25e-48a1-a88d-789582664090",
   "metadata": {},
   "outputs": [],
   "source": [
    "import pandas as ps\n",
    "import numpy as np \n",
    "import os\n",
    "import re"
   ]
  },
  {
   "cell_type": "code",
   "execution_count": 14,
   "id": "fce467aa-5b27-46dc-9f52-8d55445cda6f",
   "metadata": {},
   "outputs": [
    {
     "data": {
      "text/plain": [
       "['Flore du Cameroun tome 10 1970 Ombellales',\n",
       " 'Flore du Cameroun tome 10 1970 Ombellales.pdf',\n",
       " 'Flore du Cameroun tome 12 1972 Loganiaceae',\n",
       " 'Flore du Cameroun tome 12 1972 Loganiaceae.pdf',\n",
       " 'Flore du Cameroun tome 16 1973 Sapindaceae',\n",
       " 'Flore du Cameroun tome 16 1973 Sapindaceae.pdf',\n",
       " 'Flore du Cameroun tome 17 1974 Amaranthaceae',\n",
       " 'Flore du Cameroun tome 17 1974 Amaranthaceae.pdf',\n",
       " 'Flore du Cameroun tome 2 1964 Sapotacees',\n",
       " 'Flore du Cameroun tome 2 1964 Sapotacees.pdf',\n",
       " 'Flore du Cameroun tome 6 1967 Cucurbitaceae',\n",
       " 'Flore du Cameroun tome 6 1967 Cucurbitaceae.pdf',\n",
       " 'Flore du Cameroun tome 9 1970 Caesalpinioidae',\n",
       " 'Flore du Cameroun tome 9 1970 Caesalpinioidae.pdf']"
      ]
     },
     "execution_count": 14,
     "metadata": {},
     "output_type": "execute_result"
    }
   ],
   "source": [
    "os.listdir(\"data\")"
   ]
  },
  {
   "cell_type": "code",
   "execution_count": 15,
   "id": "461a607d-cb3b-40c4-b962-3eaf8f487823",
   "metadata": {},
   "outputs": [],
   "source": [
    "folder = []\n",
    "for item in os.listdir('data'):\n",
    "    if(len(item.split('.')) == 1):\n",
    "        folder.append(item)"
   ]
  },
  {
   "cell_type": "code",
   "execution_count": 16,
   "id": "a8aa7ff8-6509-4472-9fe1-e820116cf77f",
   "metadata": {},
   "outputs": [
    {
     "data": {
      "text/plain": [
       "['Flore du Cameroun tome 10 1970 Ombellales',\n",
       " 'Flore du Cameroun tome 12 1972 Loganiaceae',\n",
       " 'Flore du Cameroun tome 16 1973 Sapindaceae',\n",
       " 'Flore du Cameroun tome 17 1974 Amaranthaceae',\n",
       " 'Flore du Cameroun tome 2 1964 Sapotacees',\n",
       " 'Flore du Cameroun tome 6 1967 Cucurbitaceae',\n",
       " 'Flore du Cameroun tome 9 1970 Caesalpinioidae']"
      ]
     },
     "execution_count": 16,
     "metadata": {},
     "output_type": "execute_result"
    }
   ],
   "source": [
    "folder"
   ]
  },
  {
   "cell_type": "code",
   "execution_count": 17,
   "id": "3957ad6b-b563-44d4-ad24-11dfc0f8536e",
   "metadata": {},
   "outputs": [],
   "source": [
    "path = 'data/'+'Flore du Cameroun tome 10 1970 Ombellales.pdf'\n"
   ]
  },
  {
   "cell_type": "code",
   "execution_count": 32,
   "id": "25d75e29-aa8e-45f9-894d-a3e9c727941b",
   "metadata": {},
   "outputs": [
    {
     "name": "stdout",
     "output_type": "stream",
     "text": [
      "=============================================================\n",
      "data/Flore du Cameroun tome 12 1972 Loganiaceae\n",
      "cle des especes camerounaises et gabonaises\n",
      "cle des especes camerounaises et gabonaises\n",
      "cle des especes camerounaises et gabonaises\n",
      "cle des especes camerounaises et gabonaises\n"
     ]
    }
   ],
   "source": [
    "famille =[]\n",
    "famille_ = []\n",
    "tailles = []\n",
    "\n",
    "#for f in folder:\n",
    "path = 'data/' + 'Flore du Cameroun tome 12 1972 Loganiaceae'\n",
    "print(\"=============================================================\")\n",
    "print(path)\n",
    "for i in range(len(os.listdir(path))):\n",
    "    with open(path+'/'+ str(i+1) +'.txt', 'r') as fp:\n",
    "        lines = fp.readlines()\n",
    "        #print(\"=================\")\n",
    "        for j in range(len(lines)):\n",
    "            l = lines[j].strip()\n",
    "            l = l.replace('  ',' ')\n",
    "            #print(l)\n",
    "            l = f_remove_accents(l)\n",
    "            x = re.search(\"^cle.*espece\", l)\n",
    "            if(x):\n",
    "                print(l)"
   ]
  },
  {
   "cell_type": "code",
   "execution_count": 34,
   "id": "7727611d-7d7c-4666-bd1b-3accac316a1b",
   "metadata": {},
   "outputs": [
    {
     "name": "stdout",
     "output_type": "stream",
     "text": [
      "=============================================================\n",
      "data/Flore du Cameroun tome 9 1970 Caesalpinioidae\n",
      "CLEF DES ESPÈCES DE CÉSALPINIOÏDÉES \n",
      "\n",
      "CLEF DES ESPÈCES \n",
      "\n",
      "CLEF DES ESPÈCES \n",
      "\n",
      "CLEF DES ESPÈCES \n",
      "\n",
      "CLEF DES ESPÈCES \n",
      "\n",
      "CLEF DES ESPÈCES \n",
      "\n",
      "CLEF DES GROUPES ET ESPÈCES \n",
      "\n",
      "CLEF DES ESPÈCES \n",
      "\n",
      "CLEF DES ESPÈCES \n",
      "\n",
      "CLEF DES ESPÈCES \n",
      "\n",
      "CLEF DES ESPÈCES \n",
      "\n",
      "CLEFS DES ESPÈCES \n",
      "\n",
      "CLEF DES ESPÈCES \n",
      "\n",
      "CLEF DES ESPÈCES \n",
      "\n",
      "CLEF DES ESPÈCES \n",
      "\n",
      "CLEF DES ESPÈCES \n",
      "\n",
      "CLEF DES ESPÈCES \n",
      "\n",
      "CLEF DÈS ESPÈCES \n",
      "\n",
      "CLEF DES ESPÈCES \n",
      "\n",
      "CLEF DES ESPÈCES \n",
      "\n",
      "CLEF DES ESPÈCES \n",
      "\n",
      "CLEF DES ESPÈCES \n",
      "\n",
      "CLEF DES ESPÈCES \n",
      "\n",
      "CLEF DES ESPÈCES \n",
      "\n",
      "CLEF DES ESPÈCES \n",
      "\n",
      "CLEF DES ESPÈCES \n",
      "\n",
      "CLEF DES ESPÈCES \n",
      "\n",
      "CLEF DES ESPÈCES \n",
      "\n",
      "CLEF DES ESPÈCES \n",
      "\n",
      "CLEF DES ESPÈCES \n",
      "\n",
      "CLEF DES ESPÈCES D'APBÈS LES FEUILLES \n",
      "\n",
      "CLEF DES ESPÈCES \n",
      "\n",
      "CLEF DES ESPÈCES \n",
      "\n",
      "CLEF DES ESPÈCES \n",
      "\n"
     ]
    }
   ],
   "source": [
    "path = 'data/' + 'Flore du Cameroun tome 9 1970 Caesalpinioidae'\n",
    "print(\"=============================================================\")\n",
    "print(path)\n",
    "for i in range(len(os.listdir(path))):\n",
    "    with open(path+'/'+ str(i+1) +'.txt', 'r') as fp:\n",
    "        lines = fp.readlines()\n",
    "        #print(\"=================\")\n",
    "        for j in range(len(lines)):\n",
    "            l = lines[j].strip()\n",
    "            l = l.replace('  ',' ')\n",
    "            #print(l)\n",
    "            l = f_remove_accents(l)\n",
    "            x = re.search(\"^cle.*espece\", l)\n",
    "            if(x):\n",
    "                print(lines[j])"
   ]
  },
  {
   "cell_type": "code",
   "execution_count": 35,
   "id": "229f0e2a-4c60-487a-b3cf-ee73772d04d3",
   "metadata": {},
   "outputs": [
    {
     "name": "stdout",
     "output_type": "stream",
     "text": [
      "=============================================================\n",
      "data/Flore du Cameroun tome 2 1964 Sapotacees\n",
      "CLEF  DES  ESPÈCES \n",
      "\n",
      "CLEF  DES  ESPÈCES \n",
      "\n",
      "CLEF  DES  ESPÈCES \n",
      "\n",
      "CLEF  DES  ESPÈCES  (i) \n",
      "\n",
      "CLEF  DES  ESPÈCES \n",
      "\n"
     ]
    }
   ],
   "source": [
    "path = 'data/' + 'Flore du Cameroun tome 2 1964 Sapotacees'\n",
    "print(\"=============================================================\")\n",
    "print(path)\n",
    "for i in range(len(os.listdir(path))):\n",
    "    with open(path+'/'+ str(i+1) +'.txt', 'r') as fp:\n",
    "        lines = fp.readlines()\n",
    "        #print(\"=================\")\n",
    "        for j in range(len(lines)):\n",
    "            l = lines[j].strip()\n",
    "            l = l.replace('  ',' ')\n",
    "            #print(l)\n",
    "            l = f_remove_accents(l)\n",
    "            x = re.search(\"^cle.*espece\", l)\n",
    "            if(x):\n",
    "                print(lines[j])"
   ]
  },
  {
   "cell_type": "code",
   "execution_count": 26,
   "id": "5d371ff5-40b0-4879-b476-79543613fdf9",
   "metadata": {},
   "outputs": [
    {
     "data": {
      "text/plain": [
       "'cle des especes camerounaises et gabonaises'"
      ]
     },
     "execution_count": 26,
     "metadata": {},
     "output_type": "execute_result"
    }
   ],
   "source": [
    "def f_remove_accents(old):\n",
    "    \"\"\"\n",
    "    Removes common accent characters, lower form.\n",
    "    Uses: regex.\n",
    "    \"\"\"\n",
    "    new = old.lower()\n",
    "    new = re.sub(r'[àáâãäå]', 'a', new)\n",
    "    new = re.sub(r'[èéêë]', 'e', new)\n",
    "    new = re.sub(r'[ìíîï]', 'i', new)\n",
    "    new = re.sub(r'[òóôõö]', 'o', new)\n",
    "    new = re.sub(r'[ùúûü]', 'u', new)\n",
    "    return new\n",
    "f_remove_accents(\"CLÉ DES ESPÈCES CAMEROUNAISES ET GABONAISES\")\n"
   ]
  },
  {
   "cell_type": "code",
   "execution_count": 24,
   "id": "20bb85a4-3e8f-4480-b855-3bfa9d3b857f",
   "metadata": {},
   "outputs": [
    {
     "data": {
      "text/plain": [
       "'espèces'"
      ]
     },
     "execution_count": 24,
     "metadata": {},
     "output_type": "execute_result"
    }
   ],
   "source": [
    "\"ESPÈCES\".lower()"
   ]
  },
  {
   "cell_type": "code",
   "execution_count": null,
   "id": "ecd822c7-5801-441b-a126-a117df23992d",
   "metadata": {},
   "outputs": [],
   "source": [
    "tailles"
   ]
  },
  {
   "cell_type": "code",
   "execution_count": 1,
   "id": "8e9b208f-f48a-4356-b2a1-b5954486a51f",
   "metadata": {},
   "outputs": [],
   "source": [
    "import pytesseract\n",
    "pytesseract.pytesseract.tesseract_cmd =r'C:\\Users\\NEW-USER\\AppData\\Local\\Tesseract-OCR\\tesseract.exe'\n",
    "poppler_path = r\"C:\\Users\\NEW-USER\\AppData\\Local\\poppler-22.04.0\\Library\\bin\""
   ]
  },
  {
   "cell_type": "code",
   "execution_count": 2,
   "id": "40091400-cc71-4f48-bf2a-6cc03ee2051f",
   "metadata": {},
   "outputs": [],
   "source": [
    "import cv2"
   ]
  },
  {
   "cell_type": "code",
   "execution_count": null,
   "id": "c0c2d0db-928a-4657-95eb-5ffa139a7188",
   "metadata": {},
   "outputs": [],
   "source": [
    "img = cv2.imread(path)"
   ]
  },
  {
   "cell_type": "code",
   "execution_count": null,
   "id": "c2a08c52-cb42-427e-9049-ed071f36c106",
   "metadata": {},
   "outputs": [],
   "source": [
    "import os\n",
    "from PIL import Image\n",
    "from pdf2image import convert_from_path\n",
    "import pytesseract"
   ]
  },
  {
   "cell_type": "code",
   "execution_count": null,
   "id": "ec3467b5-88a0-49ce-bdbf-5f1500b39681",
   "metadata": {},
   "outputs": [],
   "source": [
    "file = Image.open('img.png')"
   ]
  },
  {
   "cell_type": "code",
   "execution_count": null,
   "id": "b9ead5f5-8ad0-4061-bd39-bdf0d15edeaa",
   "metadata": {},
   "outputs": [],
   "source": [
    "string = pytesseract.image_to_string(file, lang='eng')"
   ]
  },
  {
   "cell_type": "code",
   "execution_count": null,
   "id": "ae7e08a7-7553-494d-ac2b-ade250cbfaf0",
   "metadata": {},
   "outputs": [],
   "source": [
    "string"
   ]
  },
  {
   "cell_type": "code",
   "execution_count": 5,
   "id": "8532e605-5612-4bc4-ae91-70ac0fcc0973",
   "metadata": {},
   "outputs": [],
   "source": [
    "from pdf2image import convert_from_path\n",
    "from pytesseract import image_to_string\n",
    "from PIL import Image"
   ]
  },
  {
   "cell_type": "code",
   "execution_count": 9,
   "id": "b2dc70a5-4247-4ced-bf2a-ed433f2b7484",
   "metadata": {},
   "outputs": [],
   "source": [
    "def convert_pdf_img(pdf_file):\n",
    "    return convert_from_path(pdf_file, poppler_path = poppler_path)\n",
    "def convert_img_txt(file):\n",
    "    text = image_to_string(file)\n",
    "    return text\n",
    "\n",
    "def get_text_from_any_pdf(pdf_file):\n",
    "    images = convert_pdf_img(pdf_file)\n",
    "    final_text = \"\"\n",
    "    for pg,img in enumerate(images):\n",
    "        print(pg)\n",
    "        final_text += convert_img_txt(img)\n",
    "    return final_text"
   ]
  },
  {
   "cell_type": "code",
   "execution_count": 3,
   "id": "5e23dfac-c7b1-4aca-abd5-1a5dd6ec2d0d",
   "metadata": {},
   "outputs": [],
   "source": [
    "path_pdf = 'data/Flore du Cameroun tome 10 1970 Ombellales.pdf'"
   ]
  },
  {
   "cell_type": "code",
   "execution_count": null,
   "id": "43e0d65d-377b-4b0a-9bf5-f6a83d38214a",
   "metadata": {},
   "outputs": [],
   "source": [
    "pdf1 = get_text_from_any_pdf(path_pdf)"
   ]
  },
  {
   "cell_type": "code",
   "execution_count": null,
   "id": "bbdb8bab-af07-4943-aeaa-8f5978f04b40",
   "metadata": {},
   "outputs": [],
   "source": [
    "print(pdf1)"
   ]
  },
  {
   "cell_type": "code",
   "execution_count": null,
   "id": "86ef2c52-b92f-43d4-9a69-0f12d9ce22a4",
   "metadata": {},
   "outputs": [],
   "source": []
  }
 ],
 "metadata": {
  "kernelspec": {
   "display_name": "Python 3 (ipykernel)",
   "language": "python",
   "name": "python3"
  },
  "language_info": {
   "codemirror_mode": {
    "name": "ipython",
    "version": 3
   },
   "file_extension": ".py",
   "mimetype": "text/x-python",
   "name": "python",
   "nbconvert_exporter": "python",
   "pygments_lexer": "ipython3",
   "version": "3.8.12"
  }
 },
 "nbformat": 4,
 "nbformat_minor": 5
}

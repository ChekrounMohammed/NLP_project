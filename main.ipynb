{
 "cells": [
  {
   "cell_type": "code",
   "execution_count": 1,
   "id": "5483104e-f25e-48a1-a88d-789582664090",
   "metadata": {},
   "outputs": [],
   "source": [
    "import pandas as ps\n",
    "import numpy as np \n",
    "import os\n",
    "import re"
   ]
  },
  {
   "cell_type": "code",
   "execution_count": 2,
   "id": "fce467aa-5b27-46dc-9f52-8d55445cda6f",
   "metadata": {},
   "outputs": [
    {
     "data": {
      "text/plain": [
       "['Flore du Cameroun tome 10 1970 Ombellales',\n",
       " 'Flore du Cameroun tome 10 1970 Ombellales.pdf',\n",
       " 'Flore du Cameroun tome 12 1972 Loganiaceae',\n",
       " 'Flore du Cameroun tome 12 1972 Loganiaceae.pdf',\n",
       " 'Flore du Cameroun tome 16 1973 Sapindaceae',\n",
       " 'Flore du Cameroun tome 16 1973 Sapindaceae.pdf',\n",
       " 'Flore du Cameroun tome 17 1974 Amaranthaceae',\n",
       " 'Flore du Cameroun tome 17 1974 Amaranthaceae.pdf',\n",
       " 'Flore du Cameroun tome 2 1964 Sapotacees',\n",
       " 'Flore du Cameroun tome 2 1964 Sapotacees.pdf',\n",
       " 'Flore du Cameroun tome 6 1967 Cucurbitaceae',\n",
       " 'Flore du Cameroun tome 6 1967 Cucurbitaceae.pdf',\n",
       " 'Flore du Cameroun tome 9 1970 Caesalpinioidae',\n",
       " 'Flore du Cameroun tome 9 1970 Caesalpinioidae.pdf']"
      ]
     },
     "execution_count": 2,
     "metadata": {},
     "output_type": "execute_result"
    }
   ],
   "source": [
    "os.listdir(\"data\")"
   ]
  },
  {
   "cell_type": "code",
   "execution_count": 3,
   "id": "461a607d-cb3b-40c4-b962-3eaf8f487823",
   "metadata": {},
   "outputs": [],
   "source": [
    "folder = []\n",
    "for item in os.listdir('data'):\n",
    "    if(len(item.split('.')) == 1):\n",
    "        folder.append(item)"
   ]
  },
  {
   "cell_type": "code",
   "execution_count": 4,
   "id": "a8aa7ff8-6509-4472-9fe1-e820116cf77f",
   "metadata": {},
   "outputs": [
    {
     "data": {
      "text/plain": [
       "['Flore du Cameroun tome 10 1970 Ombellales',\n",
       " 'Flore du Cameroun tome 12 1972 Loganiaceae',\n",
       " 'Flore du Cameroun tome 16 1973 Sapindaceae',\n",
       " 'Flore du Cameroun tome 17 1974 Amaranthaceae',\n",
       " 'Flore du Cameroun tome 2 1964 Sapotacees',\n",
       " 'Flore du Cameroun tome 6 1967 Cucurbitaceae',\n",
       " 'Flore du Cameroun tome 9 1970 Caesalpinioidae']"
      ]
     },
     "execution_count": 4,
     "metadata": {},
     "output_type": "execute_result"
    }
   ],
   "source": [
    "folder"
   ]
  },
  {
   "cell_type": "code",
   "execution_count": null,
   "id": "25d75e29-aa8e-45f9-894d-a3e9c727941b",
   "metadata": {},
   "outputs": [],
   "source": [
    "famille =[]\n",
    "famille_ = []\n",
    "tailles = []\n",
    "\n",
    "#for f in folder:\n",
    "path = 'data/' + 'Flore du Cameroun tome 12 1972 Loganiaceae'\n",
    "print(\"=============================================================\")\n",
    "print(path)\n",
    "for i in range(len(os.listdir(path))):\n",
    "    with open(path+'/'+ str(i+1) +'.txt', 'r') as fp:\n",
    "        lines = fp.readlines()\n",
    "        #print(\"=================\")\n",
    "        for j in range(len(lines)):\n",
    "            l = lines[j].strip()\n",
    "            l = l.replace('  ',' ')\n",
    "            #print(l)\n",
    "            l = f_remove_accents(l)\n",
    "            x = re.search(\"^cle.*espece\", l)\n",
    "            if(x):\n",
    "                print(l)"
   ]
  },
  {
   "cell_type": "code",
   "execution_count": null,
   "id": "7727611d-7d7c-4666-bd1b-3accac316a1b",
   "metadata": {},
   "outputs": [],
   "source": [
    "path = 'data/' + 'Flore du Cameroun tome 9 1970 Caesalpinioidae'\n",
    "print(\"=============================================================\")\n",
    "print(path)\n",
    "for i in range(len(os.listdir(path))):\n",
    "    with open(path+'/'+ str(i+1) +'.txt', 'r') as fp:\n",
    "        lines = fp.readlines()\n",
    "        #print(\"=================\")\n",
    "        for j in range(len(lines)):\n",
    "            l = lines[j].strip()\n",
    "            l = l.replace('  ',' ')\n",
    "            #print(l)\n",
    "            l = f_remove_accents(l)\n",
    "            x = re.search(\"^cle.*espece\", l)\n",
    "            if(x):\n",
    "                print(lines[j])"
   ]
  },
  {
   "cell_type": "code",
   "execution_count": null,
   "id": "229f0e2a-4c60-487a-b3cf-ee73772d04d3",
   "metadata": {},
   "outputs": [],
   "source": [
    "path = 'data/' + 'Flore du Cameroun tome 2 1964 Sapotacees'\n",
    "print(\"=============================================================\")\n",
    "print(path)\n",
    "for i in range(len(os.listdir(path))):\n",
    "    with open(path+'/'+ str(i+1) +'.txt', 'r') as fp:\n",
    "        lines = fp.readlines()\n",
    "        #print(\"=================\")\n",
    "        for j in range(len(lines)):\n",
    "            l = lines[j].strip()\n",
    "            l = l.replace('  ',' ')\n",
    "            #print(l)\n",
    "            l = f_remove_accents(l)\n",
    "            x = re.search(\"^cle.*espece\", l)\n",
    "            if(x):\n",
    "                print(lines[j])"
   ]
  },
  {
   "cell_type": "code",
   "execution_count": 6,
   "id": "5d371ff5-40b0-4879-b476-79543613fdf9",
   "metadata": {},
   "outputs": [
    {
     "data": {
      "text/plain": [
       "'cle des especes camerounaises et gabonaises'"
      ]
     },
     "execution_count": 6,
     "metadata": {},
     "output_type": "execute_result"
    }
   ],
   "source": [
    "def f_remove_accents(old):\n",
    "    \"\"\"\n",
    "    Removes common accent characters, lower form.\n",
    "    Uses: regex.\n",
    "    \"\"\"\n",
    "    new = old.lower()\n",
    "    new = re.sub(r'[àáâãäå]', 'a', new)\n",
    "    new = re.sub(r'[èéêë]', 'e', new)\n",
    "    new = re.sub(r'[ìíîï]', 'i', new)\n",
    "    new = re.sub(r'[òóôõö]', 'o', new)\n",
    "    new = re.sub(r'[ùúûü]', 'u', new)\n",
    "    return new\n",
    "f_remove_accents(\"CLÉ DES ESPÈCES CAMEROUNAISES ET GABONAISES\")\n"
   ]
  },
  {
   "cell_type": "code",
   "execution_count": null,
   "id": "20bb85a4-3e8f-4480-b855-3bfa9d3b857f",
   "metadata": {},
   "outputs": [],
   "source": [
    "\"ESPÈCES\".lower()"
   ]
  },
  {
   "cell_type": "code",
   "execution_count": 37,
   "id": "ecd822c7-5801-441b-a126-a117df23992d",
   "metadata": {},
   "outputs": [
    {
     "name": "stdout",
     "output_type": "stream",
     "text": [
      "=============================================================\n",
      "data/Flore du Cameroun tome 12 1972 Loganiaceae\n",
      "9\n",
      "cle des especes camerounaises et gabonaises\n",
      "30\n",
      "cle des especes camerounaises et gabonaises\n",
      "49\n",
      "cle des especes camerounaises et gabonaises\n",
      "54\n",
      "cle des especes camerounaises et gabonaises\n"
     ]
    }
   ],
   "source": [
    "famille =[]\n",
    "famille_ = []\n",
    "tailles = []\n",
    "\n",
    "#for f in folder:\n",
    "path = 'data/' + 'Flore du Cameroun tome 12 1972 Loganiaceae'\n",
    "print(\"=============================================================\")\n",
    "print(path)\n",
    "for i in range(len(os.listdir(path))):\n",
    "    with open(path+'/'+ str(i+1) +'.txt', 'r') as fp:\n",
    "        lines = fp.readlines()\n",
    "        #print(\"=================\")\n",
    "        for j in range(len(lines)):\n",
    "            l = lines[j].strip()\n",
    "            l = l.replace('  ',' ')\n",
    "            #print(l)\n",
    "            l = f_remove_accents(l)\n",
    "            x = re.search(\"^cle.*espece\", l)\n",
    "            if(x):\n",
    "                print(i+1)\n",
    "                print(l)"
   ]
  },
  {
   "cell_type": "code",
   "execution_count": 78,
   "id": "2c060c7d-fb38-4015-8752-da5ef43b3954",
   "metadata": {},
   "outputs": [
    {
     "name": "stdout",
     "output_type": "stream",
     "text": [
      "['2. a. laxiflora.']\n",
      "['8. a. vogelii.']\n",
      "['1. a. djalonensis.']\n",
      "['1. a. djalonensis.']\n",
      "['3. a. liebrechtsiana.']\n",
      "['7. a. schweinfurthii.']\n",
      "['6. a. scandens.']\n",
      "['4. a. microphylla.']\n",
      "['5. a. obanensis.']\n"
     ]
    }
   ],
   "source": [
    "with open(path+'/'+ str(9) +'.txt', 'r') as fp:\n",
    "    lines = fp.readlines()\n",
    "    #print(\"=================\")\n",
    "    for j in range(len(lines)):\n",
    "        #print(lines[j])\n",
    "        l = lines[j].strip()\n",
    "        l = l.replace('  ',' ')\n",
    "        #print(l)\n",
    "        l = f_remove_accents(l)\n",
    "        x = re.findall(\"\\d\\.\\s\\w\\.\\s\\w+\\.$\", l)\n",
    "        if(x):\n",
    "            print(x)\n",
    "        #   print(l)"
   ]
  },
  {
   "cell_type": "code",
   "execution_count": 123,
   "id": "ce3edca7-b83c-4cfe-b63d-288fa15132d9",
   "metadata": {},
   "outputs": [
    {
     "name": "stdout",
     "output_type": "stream",
     "text": [
      "[' 0. lecomteanum']\n",
      "[' o. procerum']\n",
      "[' o. elatum']\n",
      "[' o. lecomteanum']\n"
     ]
    }
   ],
   "source": [
    "with open(path+'/'+ str(61) +'.txt', 'r') as fp:\n",
    "    lines = fp.readlines()\n",
    "    #print(\"=================\")\n",
    "    for j in range(len(lines)):\n",
    "        #print(lines[j])\n",
    "        l = lines[j].strip()\n",
    "        l = l.replace('  ',' ')\n",
    "        #print(l)\n",
    "        l = f_remove_accents(l)\n",
    "        x = re.findall(\"\\d\\.\\s\\w\\.\\s\\w+\\.$\", l)\n",
    "        y = re.findall(\"\\s\\w\\.\\s\\w+$\", l)\n",
    "        if(x):\n",
    "            print(x)\n",
    "        if(y):\n",
    "            print(y)\n",
    "        \n",
    "        #   print(l)"
   ]
  },
  {
   "cell_type": "code",
   "execution_count": 104,
   "id": "05888e28-1ce4-4d65-afc3-b3f414314052",
   "metadata": {},
   "outputs": [
    {
     "name": "stdout",
     "output_type": "stream",
     "text": [
      "=============================================================\n",
      "data/Flore du Cameroun tome 2 1964 Sapotacees\n",
      "61\n",
      "clef des especes\n",
      "92\n",
      "clef des especes\n",
      "101\n",
      "clef des especes\n",
      "108\n",
      "clef des especes (i)\n",
      "122\n",
      "clef des especes\n"
     ]
    }
   ],
   "source": [
    "famille =[]\n",
    "famille_ = []\n",
    "tailles = []\n",
    "\n",
    "#for f in folder:\n",
    "path = 'data/' + 'Flore du Cameroun tome 2 1964 Sapotacees'\n",
    "print(\"=============================================================\")\n",
    "print(path)\n",
    "for i in range(len(os.listdir(path))):\n",
    "    with open(path+'/'+ str(i+1) +'.txt', 'r') as fp:\n",
    "        lines = fp.readlines()\n",
    "        #print(\"=================\")\n",
    "        for j in range(len(lines)):\n",
    "            l = lines[j].strip()\n",
    "            l = l.replace('  ',' ')\n",
    "            #print(l)\n",
    "            l = f_remove_accents(l)\n",
    "            x = re.search(\"^cle.*espece\", l)\n",
    "            if(x):\n",
    "                print(i+1)\n",
    "                print(l)"
   ]
  },
  {
   "cell_type": "code",
   "execution_count": 121,
   "id": "bf81f608-9e80-4110-82e6-c3eb8f928b1c",
   "metadata": {},
   "outputs": [
    {
     "name": "stdout",
     "output_type": "stream",
     "text": [
      "[' d. ogowensis']\n",
      "[' d. ubangmensis']\n"
     ]
    }
   ],
   "source": [
    "with open(path+'/'+ str(122) +'.txt', 'r') as fp:\n",
    "    lines = fp.readlines()\n",
    "    #print(\"=================\")\n",
    "    for j in range(len(lines)):\n",
    "        #print(lines[j])\n",
    "        l = lines[j].strip()\n",
    "        l = l.replace('  ',' ')\n",
    "        #print(l)\n",
    "        l = f_remove_accents(l)\n",
    "        x = re.findall(\"\\s\\w\\.\\s\\w+$\", l)\n",
    "        if(x):\n",
    "            print(x)\n",
    "        #   print(l)"
   ]
  },
  {
   "cell_type": "markdown",
   "id": "911aca4f",
   "metadata": {},
   "source": [
    "# create especes dictionnary"
   ]
  },
  {
   "cell_type": "code",
   "execution_count": 13,
   "id": "065c0d4d",
   "metadata": {},
   "outputs": [],
   "source": [
    "def especes_pages(path):\n",
    "    pages = []\n",
    "    for i in range(len(os.listdir(path))):\n",
    "        with open(path+'/'+ str(i+1) +'.txt', 'r') as fp:\n",
    "            lines = fp.readlines()\n",
    "            #print(\"=================\")\n",
    "            for j in range(len(lines)):\n",
    "                l = lines[j].strip()\n",
    "                l = l.replace('  ',' ')\n",
    "                l = f_remove_accents(l)\n",
    "                x = re.search(\"^cle.*espece\", l)\n",
    "                if(x):\n",
    "                    pages.append(i+1)\n",
    "                    pages.append(i+2)\n",
    "                    pages.append(i+3)\n",
    "    return pages"
   ]
  },
  {
   "cell_type": "code",
   "execution_count": 20,
   "id": "4f5d5948",
   "metadata": {},
   "outputs": [],
   "source": [
    "pages = especes_pages(path)"
   ]
  },
  {
   "cell_type": "code",
   "execution_count": 104,
   "id": "db3a0b0b",
   "metadata": {},
   "outputs": [],
   "source": [
    "def get_especes(pages):\n",
    "    especes = []\n",
    "    for p in pages:\n",
    "        with open(path+'/'+ str(p) +'.txt', 'r') as fp:\n",
    "            lines = fp.readlines()\n",
    "            for j in range(len(lines)):\n",
    "                l = lines[j].strip()\n",
    "                l = l.replace('  ',' ')\n",
    "                l = f_remove_accents(l)\n",
    "                x = re.findall(\"\\s\\w\\.\\s\\w+$\", l)\n",
    "                if(x):\n",
    "                    especes.append(x)\n",
    "    especes = np.array(especes).reshape(-1)\n",
    "    especes = [esp.strip().split(' ')[1] for esp in especes]\n",
    "    return especes\n",
    "\n",
    "def preprocess(line):\n",
    "    l = line.strip()\n",
    "    l = l.replace('  ',' ')\n",
    "    #l = f_remove_accents(l)\n",
    "    return l"
   ]
  },
  {
   "cell_type": "code",
   "execution_count": 64,
   "id": "67020966",
   "metadata": {},
   "outputs": [],
   "source": [
    "especes = get_especes(pages)"
   ]
  },
  {
   "cell_type": "code",
   "execution_count": 107,
   "id": "2476d5dd",
   "metadata": {},
   "outputs": [
    {
     "name": "stdout",
     "output_type": "stream",
     "text": [
      "['3. Omphalocarpum Lecomteanum Pierre ex Engl.']\n"
     ]
    }
   ],
   "source": [
    "query = \"Lecomteanum\"\n",
    "with open(path+'/'+ str(65) +'.txt', 'r') as fp:\n",
    "    lines = fp.readlines()\n",
    "    for j in range(len(lines)):\n",
    "        l = preprocess(lines[j])\n",
    "        contains = l.find(query) != -1\n",
    "        if contains:\n",
    "            x = re.findall(\"^\\d\\.\\s[A-Z].*\", l)\n",
    "            if(x):\n",
    "                full_name = x\n",
    "                print(full_name)"
   ]
  },
  {
   "cell_type": "code",
   "execution_count": 118,
   "id": "8b19c8ac",
   "metadata": {},
   "outputs": [],
   "source": [
    "def get_especes_names(especes, path):\n",
    "    esp_names = []\n",
    "    for i in range(len(os.listdir(path))):\n",
    "        with open(path+'/'+ str(i+1) +'.txt', 'r') as fp:\n",
    "            lines = fp.readlines()\n",
    "            for j in range(len(lines)):\n",
    "                l = preprocess(lines[j])\n",
    "                for esp in especes:\n",
    "                    contains = l.find(esp.capitalize()) != -1 or l.find(esp) != -1 \n",
    "                    if contains:\n",
    "                        x = re.findall(\"^[1-9]\\.\\s[A-Z].*\", l)\n",
    "                        if(x):\n",
    "                            full_name = x[0].strip()[2:]\n",
    "                            esp_names.append(full_name)\n",
    "    return esp_names"
   ]
  },
  {
   "cell_type": "code",
   "execution_count": 120,
   "id": "8a74a6fb",
   "metadata": {},
   "outputs": [
    {
     "data": {
      "text/plain": [
       "[' Manilkara Zenkeri Lecomte ex Aubr. et Pellegr.',\n",
       " ' Manilkara Welwitschii (Engl.) Dubard',\n",
       " ' Manilkara Letouzei Aubr.',\n",
       " ' Omphalocarpum procerum P. Beauv.',\n",
       " ' Omphalocarpum elatum Miers',\n",
       " ' Omphalocarpum Lecomteanum Pierre ex Engl.',\n",
       " ' Omphalocarpum Lecomteanum Pierre ex Engl.',\n",
       " ' Synsepalum Letouzei Aubr.',\n",
       " ' Synsepalurn dulcificum (Schum.) Bâillon',\n",
       " ' Synsepalum Zenkeri Aubr. et Pellegr.',\n",
       " ' Synsepalum Batesii (A. Chev.) Aubr. et Pellegr.',\n",
       " ' Synsepalum longecuneatum De Wild.',\n",
       " ' Vincentella revoluta (Bak.) Pierre',\n",
       " ' Vincentella Passargei (Engl.) Aubr.',\n",
       " ' Vincentella Brenanii Heine',\n",
       " ' G. gigantea',\n",
       " ' Gambeya Lacourtiana (De Wild.) Aubr. et Pellegr.',\n",
       " ' Gambeya boukokoensis Aubr. et Pellegr.',\n",
       " ' Gambeya gigantea (A. Chev.) Aubr. et Pellegr.',\n",
       " ' Gambeya albida (G. Don) Aubr. et Pellegr.',\n",
       " ' Gambeya subnuda (Bak.) Pierre',\n",
       " ' Gambeya africana (Baker) Pierre',\n",
       " ' Gambeya perpulchra (Mildbr.) Aubr. et Pellegr.',\n",
       " ' Gambeya Beguei (Aubr. et Pellegr.) Aubr. et Pellegr.',\n",
       " ' D. ogowensis',\n",
       " ' Donella ogowensis (A. Chev.) Aubr. et Pellegr.',\n",
       " ' Donella pruniformis (Pierre ex Engl.) Aubr. et Pellegr.',\n",
       " ' Donella Welwitschii (Engl.) Pierre ex Aubr. et Pellegr.']"
      ]
     },
     "execution_count": 120,
     "metadata": {},
     "output_type": "execute_result"
    }
   ],
   "source": [
    "get_especes_names(especes, path)"
   ]
  },
  {
   "cell_type": "code",
   "execution_count": 111,
   "id": "1cdc7b2c",
   "metadata": {},
   "outputs": [
    {
     "data": {
      "text/plain": [
       "['lecomteanum',\n",
       " 'procerum',\n",
       " 'elatum',\n",
       " 'lecomteanum',\n",
       " 'subcordatum',\n",
       " 'letouzei',\n",
       " 'dulcificum',\n",
       " 'zenkeri',\n",
       " 'batesii',\n",
       " 'longecuneatum',\n",
       " 'revoluta',\n",
       " 'passargei',\n",
       " 'brenanii',\n",
       " 'lacourtiana',\n",
       " 'boukokoensis',\n",
       " 'gigantea',\n",
       " 'albida',\n",
       " 'subnuda',\n",
       " 'africana',\n",
       " 'perpulchra',\n",
       " 'beguei',\n",
       " 'ogowensis',\n",
       " 'ubangmensis',\n",
       " 'pruniformis',\n",
       " 'welwitschii']"
      ]
     },
     "execution_count": 111,
     "metadata": {},
     "output_type": "execute_result"
    }
   ],
   "source": [
    "especes"
   ]
  },
  {
   "cell_type": "code",
   "execution_count": 62,
   "id": "f0e27bf0",
   "metadata": {},
   "outputs": [
    {
     "name": "stdout",
     "output_type": "stream",
     "text": [
      "['lecomteanum', 'procerum', 'elatum', 'lecomteanum', 'subcordatum', 'letouzei', 'dulcificum', 'zenkeri', 'batesii', 'longecuneatum', 'revoluta', 'passargei', 'brenanii', 'lacourtiana', 'boukokoensis', 'gigantea', 'albida', 'subnuda', 'africana', 'perpulchra', 'beguei', 'ogowensis', 'ubangmensis', 'pruniformis', 'welwitschii']\n"
     ]
    }
   ],
   "source": [
    "import numpy \n",
    "\n",
    "\n",
    "especes = np.array(especes).reshape(-1)\n",
    "especes = [esp.strip().split(' ')[1] for esp in especes]\n",
    "print(especes)"
   ]
  },
  {
   "cell_type": "markdown",
   "id": "3f711e01-19e4-4e0c-8cdc-d63c24f007ac",
   "metadata": {},
   "source": [
    "# find organes"
   ]
  },
  {
   "cell_type": "code",
   "execution_count": 1,
   "id": "9836ce54-5ad8-42e1-8a8b-9ef2d174d2c1",
   "metadata": {},
   "outputs": [],
   "source": [
    "organes = [\n",
    "    \"racine\",\n",
    "    \"tige\",\n",
    "    \"bourgeons\",\n",
    "    \"rhizome\",\n",
    "    \"tubercule\",\n",
    "    \"bulbe\",\n",
    "    \"collet\",\n",
    "    \"limbe\",\n",
    "    \"petiole\",\n",
    "    \"sessile\",\n",
    "    \"foliole\",\n",
    "    \"calice\",\n",
    "    \"sepale\",\n",
    "    \"calicule\",\n",
    "    \"tepale\",\n",
    "    \"corolle\"\n",
    "]"
   ]
  },
  {
   "cell_type": "code",
   "execution_count": 9,
   "id": "3abdc9f5-57e2-404f-a75c-8750bb2bada5",
   "metadata": {},
   "outputs": [],
   "source": [
    "def get_organ(line, organ):\n",
    "    l = line.strip()\n",
    "    l = l.replace('  ',' ')\n",
    "    l = f_remove_accents(l)\n",
    "    start = line.find(organ)\n",
    "    if start == -1:\n",
    "        return None\n",
    "    else:\n",
    "        return (line.find(organ), line.find(organ) +len(organ))  "
   ]
  },
  {
   "cell_type": "code",
   "execution_count": 10,
   "id": "fd3a7a59-e5fa-4004-9138-0cf30422079d",
   "metadata": {},
   "outputs": [
    {
     "name": "stdout",
     "output_type": "stream",
     "text": [
      "=============================================================\n",
      "data/Flore du Cameroun tome 2 1964 Sapotacees\n",
      "(0, 7)\n",
      "petiole 1,5-2 cm long i- m. zenkeri\n",
      "(0, 7)\n",
      "petiole court, 5-xo mm long. feuilles petites ou relativement\n",
      "(0, 7)\n",
      "petiole long, 1,5 a 5 cm :\n",
      "(22, 29)\n",
      "long et 5,5 cm large. petiole 2-4 cm long. nervures fines mais visi-\n",
      "(21, 28)\n",
      "long sur 8 cm large. petiole 1 -2 cm long -h bord de mer -jh\n",
      "(21, 28)\n",
      "long sur 6 cm large. petiole 1-2 cm long. fleurs a pedi-\n",
      "(0, 7)\n",
      "petiole court, 5-io mm long. feuilles petites ou relativement petites,\n",
      "(0, 7)\n",
      "petiole relativement long ou long :\n",
      "(19, 26)\n",
      "obtus et emargine. petiole i,5-2 cm long. environ i5 paires de\n",
      "(9, 16)\n",
      "dessous. petiole court, grele, 5-10 mm long.\n",
      "(0, 7)\n",
      "petiole, i,5-5 cm de long.\n",
      "(41, 48)\n",
      "a l'action des feux de brousses annuels. petiole jusqu'a 4 cm\n",
      "(46, 53)\n",
      "gris argente dessous, atteignant i5 x 5,5 cm. petiole 2-3 cm.\n",
      "(55, 62)\n",
      "fines, peu visibles, presque droites jusqu'a la marge. petiole\n",
      "(0, 7)\n",
      "petiole jusqu'a 2 cm de long.\n",
      "(57, 64)\n",
      "sibles en dessous sous le feutrage des poils en navette. petiole\n",
      "(0, 7)\n",
      "petiole plus long.\n",
      "(40, 47)\n",
      "temps sur la nervure mediane et vers le petiole. nombreuses et\n",
      "(26, 33)\n",
      "fines nervures laterales. petiole i,5-3 cm long.\n",
      "(11, 18)\n",
      "laterales. petiole i-i,5 cm long.\n",
      "(15, 22)\n",
      "des nervilles. petiole grele, atteignant 4-5 cm long, canalicule\n",
      "(40, 47)\n",
      "cuneiforme brievement decurrente sur le petiole, de 8-16 cm long,\n",
      "(44, 51)\n",
      "18 paires de nervures secondaires effacees. petiole grele, de r,5 a\n",
      "(0, 7)\n",
      "petiole 3-4 cm.\n",
      "(0, 7)\n",
      "petiole tres long, 3,5-io cm long.\n",
      "(9, 16)\n",
      "glabres. petiole, env. 2 cm. nervure mediane saillante dessous.\n",
      "(31, 38)\n",
      "fine caracteristique du genre. petiole 2-4 cm long.\n",
      "(36, 43)\n",
      "longuement cuneiformes tres aigues; petiole long et grele. 6-7 paires\n",
      "(40, 47)\n",
      "apparentes sur la face superieure mate. petiole court o. elatum\n",
      "(18, 25)\n",
      "rieure brillante. petiole 1-1,8 cm o. lecomteanum\n",
      "(14, 21)\n",
      "rentes sur le petiole, 8-i3 cm long, 3-5 cm large, glabres; 6-7\n",
      "(32, 39)\n",
      "paires de nervures secondaires. petiole long et grele pouvant\n",
      "(37, 44)\n",
      "sur la face superieure qui est mate. petiole court.\n",
      "(9, 16)\n",
      "seches). petiole 1-1,8 cm, fort, plan convexe.\n",
      "(51, 58)\n",
      "et non cuneiformes aigues a la base, distinctement petiolees et\n",
      "(38, 45)\n",
      "nervilles et veinules accuse dessous. petiole relativement long :\n",
      "(0, 7)\n",
      "petiole i,5-2,5 cm.\n",
      "(23, 30)\n",
      "nuees a la base, et le petiole est typiquement court. dans la dia-\n",
      "(23, 30)\n",
      "terisant une variete a petioles courts, est a mon avis plutot le\n",
      "(38, 45)\n",
      "laterales paralleles, peu apparentes. petiole env. 1 cm, pubescent\n",
      "(44, 51)\n",
      "sous. nombreuses nervures laterales, fines. petiole i,5 cm.\n",
      "(37, 44)\n",
      "tomentum ferrugineux, puis grisatre. petiole i-i,5 cm long.\n",
      "(3, 10)\n",
      "le petiole, glabre, membraneux, de 6-13 cm long, 2,5-4 cm large.\n",
      "(50, 57)\n",
      "io-i5 paires, effacees. nervilles inappreciables. petiole, env. 1 cm,\n",
      "(0, 7)\n",
      "petioles courts et forts.\n",
      "(42, 49)\n",
      "proeminentes dessous. nervilles effacees. petiole tres court.\n",
      "(0, 7)\n",
      "petiole :\n",
      "(3, 10)\n",
      "3. petioles longs, 2-4. cm et parfois plus :\n",
      "(14, 21)\n",
      "4. tres longs petioles, ordinairement 5-6 cm. feuilles oblongues,\n",
      "(4, 11)\n",
      "4'. petioles de 2-4 cm :\n",
      "(41, 48)\n",
      "7. 20-25 paires de nervures secondaires. petiole velu. bour-\n",
      "(4, 11)\n",
      "3'. petioles moyens ou courts ayant ordinairement moins de 2 cm :\n",
      "(39, 46)\n",
      "8. feuilles oblongues assez courtement petiolees. traces en dessous\n",
      "(35, 42)\n",
      "12 cm large, gris argente dessous. petiole court, 6-8 mm. nervures\n",
      "(43, 50)\n",
      "secondaires saillantes dessous. tres court petiole de 5 mm.\n",
      "(53, 60)\n",
      "arceaux pres de la marge. nervilles paralleles. long petiole,\n",
      "(56, 63)\n",
      "paralleles obliques par rapport aux nervures laterales. petiole\n",
      "(35, 42)\n",
      "la base, un peu decurrentes sur le petiole, env. 14 cm long et\n",
      "(25, 32)\n",
      "paralleles peu accusees. petiole plan-convexe, env. 2 cm.\n",
      "(67, 74)\n",
      "pedicelles greles, un peu pubescents appriraes, environ i cm long. petioles\n",
      "(32, 39)\n",
      "pedicelles courts, env. 2-3 mm. petioles densement velus en permanence :\n",
      "(57, 64)\n",
      "12-14 paires de nervures secondaires saillantes dessous. petioles\n",
      "(20, 27)\n",
      "feuilles larges. le petiole demeure toujours couvert d'un epais\n",
      "(48, 55)\n",
      "nervures tertiaires paralleles aux prededentes. petiole : 1 a 2 cm\n",
      "(27, 34)\n",
      "les jeunes feuilles. longs petioles, 2-3 cm. feuilles oblongues,\n",
      "(53, 60)\n",
      "tomenteux gris. tres jeunes feuilles glabres sauf le petiole vetu\n",
      "(44, 51)\n",
      "n-36 cm long et 4,5-12,5 cm large, glabres. petiole 2-3 cm long,\n",
      "(0, 7)\n",
      "petiole i,5-2 cm long, tomenteux.\n",
      "(51, 58)\n",
      "ou grandes, de 10 x 3 cm, jusqu'a 38 x 10 cm. fort petiole de\n",
      "(63, 70)\n",
      "dessous. reseau de fines veinules visibles sur les deux faces. petiole\n",
      "(21, 28)\n",
      "marge, i5-3o paires. petiole tomenteux roussatre, 1,5-2,5 cm long.\n",
      "(35, 42)\n",
      "dessous. nervilles inappreciables. petiole tomenteux roux de\n",
      "(57, 64)\n",
      "tion sensiblement perpendiculaire a l'axe de la feuille. petiole\n",
      "(64, 71)\n",
      "breuses, tres fines, tres serrees, visibles sur les deux faces. petiole\n",
      "(20, 27)\n",
      "nervures laterales. petiole o,5-i cm long, grele.\n",
      "(63, 70)\n",
      "leles saillantes dessous. limbe crible de points translucides. petiole\n",
      "(32, 39)\n",
      "repliees tres pres de la marge. petioles courts, env. 5 mm long.\n",
      "(11, 18)\n",
      "marginale. petiole 1-2 cm long, d'abord un peu pubescent gri-\n",
      "(34, 41)\n",
      "le fond vert clair de la feuille. petiole veloute, 8-10 mm long.\n"
     ]
    }
   ],
   "source": [
    "famille =[]\n",
    "famille_ = []\n",
    "tailles = []\n",
    "\n",
    "#for f in folder:\n",
    "path = 'data/' + 'Flore du Cameroun tome 2 1964 Sapotacees'\n",
    "print(\"=============================================================\")\n",
    "print(path)\n",
    "for i in range(len(os.listdir(path))):\n",
    "    with open(path+'/'+ str(i+1) +'.txt', 'r') as fp:\n",
    "        lines = fp.readlines()\n",
    "        #print(\"=================\")\n",
    "        for j in range(len(lines)):\n",
    "            l = lines[j].strip()\n",
    "            l = l.replace('  ',' ')\n",
    "            #print(l)\n",
    "            l = f_remove_accents(l)\n",
    "            ind = get_organ(l, \"petiole\")\n",
    "            if(ind != None):\n",
    "                print(ind)\n",
    "                print(l)"
   ]
  },
  {
   "cell_type": "code",
   "execution_count": 9,
   "id": "244b2385-dd3b-4ab1-a4d3-114822c747a6",
   "metadata": {},
   "outputs": [],
   "source": [
    "import spacy"
   ]
  },
  {
   "cell_type": "code",
   "execution_count": 10,
   "id": "3e556c25-d3f6-41bc-97a4-39dfe66075cf",
   "metadata": {},
   "outputs": [],
   "source": [
    "from nltk.tokenize import sent_tokenize"
   ]
  },
  {
   "cell_type": "code",
   "execution_count": 11,
   "id": "91c97b17",
   "metadata": {},
   "outputs": [],
   "source": [
    "sentences = sent_tokenize(content)"
   ]
  },
  {
   "cell_type": "code",
   "execution_count": 17,
   "id": "f74bd3a3",
   "metadata": {},
   "outputs": [
    {
     "name": "stdout",
     "output_type": "stream",
     "text": [
      "Feuilles obovées oblongues à oblancéolées, arrondies ou obtusément acuminées au sommet, atténuées et cunéiformes à la base, 12-25 cm long, 4-8 cm large, glabres.\n",
      "================\n",
      "Environ 10 paires de nervures secondaires, saillantes dessous.\n",
      "================\n",
      "Nervilles peu apparentes sur la face supérieure qui est mate.\n",
      "================\n",
      "Pétiole court.\n",
      "================\n",
      "Fleurs à pédicelles de i cm env.\n",
      "================\n",
      "Sépales épais, vert jaunâtre, glabres ou glabrescents.\n",
      "================\n",
      "Corolle blanche, longue de 1,8 cm environ; lobes elliptiques, ciliés sur les bords, n mm; tube 6 mm.\n",
      "================\n",
      "Fleurs hermaphrodites : 5-6 étamines par faisceau, aussi longues que les lobes.\n",
      "================\n",
      "Dans les fleurs femelles, ces étamines sont remplacées par des staminodes subulés.\n",
      "================\n",
      "Ovaire glabre.\n",
      "================\n",
      "Une trentaine de loges uniovulées autour de la partie centrale évidée.\n",
      "================\n",
      "Gros fruits subglobuleux aplat îs, gris brunâtre, environ i5 cm diamètre et 8 cm haut.\n",
      "================\n",
      "Certains pèsent à l'état frais plus de 2 kg.\n",
      "================\n",
      "Ils sont durs extérieurement et contiennent, à l'intérieur d'une pulpe blanchâtre, de nombreuses graines noires plates, elliptiques, de 4 cm long env.\n",
      "================\n",
      "et 2,5 cm large, à cicatrice linéaire ventrale (i).\n",
      "================\n",
      "— PL.\n",
      "================\n",
      "XI.\n",
      "================\n",
      "NOMS VERNACULAIRES : abo, aboc (yaoundé), pimbi (douala), bélé (bassa).\n",
      "================\n",
      "MATÉRIEL CAMEROUNAIS ÉTUDIÉ : Mann n° 712, Cameroun riv.\n",
      "================\n",
      "; 815, Bagroo riv.\n",
      "================\n",
      "Fleury n° 33275, Douala, commun.\n",
      "================\n",
      "Hédin n° 1648 (fr.\n",
      "================\n",
      "janv.).\n",
      "================\n",
      "Foury n° 112, Yaoundé.\n",
      "================\n",
      "Jacques-Félix n° 2461.\n",
      "================\n",
      "Zenker n° 45o, 2258 Bipindi.\n",
      "================\n",
      "3.\n",
      "================\n",
      "Omphalocarpum Lecomteanum Pierre ex Engl.\n",
      "================\n",
      "Sapotacées africaines : i5 (1904).\n",
      "================\n",
      "= O. bomanehensis De Wild., Miss.\n",
      "================\n",
      "Em.\n",
      "================\n",
      "Laurent, 1 : 422 (1907).\n",
      "================\n",
      "= O. injoloënse De Wild., Rev.\n",
      "================\n",
      "Zool.\n",
      "================\n",
      "Afr., 7 : Suppl.\n",
      "================\n",
      "Bot.\n",
      "================\n",
      ": 7 (1919)?\n",
      "================\n",
      "= O. Mildbraedii Engler et Krause, Engl.\n",
      "================\n",
      "Jahrb.\n",
      "================\n",
      ": 381 (igi3).\n",
      "================\n",
      "= O.\n",
      "================\n",
      "Le Testui Aubr.\n",
      "================\n",
      "et Pellegr., AUBRÉVILLE Not.\n",
      "================\n",
      "Syst.\n",
      "================\n",
      "16, 3-4 : 273 (I960); Fl.\n",
      "================\n",
      "Gabon, 1 : 79 (1961).\n",
      "================\n",
      "(1) Des fruits mûrs récoltés au Gabon (Le Testu n° 7447, Hallé et Cours n° 5996), sont nettement plus petits, 8-9 cm de diamètre, 7 cm d'épaisseur et de couleur brun noirâtre.\n",
      "================\n",
      "Ils sont typiquement déprimés au sommet.\n",
      "================\n"
     ]
    }
   ],
   "source": [
    "for s in sentences:\n",
    "    s = s.strip()\n",
    "    s = s.replace(\" \\n\", \" \")\n",
    "    s = s.replace(\"-\\n\", \"\")\n",
    "    print(s)\n",
    "    print(\"================\")"
   ]
  },
  {
   "cell_type": "markdown",
   "id": "e10eb824-bdc3-4bda-a763-894cfcdb4bc1",
   "metadata": {},
   "source": [
    "# Tesseract OCR"
   ]
  },
  {
   "cell_type": "code",
   "execution_count": null,
   "id": "c2a08c52-cb42-427e-9049-ed071f36c106",
   "metadata": {},
   "outputs": [],
   "source": [
    "import os\n",
    "from PIL import Image\n",
    "from pdf2image import convert_from_path\n",
    "import pytesseract\n",
    "\n",
    "pytesseract.pytesseract.tesseract_cmd =r'C:\\Users\\NEW-USER\\AppData\\Local\\Tesseract-OCR\\tesseract.exe'\n",
    "poppler_path = r\"C:\\Users\\NEW-USER\\AppData\\Local\\poppler-22.04.0\\Library\\bin\""
   ]
  },
  {
   "cell_type": "code",
   "execution_count": null,
   "id": "8532e605-5612-4bc4-ae91-70ac0fcc0973",
   "metadata": {},
   "outputs": [],
   "source": [
    "from pdf2image import convert_from_path\n",
    "from pytesseract import image_to_string\n",
    "from PIL import Image"
   ]
  },
  {
   "cell_type": "code",
   "execution_count": null,
   "id": "b2dc70a5-4247-4ced-bf2a-ed433f2b7484",
   "metadata": {},
   "outputs": [],
   "source": [
    "def convert_pdf_img(pdf_file):\n",
    "    return convert_from_path(pdf_file, poppler_path = poppler_path)\n",
    "def convert_img_txt(file):\n",
    "    text = image_to_string(file)\n",
    "    return text\n",
    "\n",
    "def get_text_from_any_pdf(pdf_file):\n",
    "    images = convert_pdf_img(pdf_file)\n",
    "    final_text = \"\"\n",
    "    for pg,img in enumerate(images):\n",
    "        print(pg)\n",
    "        final_text += convert_img_txt(img)\n",
    "    return final_text"
   ]
  },
  {
   "cell_type": "code",
   "execution_count": null,
   "id": "5e23dfac-c7b1-4aca-abd5-1a5dd6ec2d0d",
   "metadata": {},
   "outputs": [],
   "source": [
    "path_pdf = 'data/Flore du Cameroun tome 10 1970 Ombellales.pdf'\n",
    "pdf1 = get_text_from_any_pdf(path_pdf)\n",
    "print(pdf1)"
   ]
  }
 ],
 "metadata": {
  "kernelspec": {
   "display_name": "Python 3 (ipykernel)",
   "language": "python",
   "name": "python3"
  },
  "language_info": {
   "codemirror_mode": {
    "name": "ipython",
    "version": 3
   },
   "file_extension": ".py",
   "mimetype": "text/x-python",
   "name": "python",
   "nbconvert_exporter": "python",
   "pygments_lexer": "ipython3",
   "version": "3.8.12"
  }
 },
 "nbformat": 4,
 "nbformat_minor": 5
}

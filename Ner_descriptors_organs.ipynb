{
 "cells": [
  {
   "cell_type": "code",
   "execution_count": 1,
   "id": "5483104e-f25e-48a1-a88d-789582664090",
   "metadata": {},
   "outputs": [],
   "source": [
    "import pandas as ps\n",
    "import numpy as np \n",
    "import os\n",
    "import re"
   ]
  },
  {
   "cell_type": "code",
   "execution_count": 2,
   "id": "461a607d-cb3b-40c4-b962-3eaf8f487823",
   "metadata": {},
   "outputs": [],
   "source": [
    "folder = []\n",
    "for item in os.listdir('data'):\n",
    "    if(len(item.split('.')) == 1):\n",
    "        folder.append(item)"
   ]
  },
  {
   "cell_type": "code",
   "execution_count": 3,
   "id": "a8aa7ff8-6509-4472-9fe1-e820116cf77f",
   "metadata": {},
   "outputs": [
    {
     "data": {
      "text/plain": [
       "['Flore du Cameroun tome 10 1970 Ombellales',\n",
       " 'Flore du Cameroun tome 12 1972 Loganiaceae',\n",
       " 'Flore du Cameroun tome 16 1973 Sapindaceae',\n",
       " 'Flore du Cameroun tome 17 1974 Amaranthaceae',\n",
       " 'Flore du Cameroun tome 2 1964 Sapotacees',\n",
       " 'Flore du Cameroun tome 6 1967 Cucurbitaceae',\n",
       " 'Flore du Cameroun tome 9 1970 Caesalpinioidae']"
      ]
     },
     "execution_count": 3,
     "metadata": {},
     "output_type": "execute_result"
    }
   ],
   "source": [
    "folder"
   ]
  },
  {
   "cell_type": "markdown",
   "id": "3f711e01-19e4-4e0c-8cdc-d63c24f007ac",
   "metadata": {},
   "source": [
    "# =================================\n",
    "# Find organes and descriptors"
   ]
  },
  {
   "cell_type": "code",
   "execution_count": 4,
   "id": "cc3c79fb",
   "metadata": {},
   "outputs": [],
   "source": [
    "from bs4 import BeautifulSoup as bs\n",
    "import requests\n",
    "\n",
    "url=\"https://fr.wikipedia.org/wiki/Glossaire_de_botanique\"\n",
    "response = requests.get(url)\n",
    "\n",
    "html = response.content\n",
    "\n",
    "soup = bs(html, 'lxml')\n"
   ]
  },
  {
   "cell_type": "code",
   "execution_count": 5,
   "id": "fb774666",
   "metadata": {},
   "outputs": [],
   "source": [
    "def get_glossaire(soup):\n",
    "    glossaire = []\n",
    "    div = soup.find(\"div\", {\"class\" : \"mw-parser-output\"})\n",
    "    uls = div.find_all(\"ul\")\n",
    "    for i, ul in enumerate(uls):\n",
    "        lis = ul.find_all(\"li\")\n",
    "        for li in lis:\n",
    "            if li.find(\"b\") != None:\n",
    "                noun = li.get_text().split(':')[0][:-1].strip()\n",
    "                if re.search(\"adjectif\",li.get_text()) or re.search(\"se dit\\s\",li.get_text()) or re.search(\"é$\",noun) or re.search(\"qualifie\\s\",li.get_text()):\n",
    "                    glossaire.append((noun.split(' ')[0].lower(), \"adj\"))\n",
    "                    #print(noun.strip().split(' ')[0].lower() + ': adj')\n",
    "                else:\n",
    "                    glossaire.append((noun.split(' ')[0].lower(), \"noun\"))\n",
    "                    #print(noun.strip().split(' ')[0].lower() + ': adj')\n",
    "    return glossaire"
   ]
  },
  {
   "cell_type": "code",
   "execution_count": 6,
   "id": "cf523ff4",
   "metadata": {},
   "outputs": [],
   "source": [
    "glossaire = get_glossaire(soup)"
   ]
  },
  {
   "cell_type": "code",
   "execution_count": 7,
   "id": "a6018e48",
   "metadata": {},
   "outputs": [
    {
     "data": {
      "text/plain": [
       "[('abaxial', 'adj'),\n",
       " ('aberrant', 'adj'),\n",
       " ('abortif', 'adj'),\n",
       " ('abrévié', 'adj'),\n",
       " ('abruptement', 'noun'),\n",
       " ('abscise', 'noun'),\n",
       " ('absciser', 'noun'),\n",
       " ('abscisse', 'noun'),\n",
       " ('abscission', 'noun'),\n",
       " ('acanthocarpe', 'adj')]"
      ]
     },
     "execution_count": 7,
     "metadata": {},
     "output_type": "execute_result"
    }
   ],
   "source": [
    "glossaire[:10]"
   ]
  },
  {
   "cell_type": "code",
   "execution_count": 8,
   "id": "9836ce54-5ad8-42e1-8a8b-9ef2d174d2c1",
   "metadata": {},
   "outputs": [],
   "source": [
    "organes = [\n",
    "    \"racine\",\n",
    "    \"tige\",\n",
    "    \"bourgeon\",\n",
    "    \"rhizome\",\n",
    "    \"tubercule\",\n",
    "    \"bulbe\",\n",
    "    \"collet\",\n",
    "    \"limbe\",\n",
    "    \"lobe\",\n",
    "    \"pétiole\",\n",
    "    \"sessile\",\n",
    "    \"foliole\",\n",
    "    \"calice\",\n",
    "    \"sépale\",\n",
    "    \"calicule\",\n",
    "    \"corolle\",\n",
    "    \"anthère\"\n",
    "    \"tépale\",\n",
    "    \"stipule\",\n",
    "    \"foliole\",\n",
    "    \"carpelle\",\n",
    "    \"grappe \",\n",
    "    \"vrille\",\n",
    "    \"feuille\"\n",
    "]"
   ]
  },
  {
   "cell_type": "code",
   "execution_count": 9,
   "id": "a53d8a6b",
   "metadata": {},
   "outputs": [],
   "source": [
    "adjs = [gls[0].lower() for gls in glossaire if gls[1] == \"adj\"]\n",
    "nouns = [gls[0].lower() for gls in glossaire if gls[1] == \"noun\"]"
   ]
  },
  {
   "cell_type": "code",
   "execution_count": 10,
   "id": "4fdde548",
   "metadata": {},
   "outputs": [],
   "source": [
    "from nltk import pos_tag, word_tokenize\n",
    "from nltk.stem.snowball import SnowballStemmer\n",
    "stemmer = SnowballStemmer(language='french')"
   ]
  },
  {
   "cell_type": "markdown",
   "id": "b756a590",
   "metadata": {},
   "source": [
    "Espèce"
   ]
  },
  {
   "cell_type": "code",
   "execution_count": 11,
   "id": "5e932232",
   "metadata": {},
   "outputs": [],
   "source": [
    "def f_remove_accents(old):\n",
    "    \"\"\"\n",
    "    Removes common accent characters, lower form.\n",
    "    Uses: regex.\n",
    "    \"\"\"\n",
    "    new = old.lower()\n",
    "    new = re.sub(r'[àáâãäå]', 'a', new)\n",
    "    new = re.sub(r'[èéêë]', 'e', new)\n",
    "    new = re.sub(r'[ìíîï]', 'i', new)\n",
    "    new = re.sub(r'[òóôõö]', 'o', new)\n",
    "    new = re.sub(r'[ùúûü]', 'u', new)\n",
    "    return new"
   ]
  },
  {
   "cell_type": "code",
   "execution_count": 12,
   "id": "131741fc",
   "metadata": {},
   "outputs": [],
   "source": [
    "def especes_pages(path):\n",
    "    pages = []\n",
    "    for i in range(len(os.listdir(path))):\n",
    "        with open(path+'/'+ str(i+1) +'.txt', 'r') as fp:\n",
    "            lines = fp.readlines()\n",
    "            #print(\"=================\")\n",
    "            for j in range(len(lines)):\n",
    "                l = lines[j].strip()\n",
    "                l = l.replace('  ',' ')\n",
    "                l = f_remove_accents(l)\n",
    "                x = re.search(\"cle.?\\sdes\\sespece\", l)\n",
    "                if(x):\n",
    "                    pages.append(i+1)\n",
    "                    pages.append(i+2)\n",
    "                    pages.append(i+3)\n",
    "    return pages"
   ]
  },
  {
   "cell_type": "code",
   "execution_count": 13,
   "id": "1c6347e1",
   "metadata": {},
   "outputs": [],
   "source": [
    "def get_especes(pages):\n",
    "    especes = []\n",
    "    for p in pages:\n",
    "        with open(path+'/'+ str(p) +'.txt', 'r') as fp:\n",
    "            lines = fp.readlines()\n",
    "            for j in range(len(lines)):\n",
    "                l = lines[j].strip()\n",
    "                l = l.replace('  ',' ')\n",
    "                l = f_remove_accents(l)\n",
    "                x = re.findall(\"\\s\\w\\.\\s\\w+$\", l)\n",
    "                x = re.findall(\"[A-Za-z0-9]\\.\\s\\w\\.\\s\\w+\\.?$\", l)\n",
    "                if(x):\n",
    "                    especes.append(x)\n",
    "    especes = np.array(especes).reshape(-1)\n",
    "    esp = [esp.strip().split(' ')[2][:-1] for esp in especes]\n",
    "    initials = [esp.strip().split(' ')[1][:-1].upper() for esp in especes]\n",
    "    return esp, initials\n",
    "\n",
    "def preprocess(line):\n",
    "    l = line.strip()\n",
    "    l = l.replace('  ',' ')\n",
    "    #l = f_remove_accents(l)\n",
    "    return l\n"
   ]
  },
  {
   "cell_type": "code",
   "execution_count": 14,
   "id": "1b77400e",
   "metadata": {},
   "outputs": [],
   "source": [
    "def get_especes_names(especes, initials, path):\n",
    "    esp_names = []\n",
    "    for i in range(len(os.listdir(path))):\n",
    "        with open(path+'/'+ str(i+1) +'.txt', 'r') as fp:\n",
    "            lines = fp.readlines()\n",
    "            for j in range(len(lines)):\n",
    "                l = preprocess(lines[j])\n",
    "                for i, esp in enumerate(especes):\n",
    "                    contains = l.find(esp.capitalize()) != -1 or l.find(esp) != -1 \n",
    "                    if contains:\n",
    "                        exp = \"^[1-9]\\.\\s{}[a-z]+.*\".format(initials[i])\n",
    "                        x = re.findall(exp, l)\n",
    "                        if(x):\n",
    "                            full_name = x[0].strip()[3:]\n",
    "                            full_name = full_name.split(' ')[0]+' '+full_name.split(' ')[1]\n",
    "                            esp_names.append(full_name)\n",
    "    return esp_names"
   ]
  },
  {
   "cell_type": "code",
   "execution_count": 15,
   "id": "54c29912",
   "metadata": {},
   "outputs": [],
   "source": [
    "def espece_(especes, initials, path,l):\n",
    "    esp_names = []\n",
    "    pos=[]\n",
    "    l = preprocess(l)\n",
    "    for i, esp in enumerate(especes):\n",
    "        contains = l.find(esp.capitalize()) != -1 or l.find(esp) != -1 \n",
    "        if contains:\n",
    "            exp = \"^[1-9]\\.\\s{}[a-z]+.*\".format(initials[i])\n",
    "            x = re.findall(exp, l)\n",
    "            if(x):\n",
    "                full_name = x[0].strip()[3:]\n",
    "                full_name = full_name.split(' ')[0]+' '+full_name.split(' ')[1]\n",
    "                start = [m.start() for m in re.finditer(full_name, l)]\n",
    "                for st in start:\n",
    "                    pos.append([st,st+len(full_name),'ESPECE'])\n",
    "    return pos"
   ]
  },
  {
   "cell_type": "code",
   "execution_count": 16,
   "id": "61c81578",
   "metadata": {},
   "outputs": [],
   "source": [
    "def is_digit(c):\n",
    "    try:\n",
    "        d = int(c)\n",
    "        return True\n",
    "    except :\n",
    "        return False"
   ]
  },
  {
   "cell_type": "code",
   "execution_count": 17,
   "id": "e965af1e",
   "metadata": {},
   "outputs": [],
   "source": [
    "colors = [\n",
    "    \"rouge\",\n",
    "    \"rose\",\n",
    "    \"bleu\",\n",
    "    \"pourpre\",\n",
    "    \"violet\",\n",
    "    \"jaune\",\n",
    "    \"orange\",\n",
    "    \"crème\",\n",
    "    \"blanc\",\n",
    "    \"blanche\",\n",
    "    \"vert\",\n",
    "    \"brun\"\n",
    "]"
   ]
  },
  {
   "cell_type": "code",
   "execution_count": 18,
   "id": "0fc69e34",
   "metadata": {},
   "outputs": [],
   "source": [
    "###===============================\n",
    "# utils functions \n",
    "###===============================\n",
    "\n",
    "def prepare(sentence):\n",
    "    sent = sentence.replace(\"\\n\", \"\").lower()\n",
    "    sent = preprocess(sent)\n",
    "    sent = \" \".join(word_tokenize(sent))\n",
    "    return sent\n",
    "\n",
    "def did_overlap(pos, begin, end):\n",
    "    for i, p in enumerate(pos):\n",
    "        if p[0] == begin or p[1] == end:\n",
    "            return True\n",
    "    return False\n",
    "\n",
    "def fix_overlap(temp):\n",
    "    for i in range(len(temp)-1):\n",
    "        for j in temp[i+1:]:\n",
    "            if temp[i][0] == j[0] or temp[i][1] == j[1]:\n",
    "                len_i = temp[i][1] - temp[i][0]\n",
    "                len_j = j[1] - j[0]\n",
    "                if(len_i > len_j):\n",
    "                    temp.remove(j)\n",
    "                else:\n",
    "                    temp.remove(temp[i])\n",
    "    return temp\n",
    "\n",
    "def get_measure_begining(sent, last_index):\n",
    "    last = last_index\n",
    "    while True:\n",
    "        virg_ind = sent[:last].rfind(\",\")\n",
    "        if sent[virg_ind - 1].isdigit():\n",
    "            last = virg_ind\n",
    "        else:\n",
    "            break\n",
    "    if virg_ind == -1:\n",
    "        begin = re.search(\"[0-9i]+\",sent[:last]).span()[0]\n",
    "    else:\n",
    "        begin = virg_ind + re.search(\"[0-9i]+\",sent[virg_ind:]).span()[0]\n",
    "    return begin"
   ]
  },
  {
   "cell_type": "code",
   "execution_count": 19,
   "id": "0474726a",
   "metadata": {},
   "outputs": [],
   "source": [
    "#Extract organs\n",
    "def organe_(sent):\n",
    "    pos = []\n",
    "    tokens = word_tokenize(sent)\n",
    "    for org in organes:\n",
    "        stem = org\n",
    "        start = [m.start() for m in re.finditer(stem, sent)]\n",
    "        if len(start) != 0:\n",
    "            for st in start:\n",
    "                begin = st\n",
    "                end = st + sent[begin:].find(' ')\n",
    "                if did_overlap(pos, begin, end):\n",
    "                    continue\n",
    "                else:\n",
    "                    pos.append([begin, end, 'ORGAN' ])\n",
    "    return pos\n",
    "#Extract descriptor\n",
    "def descripteur(sent):\n",
    "    pos = []\n",
    "    tokens = word_tokenize(sent)\n",
    "    for adj in adjs:\n",
    "        stem = adj\n",
    "        start = [m.start() for m in re.finditer(stem, sent)]\n",
    "        if len(start) != 0:\n",
    "            for st in start:\n",
    "                begin = st\n",
    "                end = st + sent[begin:].find(' ')\n",
    "                if did_overlap(pos, begin, end):\n",
    "                    continue\n",
    "                else:\n",
    "                    pos.append([begin, end, 'DESC' ])\n",
    "    # try to find descriptors using POS (adjectivs ends with é,ée,és,ées)\n",
    "    start = [m.start() for m in re.finditer(\"\\w+é\\s|\\w+ée\\s|\\w+és\\s|\\w+ées\\s\", sent)]\n",
    "    if len(start) != 0:\n",
    "        for st in start:\n",
    "            begin = st\n",
    "            end = st + sent[begin:].find(' ')\n",
    "            if did_overlap(pos, begin, end):\n",
    "                continue\n",
    "            else:\n",
    "                pos.append([begin, end, 'DESC' ])\n",
    "    #pos = list(set(pos))\n",
    "    return pos\n",
    "\n",
    "#Extract measure\n",
    "def measure(sent):\n",
    "    pos = []\n",
    "    tokens = word_tokenize(sent)\n",
    "    if(re.search(\" m | cm | mm \", sent)):\n",
    "        measures = re.findall(\" m | cm | mm \", sent)\n",
    "        start = [m.start() for m in re.finditer(\" m | cm | mm \", sent)]\n",
    "        for i, st in enumerate(start):\n",
    "            try:\n",
    "                begin = get_measure_begining(sent, st)\n",
    "            except:\n",
    "                print(sent)\n",
    "                continue\n",
    "            end = st + len(measures[i]) -1    \n",
    "            if did_overlap(pos, begin, end):\n",
    "                continue\n",
    "            else:\n",
    "                pos.append([begin, end, 'MEASURE' ])\n",
    "    return pos\n",
    "    \n",
    "def color_1(sent):\n",
    "    pos = []\n",
    "    tokens = word_tokenize(sent)\n",
    "    for c in colors:\n",
    "        start = [m.start() for m in re.finditer(c , sent)]\n",
    "        if len(start) != 0:\n",
    "            for st in start:\n",
    "                begin = st\n",
    "                # solve the problem of finding DESC & COLOR in the same Entity\n",
    "                if sent[begin:].find('-') == -1:\n",
    "                    end = begin + sent[begin:].find(' ')\n",
    "                else:\n",
    "                    \n",
    "                    end = begin + min(sent[begin:].find(' '),sent[begin:].find('-'))\n",
    "                # for example verticalisé is classified as a color so we check its length \n",
    "                if did_overlap(pos, begin, end) or ((end - begin) > len(c)+2) :\n",
    "                    continue\n",
    "                else:\n",
    "                    pos.append([begin, end, 'COLOR' ])\n",
    "    return pos\n",
    "# word ends with âtre\n",
    "def color_2(sent):\n",
    "    pos = []\n",
    "    tokens = word_tokenize(sent)\n",
    "    for c in colors:\n",
    "        stem = c\n",
    "        start = [m.start() for m in re.finditer(\"\\s\\w+âtre|\\s\\w+âtres\" , sent)]\n",
    "        if len(start) != 0:\n",
    "            for st in start:\n",
    "                begin = st+1\n",
    "                end = begin + sent[begin:].find(' ')\n",
    "                if did_overlap(pos, begin, end):\n",
    "                    continue\n",
    "                else:\n",
    "                    pos.append([begin, end, 'COLOR'] )\n",
    "    return pos\n",
    "# combine both functions\n",
    "def color(sent):\n",
    "    pos = color_1(sent) + color_2(sent)\n",
    "    pos = fix_overlap(pos)\n",
    "    return pos\n"
   ]
  },
  {
   "cell_type": "markdown",
   "id": "3fe018e0",
   "metadata": {},
   "source": [
    "## Construct Dataset for training + Training"
   ]
  },
  {
   "cell_type": "code",
   "execution_count": 20,
   "id": "c2c0c327",
   "metadata": {},
   "outputs": [],
   "source": [
    "from nltk import sent_tokenize"
   ]
  },
  {
   "cell_type": "code",
   "execution_count": 21,
   "id": "733140cb",
   "metadata": {},
   "outputs": [],
   "source": [
    "import pandas as ps\n",
    "import numpy as np \n",
    "import os\n",
    "import re"
   ]
  },
  {
   "cell_type": "code",
   "execution_count": 109,
   "id": "a35bceed",
   "metadata": {},
   "outputs": [
    {
     "name": "stdout",
     "output_type": "stream",
     "text": [
      "CPU times: total: 1min 32s\n",
      "Wall time: 1min 45s\n"
     ]
    }
   ],
   "source": [
    "%%time\n",
    "\n",
    "import random\n",
    "import tqdm\n",
    "from spacy.training import Example\n",
    "import spacy\n",
    "DATAS = []\n",
    "paths = ['data/'+ fold for fold in folder]\n",
    "for path in paths:\n",
    "    #path = 'data/' + 'Flore du Cameroun tome 12 1972 Loganiaceae'\n",
    "    pages = especes_pages(path)\n",
    "    especes, initials = get_especes(pages)\n",
    "    for i in range(len(os.listdir(path))):\n",
    "        with open(path+'/'+ str(i+1) +'.txt', 'r') as fp:\n",
    "            lines = fp.read()\n",
    "            sentences = sent_tokenize(lines)\n",
    "            for sent in sentences:\n",
    "                sent = sent.replace(\"\\n\", \"\").lower()\n",
    "                sent = preprocess(sent)\n",
    "                sent = \" \".join(word_tokenize(sent))\n",
    "                res = descripteur(sent) + organe_(sent) + measure(sent) + list(set(color(sent))) + espece_(especes,initials, path,sent)\n",
    "                if len(res) != 0:\n",
    "                    res = {'entities' : res}\n",
    "                    result = (sent , res)\n",
    "                    DATAS.append(result)"
   ]
  },
  {
   "attachments": {},
   "cell_type": "markdown",
   "id": "20f00237",
   "metadata": {},
   "source": [
    "Now we need to run this script on all the articles to go throw each paragraph and get all the descriptors ,(the script may need to be stoped manuallay) "
   ]
  },
  {
   "cell_type": "code",
   "execution_count": 54,
   "id": "e3efb97a",
   "metadata": {},
   "outputs": [
    {
     "name": "stdout",
     "output_type": "stream",
     "text": [
      "hh > m 6 1/3 ínférícur ' à anthères oblongues ; staminodes\n",
      "x cm , très fins ; fleurs 2-8 , très petites . pédicelles grêles , glabres ,\n",
      "— m . gilgianacogn. , repert . sp . nov. 12 : 5o3 ( igi3 ) .\n",
      "fleurs petites , longues de 3 mm , larges de a mm , en courts\n",
      "lég . gabon : m ( 1948 ) .\n",
      "bractées subpersistantes longues de 15-18 mm . bractéoles de i4-\n",
      "Wall time: 2min 5s\n",
      "Parser   : 497 ms\n"
     ]
    }
   ],
   "source": [
    "%%time\n",
    "\n",
    "import random\n",
    "import tqdm\n",
    "from spacy.training import Example\n",
    "import spacy\n",
    "DATAS = []\n",
    "paths = ['data/'+ fold for fold in folder]\n",
    "for path in paths:\n",
    "    #path = 'data/' + 'Flore du Cameroun tome 12 1972 Loganiaceae'\n",
    "    pages = especes_pages(path)\n",
    "    especes, initials = get_especes(pages)\n",
    "    c=0\n",
    "    for i in range(len(os.listdir(path))):\n",
    "        with open(path+'/'+ str(i+1) +'.txt', 'r') as fp:\n",
    "            lines = fp.read()\n",
    "            sentences = lines.replace('\\n\\n','\\n').split('\\n')\n",
    "            k=0\n",
    "            while(k<len(sentences)):\n",
    "                sent=sentences[k]\n",
    "                if(espece_(especes,initials, path,sent) or c==1):\n",
    "                    #print(espece_(especes,initials, path,sent))\n",
    "                    match=re.search('[a-z\\-]*type\\s?:|materiel.*camerounais',f_remove_accents(sent))\n",
    "                    while(not match and k<len(sentences)):\n",
    "                        sent=sentences[k]\n",
    "                        sent = sent.replace(\"\\n\", \"\").lower()\n",
    "                        sent = preprocess(sent)\n",
    "                        sent = \" \".join(word_tokenize(sent))\n",
    "                        #print('********************')\n",
    "                        #print(sent)\n",
    "                        res = descripteur(sent) + organe_(sent) + measure(sent) + color(sent) + espece_(especes,initials, path,sent)\n",
    "                        #print('**************************')\n",
    "                        if len(res) != 0:\n",
    "                            res = {'entities' : res}\n",
    "                            result = [sent , res]\n",
    "                            DATAS.append(result)\n",
    "                        match=re.search('[a-z\\-]*type\\s?:|materiel.*camerounais',f_remove_accents(sent))\n",
    "                        if(match):\n",
    "                            c=0\n",
    "                        else:\n",
    "                            c=1\n",
    "                        k=k+1\n",
    "                    #print(match)\n",
    "                k=k+1"
   ]
  },
  {
   "cell_type": "code",
   "execution_count": 55,
   "id": "7cc7814d",
   "metadata": {},
   "outputs": [
    {
     "data": {
      "text/plain": [
       "3651"
      ]
     },
     "execution_count": 55,
     "metadata": {},
     "output_type": "execute_result"
    }
   ],
   "source": [
    "len(DATAS)"
   ]
  },
  {
   "cell_type": "code",
   "execution_count": 56,
   "id": "15b710a3",
   "metadata": {},
   "outputs": [],
   "source": [
    "import pickle\n",
    "TD=[]\n",
    "with open('train_data.pkl','rb') as pick:\n",
    "    TD.append(pickle.load(pick))"
   ]
  },
  {
   "cell_type": "code",
   "execution_count": 57,
   "id": "8c72a71d",
   "metadata": {},
   "outputs": [],
   "source": [
    "TD=TD[0]"
   ]
  },
  {
   "cell_type": "code",
   "execution_count": 58,
   "id": "cb5c6bfb",
   "metadata": {},
   "outputs": [
    {
     "data": {
      "text/plain": [
       "[['1 peucedanum winkleri wolff', {'entities': [[2, 21, 'espèce']]}],\n",
       " ['2 peucedanum zenkeri engler ex wolff', {'entities': [[2, 20, 'espèce']]}],\n",
       " ['3 peucedanum angustisectum ( engler ) norman',\n",
       "  {'entities': [[2, 26, 'espèce']]}],\n",
       " ['1 anthocleista djalonensis a chevalier', {'entities': [[2, 26, 'espèce']]}],\n",
       " [\"Tessmannia est un genre de plantes dicotylédones de la famille des Fabaceae ( Légumineuses ) , sous-famille des Caesalpinioideae , originaire d'Afrique , qui comprend une douzaine d'espèces acceptées . Ce sont des arbres dont certaines espèces sont exploitées pour leur résine ( copal ) ou leur bois utilisé comme bois d'œuvre ( menuiserie , traverses de chemin de fer , manches d'outils , poteaux ) . 2 anthocleista laxiflora baker\",\n",
       "  {'entities': [[404, 426, 'espèce']]}],\n",
       " ['3 anthocleista liebrechtsiana de wild & th dur',\n",
       "  {'entities': [[2, 29, 'espèce']]}],\n",
       " ['4 anthocleista microphylla wernham', {'entities': [[2, 26, 'espèce']]}],\n",
       " ['5 anthocleista obanensis wernham', {'entities': [[2, 24, 'espèce']]}],\n",
       " ['6 anthocleista scandens hooker f', {'entities': [[2, 23, 'espèce']]}],\n",
       " ['7 anthocleista schweinfurthii gilg', {'entities': [[2, 29, 'espèce']]}],\n",
       " ['8 anthocleista vogelii planchon', {'entities': [[2, 22, 'espèce']]}],\n",
       " ['1 mostuea batesii baker', {'entities': [[2, 17, 'espèce']]}],\n",
       " ['2 mostuea brunonis didrichsen', {'entities': [[2, 18, 'espèce']]}],\n",
       " ['4 mostuea neurocarpa gilg', {'entities': [[2, 20, 'espèce']]}],\n",
       " ['2 section breviflorae prog : s dolichothyrsa gilg ex onochie & hepper , s urceolata',\n",
       "  {'entities': [[2, 21, 'espèce']]}],\n",
       " ['3 section penicillatae a w hill : s tchibangensis pellegr et s longicaudata gilg',\n",
       "  {'entities': [[2, 22, 'espèce']]}],\n",
       " ['4 section aculeatae duvign : s aculeata solered',\n",
       "  {'entities': [[2, 19, 'espèce']]}],\n",
       " ['5 section spinosae duvign : s cocculoides bak , s spinosa lam , s ternata gilg ex',\n",
       "  {'entities': [[2, 18, 'espèce']]}],\n",
       " ['6 section brevitubae a w hill : s samba duvign et sjohnsonii hutch et m b moss',\n",
       "  {'entities': [[2, 20, 'espèce']]}],\n",
       " ['7 section lanigerae a w hill : s talbotiae s moore , s chrysophylla gilg , s meme-',\n",
       "  {'entities': [[2, 19, 'espèce']]}],\n",
       " ['9 section densiflorae duvign : s innocua del , snigritana bak , s densiflora baili ,',\n",
       "  {'entities': [[2, 21, 'espèce']]}],\n",
       " ['1 strychnos aculeata solereder', {'entities': [[2, 20, 'espèce']]}],\n",
       " ['2 strychnos angolensis gilg', {'entities': [[2, 22, 'espèce']]}],\n",
       " ['3 strychnos asterantha leeuwenberg', {'entities': [[2, 22, 'espèce']]}],\n",
       " ['4 strychnos barteri solereder', {'entities': [[2, 19, 'espèce']]}],\n",
       " ['5 strychnos boonei de wildeman', {'entities': [[2, 18, 'espèce']]}],\n",
       " ['6 strychnos campicola gilg ex leeuwenberg',\n",
       "  {'entities': [[2, 21, 'espèce']]}],\n",
       " ['7 strychnos camptoneura gilg & busse', {'entities': [[2, 23, 'espèce']]}],\n",
       " ['8 strychnos canthioides leeuwenberg', {'entities': [[2, 23, 'espèce']]}],\n",
       " ['9 strychnos chromatoxylon leeuwenberg', {'entities': [[2, 25, 'espèce']]}],\n",
       " ['1 cardiospermum grandiflorum swartz', {'entities': [[2, 28, 'espèce']]}],\n",
       " ['2 cardiospermum halicacabum linné', {'entities': [[2, 27, 'espèce']]}],\n",
       " ['2 allophylus hirtellus ( hooker fil ) radlkofer',\n",
       "  {'entities': [[2, 22, 'espèce']]}],\n",
       " ['3 allophylus spicatus ( poiret ) radlkofer',\n",
       "  {'entities': [[2, 21, 'espèce']]}],\n",
       " ['4 allophylus conraui gilg ex radlkofer', {'entities': [[2, 20, 'espèce']]}],\n",
       " ['6 allophylus ngounyensis pellegrin', {'entities': [[2, 24, 'espèce']]}],\n",
       " ['7 allophylus welwitschii gilg', {'entities': [[2, 24, 'espèce']]}],\n",
       " ['8 allophylus lastoursvillensis pellegrin',\n",
       "  {'entities': [[2, 30, 'espèce']]}],\n",
       " ['2 deinbollia pycnophylla gilg ex radlkofer',\n",
       "  {'entities': [[2, 24, 'espèce']]}],\n",
       " ['3 deinbollia maxima gilg', {'entities': [[2, 19, 'espèce']]}],\n",
       " ['4 deinbollia rambaensis pellegrin', {'entities': [[2, 23, 'espèce']]}],\n",
       " ['5 deinbollia macrantha radlkofer', {'entities': [[2, 22, 'espèce']]}],\n",
       " ['Alternanthera est un genre qui regroupe plus de 80 plantes herbacées , dont un certain nombre peut être utilisé en aquarium . ; 6 deinbollia macroura gilg ex radlkofer',\n",
       "  {'entities': [[130, 149, 'espèce']]}],\n",
       " ['7 deinbollia dasybotrys gilg ex radlkofer',\n",
       "  {'entities': [[2, 23, 'espèce']]}],\n",
       " ['8 deinbollia cuneifolia baker', {'entities': [[2, 23, 'espèce']]}],\n",
       " ['2 pancovia pedicellaris radlkofer & gilg',\n",
       "  {'entities': [[2, 23, 'espèce']]}],\n",
       " ['5 pancovia laurentii ( de wildeman ) gilg ex de wildeman',\n",
       "  {'entities': [[2, 20, 'espèce']]}],\n",
       " ['5 placodiscus opacus radlkofer', {'entities': [[2, 20, 'espèce']]}],\n",
       " ['6 placodiscus glandulosus radlkofer', {'entities': [[2, 25, 'espèce']]}],\n",
       " ['1 crossonephelis africanus ( radlkofer ) leenhouts',\n",
       "  {'entities': [[2, 26, 'espèce']]}],\n",
       " ['2 crossonephelis unijugatus ( pellegrin ) leenhouts',\n",
       "  {'entities': [[2, 27, 'espèce']]}],\n",
       " ['1 aporrhiza letestui pellegrin', {'entities': [[2, 20, 'espèce']]}],\n",
       " ['2 aporrhiza lastoursvillensis pellegrin',\n",
       "  {'entities': [[2, 29, 'espèce']]}],\n",
       " ['3 aporrhiza talbotii baker fil', {'entities': [[2, 20, 'espèce']]}],\n",
       " ['5 aporrhiza multijuga gilg', {'entities': [[2, 21, 'espèce']]}],\n",
       " ['1 laccodiscus ferrugineus ( baker ) radlkofer',\n",
       "  {'entities': [[2, 25, 'espèce']]}],\n",
       " ['2 laccodiscus klaineanus pierre ex engler',\n",
       "  {'entities': [[2, 24, 'espèce']]}],\n",
       " ['3 laccodiscus spinulosodentatus radlkofer',\n",
       "  {'entities': [[2, 31, 'espèce']]}],\n",
       " ['1 lychnodiscus grandifolius radlkofer', {'entities': [[2, 27, 'espèce']]}],\n",
       " ['2 lychnodiscus brevibracteatus r fouilloy , sp nov',\n",
       "  {'entities': [[2, 30, 'espèce']]}],\n",
       " ['1 eriocœlum racemosum baker', {'entities': [[2, 21, 'espèce']]}],\n",
       " ['2 eriocœlum microspermum radlkofer', {'entities': [[2, 24, 'espèce']]}],\n",
       " ['4 eriocœlum paniculatum baker', {'entities': [[2, 23, 'espèce']]}],\n",
       " ['5 eriocœlum macrocarpum gilg ex radlkofer',\n",
       "  {'entities': [[2, 23, 'espèce']]}],\n",
       " ['6 eriocœlum petiolare radlkofer', {'entities': [[2, 21, 'espèce']]}],\n",
       " ['2 blighia welwitschii ( hiern ) radlkofer',\n",
       "  {'entities': [[2, 21, 'espèce']]}],\n",
       " ['3 blighia unijugata baker', {'entities': [[2, 19, 'espèce']]}],\n",
       " ['2 celosia trigyna linné', {'entities': [[2, 17, 'espèce']]}],\n",
       " ['3 ceiosia leptostachya bentham', {'entities': [[2, 22, 'espèce']]}],\n",
       " ['4 ceiosia laxa schumacher & thonning', {'entities': [[2, 14, 'espèce']]}],\n",
       " ['5 celosia globosa schinz', {'entities': [[2, 17, 'espèce']]}],\n",
       " ['6 celosia pseudovirgata schinz', {'entities': [[2, 23, 'espèce']]}],\n",
       " ['1 aerva javanica ( burman fil ) schultes',\n",
       "  {'entities': [[2, 16, 'espèce']]}],\n",
       " ['2 achyranthes talbotii hutchinson & dalziel',\n",
       "  {'entities': [[2, 22, 'espèce']]}],\n",
       " ['4 achyranthes bidentata blume', {'entities': [[2, 23, 'espèce']]}],\n",
       " ['1 pandiaka heudelotii ( moquin ) bentham & hooker fil',\n",
       "  {'entities': [[2, 21, 'espèce']]}],\n",
       " ['2 pandiaka involucrata ( moquin ) hooker fil',\n",
       "  {'entities': [[2, 22, 'espèce']]}],\n",
       " ['3 pandiaka schweinfurthii ( schinz ) clarke',\n",
       "  {'entities': [[2, 25, 'espèce']]}],\n",
       " ['2 cyathula achyranthoides ( humboldt , bonpland & kunth ) moquirt',\n",
       "  {'entities': [[2, 25, 'espèce']]}],\n",
       " [\"Pimpinella ledermannii H. Wolff est une espèce d'herbes de la famille des Apiaceae et du genre Pimpinella , présente en Afrique tropicale . 4 cyathula uncinulata ( schrader ) schinz\",\n",
       "  {'entities': [[142, 161, 'espèce']]}],\n",
       " ['1 alternanthera sessilis ( linné ) r brown',\n",
       "  {'entities': [[2, 24, 'espèce']]}],\n",
       " ['2 alternanthera nodiflora r brown', {'entities': [[2, 25, 'espèce']]}],\n",
       " ['3 alternanthera repens ( linné ) link', {'entities': [[2, 22, 'espèce']]}],\n",
       " [\"Lagenaria est un genre de lianes de la famille des Cucurbitacées donnant des courges , également connu sous le nom de gourde . Le genre est composé d'au moins sept espèces dont la plus connue est la calebasse ( Lagenaria siceraria ) . 1 gomphrena celosioides martius\",\n",
       "  {'entities': [[237, 258, 'espèce']]}],\n",
       " ['1 manilkara zenkeri lecomte ex aubr et pellegr',\n",
       "  {'entities': [[2, 19, 'espèce']]}],\n",
       " ['2 manilkara welwitschii ( engl ) dubard',\n",
       "  {'entities': [[2, 23, 'espèce']]}],\n",
       " ['3 manilkara letouzei aubr', {'entities': [[2, 20, 'espèce']]}],\n",
       " ['4 manilkara multinervis ( baker ) dubard',\n",
       "  {'entities': [[2, 23, 'espèce']]}],\n",
       " ['5 manilkara argentea pierre ex dubard', {'entities': [[2, 20, 'espèce']]}],\n",
       " ['6 manilkara pellegriniana tisserant et sillans',\n",
       "  {'entities': [[2, 25, 'espèce']]}],\n",
       " ['7 manilkara lacera ( bak ) dubard', {'entities': [[2, 18, 'espèce']]}],\n",
       " ['8 manilkara fouilloyana aubr et pellegr',\n",
       "  {'entities': [[2, 23, 'espèce']]}],\n",
       " ['1 gambeya lacourtiana ( de wild ) aubr et pellegr',\n",
       "  {'entities': [[2, 21, 'espèce']]}],\n",
       " [\"Anthocleista est un genre d'arbres de la famille des Gentianaceae , présente en Afrique tropicale.,2 gambeya boukokoensis aubr et pellegr\",\n",
       "  {'entities': [[101, 121, 'espèce']]}],\n",
       " ['3 gambeya gigantea ( a chev ) aubr et pellegr',\n",
       "  {'entities': [[2, 18, 'espèce']]}],\n",
       " ['5 gambeya subnuda ( bak ) pierre', {'entities': [[2, 17, 'espèce']]}],\n",
       " ['6 gambeya africana ( baker ) pierre', {'entities': [[2, 18, 'espèce']]}],\n",
       " ['7 gambeya perpulchra ( mildbr ) aubr et pellegr',\n",
       "  {'entities': [[2, 20, 'espèce']]}],\n",
       " ['8 gambeya beguei ( aubr et pellegr ) aubr et pellegr',\n",
       "  {'entities': [[2, 16, 'espèce']]}],\n",
       " ['1 donella ogowensis ( a chev ) aubr et pellegr',\n",
       "  {'entities': [[2, 19, 'espèce']]}],\n",
       " ['3 donella pruniformis ( pierre ex engl ) aubr et pellegr',\n",
       "  {'entities': [[2, 21, 'espèce']]}],\n",
       " ['1 telfairia occidenlalis hooker fil', {'entities': [[2, 24, 'espèce']]}],\n",
       " ['2 telfairia batesii keraudren', {'entities': [[2, 19, 'espèce']]}],\n",
       " ['1 zehneria thwaitesii ( schweinf ) c jeffrey',\n",
       "  {'entities': [[2, 21, 'espèce']]}],\n",
       " ['2 zehneria minutiflora ( cogn ) jeffrey',\n",
       "  {'entities': [[2, 22, 'espèce']]}],\n",
       " ['3 zehneria capillacea ( schumach ) c jeffrey',\n",
       "  {'entities': [[2, 21, 'espèce']]}],\n",
       " ['5 zehneria keayana r & a fernandes', {'entities': [[2, 18, 'espèce']]}],\n",
       " ['6 zehneria scabra ( l f ) sonder', {'entities': [[2, 17, 'espèce']]}],\n",
       " ['1 kedrostis fœtidissima ( jacquin ) cogniaux',\n",
       "  {'entities': [[2, 23, 'espèce']]}],\n",
       " ['2 kedrostis hirtella ( naudin ) cogniaux',\n",
       "  {'entities': [[2, 20, 'espèce']]}],\n",
       " ['1 lagenaria siceraria ( molina ) standley',\n",
       "  {'entities': [[2, 21, 'espèce']]}],\n",
       " ['2 lagenaria guineensis ( g don ) c jeffrey',\n",
       "  {'entities': [[2, 22, 'espèce']]}],\n",
       " ['3 lagenaria breviflora ( benth ) roberty',\n",
       "  {'entities': [[2, 22, 'espèce']]}],\n",
       " ['1 raphidiocystis phyllocalyx jeffrey & keraudren',\n",
       "  {'entities': [[2, 28, 'espèce']]}],\n",
       " ['2 raphidiocystis jeffreyana r & a fernandes',\n",
       "  {'entities': [[2, 27, 'espèce']]}],\n",
       " ['3 raphidiocystis mannii hooker fil', {'entities': [[2, 23, 'espèce']]}],\n",
       " ['2 cucurbita maxima duchesne ex lamarck', {'entities': [[2, 18, 'espèce']]}],\n",
       " ['3 cucurbita moschata ( duch ex lam ) duch ex poiret',\n",
       "  {'entities': [[2, 20, 'espèce']]}],\n",
       " ['1 coccinia grandis ( l ) yoigt', {'entities': [[2, 18, 'espèce']]}],\n",
       " ['2 coccinia barteri ( hook , f ) keay', {'entities': [[2, 18, 'espèce']]}],\n",
       " ['3 coccinia subhastata keraudren , sp nov',\n",
       "  {'entities': [[2, 21, 'espèce']]}],\n",
       " ['5 coccinia adoensis ( höchst , ex a rich ) cogniaux',\n",
       "  {'entities': [[2, 19, 'espèce']]}],\n",
       " ['2 cucumis hirsutus sonder', {'entities': [[2, 18, 'espèce']]}],\n",
       " ['5 cucumis figarei delile ex naudin', {'entities': [[2, 17, 'espèce']]}],\n",
       " ['1 citrullus lanatus ( thunberg ) mansfeld',\n",
       "  {'entities': [[2, 19, 'espèce']]}],\n",
       " ['1 momordica enneaphylla cogniaux', {'entities': [[2, 23, 'espèce']]}],\n",
       " ['2 momordica friesiorum ( harms ) c jeffrey',\n",
       "  {'entities': [[2, 22, 'espèce']]}],\n",
       " ['6 momordica jeffreyana keraudren', {'entities': [[2, 22, 'espèce']]}],\n",
       " ['7 momordica camerounensis keraudren', {'entities': [[2, 25, 'espèce']]}],\n",
       " ['8 momordica charantia linné', {'entities': [[2, 21, 'espèce']]}],\n",
       " ['9 momordica angustisepala harms', {'entities': [[2, 25, 'espèce']]}],\n",
       " ['1 griffonia physocarpa bâillon', {'entities': [[2, 22, 'espèce']]}],\n",
       " ['2 griffonia speciosa ( welwitsch ex bentham ) taubert',\n",
       "  {'entities': [[2, 20, 'espèce']]}],\n",
       " ['1 piliostigma thonningii ( schumacher ) milne-redhead',\n",
       "  {'entities': [[2, 24, 'espèce']]}],\n",
       " ['2 piliostigma reticulatum ( de candolle ) hochstetter',\n",
       "  {'entities': [[2, 25, 'espèce']]}],\n",
       " [\"Pois est un nom vernaculaire donné en français à des plantes ou des légumes de la famille des Fabaceae , du genre Pisum , plus particulièrement de l'espèce Pisum sativum , appelée « petit pois » ou simplement « pois » . On trouve également dans cette espèce les pois mangetout , les pois fourragers ainsi que les pois sauvages . Néanmoins , de nombreuses autres plantes d'espèces différentes , consommées ou non par l'homme , sont appelées « pois » , souvent par analogie de forme de leurs graines avec celles du pois cultivé . Ce sont , sauf exception , également des plantes de la famille des Fabaceae . 1 amphimas ferrugineus pierre ex pellegrin\",\n",
       "  {'entities': [[608, 628, 'espèce']]}],\n",
       " ['2 amphimas pterocarpoides harms', {'entities': [[2, 25, 'espèce']]}],\n",
       " ['5 dialium dinklagei harms', {'entities': [[2, 19, 'espèce']]}],\n",
       " ['6 dialium zenkeri harms', {'entities': [[2, 17, 'espèce']]}],\n",
       " ['Deinbollia est un genre de plantes de la famille des Sapindaceae . 2 cassia mimosoides linné',\n",
       "  {'entities': [[69, 86, 'espèce']]}],\n",
       " ['3 cassia kirkii oliver', {'entities': [[2, 15, 'espèce']]}],\n",
       " ['7 cassia italica ( miller ) lamarck ex fw andrews',\n",
       "  {'entities': [[2, 16, 'espèce']]}],\n",
       " ['8 cassia sieberana de candolle1', {'entities': [[2, 18, 'espèce']]}],\n",
       " ['9 cassia obtusifolia linné', {'entities': [[2, 20, 'espèce']]}],\n",
       " ['1 gilletiodendron mildbraedii ( harms ) vermoesen',\n",
       "  {'entities': [[2, 29, 'espèce']]}],\n",
       " ['1 plagiosiphon emarginatus ( hutchinson',\n",
       "  {'entities': [[2, 26, 'espèce']]}],\n",
       " ['2 plagiosiphon longitubus ( harms ) léonard',\n",
       "  {'entities': [[2, 25, 'espèce']]}],\n",
       " ['3 plagiosiphon multijugus ( harms ) j léonard',\n",
       "  {'entities': [[2, 25, 'espèce']]}],\n",
       " ['4 plagiosiphon discifer harms', {'entities': [[2, 23, 'espèce']]}],\n",
       " ['2 hymenostegia brachyura ( harms ) léonard',\n",
       "  {'entities': [[2, 24, 'espèce']]}],\n",
       " ['3 hymenostegia breteleri aubréville , sp nov',\n",
       "  {'entities': [[2, 24, 'espèce']]}],\n",
       " ['5 hymenostegia felicis ( chevalier ) léonard',\n",
       "  {'entities': [[2, 22, 'espèce']]}],\n",
       " ['2 afzelia africana smith ex persoon', {'entities': [[2, 18, 'espèce']]}],\n",
       " ['2 oxystigma buchholzii harms', {'entities': [[2, 22, 'espèce']]}],\n",
       " ['1 copaifera mildbraedii harms', {'entities': [[2, 23, 'espèce']]}],\n",
       " ['2 copaifera religiosa léonard', {'entities': [[2, 21, 'espèce']]}],\n",
       " ['1 detarium microcarpum guillemin & perrottet',\n",
       "  {'entities': [[2, 22, 'espèce']]}],\n",
       " ['2 detarium macrocarpum harms', {'entities': [[2, 22, 'espèce']]}],\n",
       " ['1 tessmannia anomala ( micheli ) harms', {'entities': [[2, 20, 'espèce']]}],\n",
       " ['2 tessmannia africana harms', {'entities': [[2, 21, 'espèce']]}],\n",
       " ['1 daniellia oliveri ( rolfe ) hutchinson & dalziel',\n",
       "  {'entities': [[2, 19, 'espèce']]}],\n",
       " ['3 daniellia oblonga oliver', {'entities': [[2, 19, 'espèce']]}],\n",
       " ['1 isomacrolobium leptorrhachis ( harms ) aubréville &',\n",
       "  {'entities': [[2, 30, 'espèce']]}],\n",
       " ['2 isomacrolobium isopetalum ( harms ) aubréville',\n",
       "  {'entities': [[2, 27, 'espèce']]}],\n",
       " ['1 anthonotha ferruginea ( harms ) léonard',\n",
       "  {'entities': [[2, 23, 'espèce']]}],\n",
       " ['2 anthonotha lamprophylla ( harms ) léonard',\n",
       "  {'entities': [[2, 25, 'espèce']]}],\n",
       " ['3 anthonotha fragrans ( baker fil ) exell & hillcoat',\n",
       "  {'entities': [[2, 21, 'espèce']]}],\n",
       " ['1 gilbertiodendron ogoouense ( pellegrin ) léonard',\n",
       "  {'entities': [[2, 28, 'espèce']]}],\n",
       " ['2 gilbertiodendron brachystegioides ( harms ) léonard',\n",
       "  {'entities': [[2, 35, 'espèce']]}],\n",
       " ['3 gilbertiodendron dewevrei ( de wildeman ) léonard',\n",
       "  {'entities': [[2, 27, 'espèce']]}]]"
      ]
     },
     "execution_count": 58,
     "metadata": {},
     "output_type": "execute_result"
    }
   ],
   "source": [
    "TD[50:220]"
   ]
  },
  {
   "cell_type": "code",
   "execution_count": 59,
   "id": "47f8cf2f",
   "metadata": {},
   "outputs": [
    {
     "data": {
      "text/plain": [
       "653"
      ]
     },
     "execution_count": 59,
     "metadata": {},
     "output_type": "execute_result"
    }
   ],
   "source": [
    "len(TD)"
   ]
  },
  {
   "attachments": {},
   "cell_type": "markdown",
   "id": "3590e133",
   "metadata": {},
   "source": [
    "creating train vaidation and test sets"
   ]
  },
  {
   "cell_type": "code",
   "execution_count": 60,
   "id": "83b83a96",
   "metadata": {},
   "outputs": [],
   "source": [
    "DATAC=DATAS.copy()"
   ]
  },
  {
   "cell_type": "code",
   "execution_count": 61,
   "id": "cdca187e",
   "metadata": {},
   "outputs": [],
   "source": [
    "train=DATAC[0:int(len(DATAC)*0.8)]\n",
    "test=DATAC[int(len(DATAC)*0.8):len(DATAC)]"
   ]
  },
  {
   "attachments": {},
   "cell_type": "markdown",
   "id": "c4ed11ed",
   "metadata": {},
   "source": [
    "now we are going to add species titles to the snetences containing the descreptors "
   ]
  },
  {
   "cell_type": "code",
   "execution_count": 62,
   "id": "695ad984",
   "metadata": {},
   "outputs": [],
   "source": [
    "DATAC=train.copy()"
   ]
  },
  {
   "attachments": {},
   "cell_type": "markdown",
   "id": "a92225c1",
   "metadata": {},
   "source": [
    "we need to create train and test sets that contains the some kind of corpus that is why we are going to apply the same processing on both "
   ]
  },
  {
   "cell_type": "code",
   "execution_count": 63,
   "id": "ac5a902c",
   "metadata": {},
   "outputs": [],
   "source": [
    "for i,el in enumerate(TD[0:350]):\n",
    "    if i in range(100,200):\n",
    "        #print(\"########## before:\")\n",
    "        #print(DATAC[i][0])\n",
    "        #print(\"######### After:\")\n",
    "        \n",
    "        DATAC[i][0]=TD[i][0]+'\\n'+DATAC[i][0]\n",
    "        #print(DATAC[i][0])\n",
    "\n",
    "            #print('######### entites:')\n",
    "            #print(ent)\n",
    "            #print('######### old entites:')\n",
    "            #print(DATAC[i][1]['entities'])\n",
    "        for j,ent in enumerate(DATAC[i][1]['entities']):\n",
    "            DATAC[i][1]['entities'][j][0]=DATAC[i][1]['entities'][j][0]+1+len(TD[i][0])\n",
    "            DATAC[i][1]['entities'][j][1]=DATAC[i][1]['entities'][j][1]+1+len(TD[i][0])\n",
    "        for j,ent in enumerate(TD[i][1]['entities']):\n",
    "            DATAC[i][1]['entities'].insert(j,ent)\n",
    "        #print('##### NEW ENTITIES')\n",
    "        #print(DATAC[i][1]['entities'])\n",
    "    else:\n",
    "        DATAC.append(TD[i])"
   ]
  },
  {
   "cell_type": "code",
   "execution_count": 64,
   "id": "2b5a7392",
   "metadata": {},
   "outputs": [
    {
     "data": {
      "text/plain": [
       "['2 crossonephelis unijugatus ( pellegrin ) leenhouts\\nde quelques fleurs . ombelle légère , à pedoncule grêle , sans invo-',\n",
       " {'entities': [[2, 27, 'espèce'], [102, 107, 'DESC']]}]"
      ]
     },
     "execution_count": 64,
     "metadata": {},
     "output_type": "execute_result"
    }
   ],
   "source": [
    "DATAS[100]"
   ]
  },
  {
   "cell_type": "code",
   "execution_count": 65,
   "id": "6cd03396",
   "metadata": {},
   "outputs": [],
   "source": [
    "train=DATAC.copy()"
   ]
  },
  {
   "cell_type": "code",
   "execution_count": 66,
   "id": "094b2b53",
   "metadata": {},
   "outputs": [
    {
     "data": {
      "text/plain": [
       "['2 crossonephelis unijugatus ( pellegrin ) leenhouts\\nde quelques fleurs . ombelle légère , à pedoncule grêle , sans invo-',\n",
       " {'entities': [[2, 27, 'espèce'], [102, 107, 'DESC']]}]"
      ]
     },
     "execution_count": 66,
     "metadata": {},
     "output_type": "execute_result"
    }
   ],
   "source": [
    "train[100]"
   ]
  },
  {
   "cell_type": "code",
   "execution_count": 67,
   "id": "b9af406d",
   "metadata": {},
   "outputs": [
    {
     "data": {
      "text/plain": [
       "653"
      ]
     },
     "execution_count": 67,
     "metadata": {},
     "output_type": "execute_result"
    }
   ],
   "source": [
    "len(TD)"
   ]
  },
  {
   "attachments": {},
   "cell_type": "markdown",
   "id": "702cd965",
   "metadata": {},
   "source": [
    "let'us build a test set "
   ]
  },
  {
   "cell_type": "code",
   "execution_count": 68,
   "id": "38bf97b6",
   "metadata": {},
   "outputs": [],
   "source": [
    "DATAC=test.copy()"
   ]
  },
  {
   "cell_type": "code",
   "execution_count": 69,
   "id": "0f458936",
   "metadata": {},
   "outputs": [
    {
     "data": {
      "text/plain": [
       "731"
      ]
     },
     "execution_count": 69,
     "metadata": {},
     "output_type": "execute_result"
    }
   ],
   "source": [
    "len(DATAC)"
   ]
  },
  {
   "cell_type": "code",
   "execution_count": 70,
   "id": "cdf53739",
   "metadata": {},
   "outputs": [],
   "source": [
    "\n",
    "for i in range(50,100):\n",
    "    #print(\"########## before:\")\n",
    "    #print(DATAC[i][0])\n",
    "    #print(\"######### After:\")\n",
    "    \n",
    "    DATAC[i][0]=TD[i][0]+'\\n'+DATAC[i][0]\n",
    "    #print(DATAC[i][0])\n",
    "\n",
    "        #print('######### entites:')\n",
    "        #print(ent)\n",
    "        #print('######### old entites:')\n",
    "        #print(DATAC[i][1]['entities'])\n",
    "    for j,ent in enumerate(DATAC[i][1]['entities']):\n",
    "        DATAC[i][1]['entities'][j][0]=DATAC[i][1]['entities'][j][0]+1+len(TD[i][0])\n",
    "        DATAC[i][1]['entities'][j][1]=DATAC[i][1]['entities'][j][1]+1+len(TD[i][0])\n",
    "    for j,ent in enumerate(TD[i][1]['entities']):\n",
    "        DATAC[i][1]['entities'].insert(j,ent)\n",
    "    #print('##### NEW ENTITIES')\n",
    "    #print(DATAC[i][1]['entities'])\n",
    "\n",
    "for el in TD[350:653]:\n",
    "    DATAC.append(el)"
   ]
  },
  {
   "cell_type": "code",
   "execution_count": 73,
   "id": "c8ebbdaa",
   "metadata": {},
   "outputs": [],
   "source": [
    "test=DATAC"
   ]
  },
  {
   "cell_type": "code",
   "execution_count": 74,
   "id": "7cf2f247",
   "metadata": {},
   "outputs": [
    {
     "data": {
      "text/plain": [
       "['1 peucedanum winkleri wolff\\nde 10-22 cm , pubérulent à glabre , canaliculé .',\n",
       " {'entities': [[2, 21, 'espèce'],\n",
       "   [64, 74, 'DESC'],\n",
       "   [55, 61, 'DESC'],\n",
       "   [31, 39, 'MEASURE']]}]"
      ]
     },
     "execution_count": 74,
     "metadata": {},
     "output_type": "execute_result"
    }
   ],
   "source": [
    "test[50]"
   ]
  },
  {
   "cell_type": "code",
   "execution_count": 77,
   "id": "5014dd89",
   "metadata": {},
   "outputs": [],
   "source": [
    "import pickle\n",
    "with open (\"train_data_desc_mixte.pkl\",\"wb\") as pick:\n",
    "    pickle.dump(train,pick)"
   ]
  },
  {
   "cell_type": "code",
   "execution_count": 78,
   "id": "6daf6f57",
   "metadata": {},
   "outputs": [],
   "source": [
    "import pickle\n",
    "with open (\"test_data_desc_mixte.pkl\",\"r\") as pick:\n",
    "    pickle.dump(test,pick)"
   ]
  },
  {
   "cell_type": "code",
   "execution_count": null,
   "id": "c4ffc786",
   "metadata": {},
   "outputs": [],
   "source": []
  },
  {
   "cell_type": "code",
   "execution_count": 1,
   "id": "cff7e2bd",
   "metadata": {},
   "outputs": [],
   "source": [
    "import pickle\n",
    "train=[]\n",
    "with open(\"train_data_desc_mixte.pkl\",'rb') as pick:\n",
    "    train.append(pickle.load(pick))\n",
    "test=[]\n",
    "with open(\"test_data_desc_mixte.pkl\",'rb') as pick:\n",
    "    test.append(pickle.load(pick))"
   ]
  },
  {
   "cell_type": "code",
   "execution_count": 5,
   "id": "ec1e81e7",
   "metadata": {},
   "outputs": [],
   "source": [
    "train=train[0]\n",
    "test=test[0]"
   ]
  },
  {
   "cell_type": "code",
   "execution_count": 17,
   "id": "7b83043a",
   "metadata": {},
   "outputs": [],
   "source": [
    "#trying to copy and run some code\n",
    "import warnings\n",
    "from pathlib import Path\n",
    "\n",
    "import spacy\n",
    "from spacy.tokens import DocBin\n",
    "\n",
    "def convert(lang: str, TRAIN_DATA, output_path: Path):\n",
    "    skipped_counter=0\n",
    "    nlp = spacy.blank(lang)\n",
    "    db = DocBin()\n",
    "    for text, annot in TRAIN_DATA:\n",
    "        doc = nlp.make_doc(text)\n",
    "        ents = []\n",
    "        for start, end, label in annot[\"entities\"]:\n",
    "            try:\n",
    "                span = doc.char_span(start, end, label=label)\n",
    "            except:\n",
    "                skipped_counter+=1\n",
    "                continue\n",
    "\n",
    "            if span is None:\n",
    "                msg = f\"Skipping entity [{start}, {end}, {label}] in the following text because the character span '{doc.text[start:end]}' does not align with token boundaries:\\n\\n{repr(text)}\\n\"\n",
    "                warnings.warn(msg)\n",
    "                skipped_counter+=1\n",
    "            else:\n",
    "                ents.append(span)\n",
    "        try:\n",
    "            doc.ents = ents\n",
    "            db.add(doc)\n",
    "        except:\n",
    "            skipped_counter+=1\n",
    "            continue\n",
    "    db.to_disk(output_path)\n",
    "    return(skipped_counter)"
   ]
  },
  {
   "cell_type": "code",
   "execution_count": 18,
   "id": "946423fa",
   "metadata": {},
   "outputs": [
    {
     "name": "stderr",
     "output_type": "stream",
     "text": [
      "C:\\Users\\ATLASP~1\\AppData\\Local\\Temp/ipykernel_16344/1447259902.py:24: UserWarning: Skipping entity [22, 37, MEASURE] in the following text because the character span 'ignant 20-22 cm' does not align with token boundaries:\n",
      "\n",
      "'arrondi , strié , atteignant 20-22 cm ; 5-g folioles articulées sur le'\n",
      "\n",
      "  warnings.warn(msg)\n",
      "C:\\Users\\ATLASP~1\\AppData\\Local\\Temp/ipykernel_16344/1447259902.py:24: UserWarning: Skipping entity [3, 19, MEASURE] in the following text because the character span 'iolule de 4-6 cm' does not align with token boundaries:\n",
      "\n",
      "'pétiolule de 4-6 cm , limbe elliptique-oblong ( 4,5-8,5 x 12-20 cm ) ,'\n",
      "\n",
      "  warnings.warn(msg)\n",
      "C:\\Users\\ATLASP~1\\AppData\\Local\\Temp/ipykernel_16344/1447259902.py:24: UserWarning: Skipping entity [23, 66, MEASURE] in the following text because the character span 'imbe elliptique-oblong ( 4,5-8,5 x 12-20 cm' does not align with token boundaries:\n",
      "\n",
      "'pétiolule de 4-6 cm , limbe elliptique-oblong ( 4,5-8,5 x 12-20 cm ) ,'\n",
      "\n",
      "  warnings.warn(msg)\n",
      "C:\\Users\\ATLASP~1\\AppData\\Local\\Temp/ipykernel_16344/1447259902.py:24: UserWarning: Skipping entity [1, 20, MEASURE] in the following text because the character span 'iqué long de 1-2 cm' does not align with token boundaries:\n",
      "\n",
      "'riqué long de 1-2 cm ; 8-10 fleurs par capitule , comprimées , sessiles ,'\n",
      "\n",
      "  warnings.warn(msg)\n",
      "C:\\Users\\ATLASP~1\\AppData\\Local\\Temp/ipykernel_16344/1447259902.py:24: UserWarning: Skipping entity [53, 57, MEASURE] in the following text because the character span '5 mm' does not align with token boundaries:\n",
      "\n",
      "'ensemble ; étamines à anthère oblongue , longue de i,5 mm ; disque'\n",
      "\n",
      "  warnings.warn(msg)\n",
      "C:\\Users\\ATLASP~1\\AppData\\Local\\Temp/ipykernel_16344/1447259902.py:24: UserWarning: Skipping entity [28, 46, MEASURE] in the following text because the character span 'iant de 10 à 20 mm' does not align with token boundaries:\n",
      "\n",
      "'neuses ; pétiole grêle , variant de 10 à 20 mm , avec quelques poils'\n",
      "\n",
      "  warnings.warn(msg)\n",
      "C:\\Users\\ATLASP~1\\AppData\\Local\\Temp/ipykernel_16344/1447259902.py:24: UserWarning: Skipping entity [63, 68, DESC] in the following text because the character span 'lobée' does not align with token boundaries:\n",
      "\n",
      "'étroit est parfois masqué et le limbe semble pelté , marge 7-9-lobée ,'\n",
      "\n",
      "  warnings.warn(msg)\n",
      "C:\\Users\\ATLASP~1\\AppData\\Local\\Temp/ipykernel_16344/1447259902.py:24: UserWarning: Skipping entity [29, 34, DESC] in the following text because the character span 'denté' does not align with token boundaries:\n",
      "\n",
      "'chaque lobe peu saillant , 3-denté .'\n",
      "\n",
      "  warnings.warn(msg)\n",
      "C:\\Users\\ATLASP~1\\AppData\\Local\\Temp/ipykernel_16344/1447259902.py:24: UserWarning: Skipping entity [14, 22, DESC] in the following text because the character span 'sessiles' does not align with token boundaries:\n",
      "\n",
      "'sessiles , subsessiles , ou portés sur un pédoncule grêle pouvant'\n",
      "\n",
      "  warnings.warn(msg)\n",
      "C:\\Users\\ATLASP~1\\AppData\\Local\\Temp/ipykernel_16344/1447259902.py:24: UserWarning: Skipping entity [14, 22, ORGAN] in the following text because the character span 'sessiles' does not align with token boundaries:\n",
      "\n",
      "'sessiles , subsessiles , ou portés sur un pédoncule grêle pouvant'\n",
      "\n",
      "  warnings.warn(msg)\n",
      "C:\\Users\\ATLASP~1\\AppData\\Local\\Temp/ipykernel_16344/1447259902.py:24: UserWarning: Skipping entity [4, 15, MEASURE] in the following text because the character span 'indre 10 mm' does not align with token boundaries:\n",
      "\n",
      "'atteindre 10 mm , opposés aux feuilles ou terminaux , constitués de'\n",
      "\n",
      "  warnings.warn(msg)\n",
      "C:\\Users\\ATLASP~1\\AppData\\Local\\Temp/ipykernel_16344/1447259902.py:24: UserWarning: Skipping entity [15, 23, DESC] in the following text because the character span 'sessiles' does not align with token boundaries:\n",
      "\n",
      "\"6-10 fleurs subsessiles pourvues de bractées courtes ; pas d'involu-\"\n",
      "\n",
      "  warnings.warn(msg)\n",
      "C:\\Users\\ATLASP~1\\AppData\\Local\\Temp/ipykernel_16344/1447259902.py:24: UserWarning: Skipping entity [15, 23, ORGAN] in the following text because the character span 'sessiles' does not align with token boundaries:\n",
      "\n",
      "\"6-10 fleurs subsessiles pourvues de bractées courtes ; pas d'involu-\"\n",
      "\n",
      "  warnings.warn(msg)\n",
      "C:\\Users\\ATLASP~1\\AppData\\Local\\Temp/ipykernel_16344/1447259902.py:24: UserWarning: Skipping entity [2, 6, MEASURE] in the following text because the character span '5 mm' does not align with token boundaries:\n",
      "\n",
      "'o,5 mm , entiers , à apex infléchi ; étamines très courtes , longues de'\n",
      "\n",
      "  warnings.warn(msg)\n",
      "C:\\Users\\ATLASP~1\\AppData\\Local\\Temp/ipykernel_16344/1447259902.py:24: UserWarning: Skipping entity [6, 10, MEASURE] in the following text because the character span '5 mm' does not align with token boundaries:\n",
      "\n",
      "'o,3-o,5 mm ; stylopode plat à déprimé ; styles courts , divergents ,'\n",
      "\n",
      "  warnings.warn(msg)\n",
      "C:\\Users\\ATLASP~1\\AppData\\Local\\Temp/ipykernel_16344/1447259902.py:24: UserWarning: Skipping entity [44, 51, DESC] in the following text because the character span 'didymes' does not align with token boundaries:\n",
      "\n",
      "'fruits petits , largement orbiculaires , subdidymes , larges de'\n",
      "\n",
      "  warnings.warn(msg)\n",
      "C:\\Users\\ATLASP~1\\AppData\\Local\\Temp/ipykernel_16344/1447259902.py:24: UserWarning: Skipping entity [47, 51, COLOR] in the following text because the character span 'vert' does not align with token boundaries:\n",
      "\n",
      "'opposées aux feuilles , à pédoncule grêle recouvert de poils appri-'\n",
      "\n",
      "  warnings.warn(msg)\n",
      "C:\\Users\\ATLASP~1\\AppData\\Local\\Temp/ipykernel_16344/1447259902.py:24: UserWarning: Skipping entity [4, 15, MEASURE] in the following text because the character span 'ignant 2 cm' does not align with token boundaries:\n",
      "\n",
      "'atteignant 2 cm ; involucre peu développé à bractées linéaires ;'\n",
      "\n",
      "  warnings.warn(msg)\n",
      "C:\\Users\\ATLASP~1\\AppData\\Local\\Temp/ipykernel_16344/1447259902.py:24: UserWarning: Skipping entity [35, 39, MEASURE] in the following text because the character span '3 mm' does not align with token boundaries:\n",
      "\n",
      "\"vers l'extérieur et atteignant i-i,3 mm , portant quelques poils\"\n",
      "\n",
      "  warnings.warn(msg)\n",
      "C:\\Users\\ATLASP~1\\AppData\\Local\\Temp/ipykernel_16344/1447259902.py:24: UserWarning: Skipping entity [7, 14, DESC] in the following text because the character span 'trichia' does not align with token boundaries:\n",
      "\n",
      "'— physotrichia diplolophioides wolff , bot . jahrb . 57 : 320 ( 1921 ) .'\n",
      "\n",
      "  warnings.warn(msg)\n",
      "C:\\Users\\ATLASP~1\\AppData\\Local\\Temp/ipykernel_16344/1447259902.py:24: UserWarning: Skipping entity [45, 50, MEASURE] in the following text because the character span '5-i m' does not align with token boundaries:\n",
      "\n",
      "'pl . i5 , p. 69. herbe annuelle , haute de o,5-i m , à racine'\n",
      "\n",
      "  warnings.warn(msg)\n",
      "C:\\Users\\ATLASP~1\\AppData\\Local\\Temp/ipykernel_16344/1447259902.py:24: UserWarning: Skipping entity [22, 42, MEASURE] in the following text because the character span 'imbe de 4-6 x 7-9 cm' does not align with token boundaries:\n",
      "\n",
      "'feuilles simples , à limbe de 4-6 x 7-9 cm et pétiole de 8-i4 cm ;'\n",
      "\n",
      "  warnings.warn(msg)\n",
      "C:\\Users\\ATLASP~1\\AppData\\Local\\Temp/ipykernel_16344/1447259902.py:24: UserWarning: Skipping entity [9, 23, MEASURE] in the following text because the character span 'icelle de i cm' does not align with token boundaries:\n",
      "\n",
      "'avec- pédicelle de i cm environ ; les internes à pédicelle court ,'\n",
      "\n",
      "  warnings.warn(msg)\n",
      "C:\\Users\\ATLASP~1\\AppData\\Local\\Temp/ipykernel_16344/1447259902.py:24: UserWarning: Skipping entity [3, 48, MEASURE] in the following text because the character span 'iolules ; premières pennes pétiolulées ( 1 cm' does not align with token boundaries:\n",
      "\n",
      "'pétiolules ; premières pennes pétiolulées ( 1 cm ) et pennatiséquées ,'\n",
      "\n",
      "  warnings.warn(msg)\n",
      "C:\\Users\\ATLASP~1\\AppData\\Local\\Temp/ipykernel_16344/1447259902.py:24: UserWarning: Skipping entity [17, 25, DESC] in the following text because the character span 'sessiles' does not align with token boundaries:\n",
      "\n",
      "'les suivantes subsessiles puis sessiles ; pinnules lancéolées , les ter-'\n",
      "\n",
      "  warnings.warn(msg)\n",
      "C:\\Users\\ATLASP~1\\AppData\\Local\\Temp/ipykernel_16344/1447259902.py:24: UserWarning: Skipping entity [17, 25, ORGAN] in the following text because the character span 'sessiles' does not align with token boundaries:\n",
      "\n",
      "'les suivantes subsessiles puis sessiles ; pinnules lancéolées , les ter-'\n",
      "\n",
      "  warnings.warn(msg)\n",
      "C:\\Users\\ATLASP~1\\AppData\\Local\\Temp/ipykernel_16344/1447259902.py:24: UserWarning: Skipping entity [1, 24, MEASURE] in the following text because the character span 'inales jusqu ' à 5-7 cm' does not align with token boundaries:\n",
      "\n",
      "\"minales jusqu ' à 5-7 cm de long , marges dentées en scie , chaque\"\n",
      "\n",
      "  warnings.warn(msg)\n",
      "C:\\Users\\ATLASP~1\\AppData\\Local\\Temp/ipykernel_16344/1447259902.py:24: UserWarning: Skipping entity [74, 78, MEASURE] in the following text because the character span '5 cm' does not align with token boundaries:\n",
      "\n",
      "'1 aporrhiza letestui pellegrin\\nlucre ; 6-8 rayons : grêles , longs de i-i,5 cm ; ombellules sans'\n",
      "\n",
      "  warnings.warn(msg)\n",
      "C:\\Users\\ATLASP~1\\AppData\\Local\\Temp/ipykernel_16344/1447259902.py:24: UserWarning: Skipping entity [34, 50, MEASURE] in the following text because the character span 'iant de 1 à 2 mm' does not align with token boundaries:\n",
      "\n",
      "'3 aporrhiza talbotii baker fil\\nvariant de 1 à 2 mm de long .'\n",
      "\n",
      "  warnings.warn(msg)\n",
      "C:\\Users\\ATLASP~1\\AppData\\Local\\Temp/ipykernel_16344/1447259902.py:24: UserWarning: Skipping entity [76, 104, MEASURE] in the following text because the character span 'inéaires longues de 2-3,5 mm' does not align with token boundaries:\n",
      "\n",
      "'2 blighia welwitschii ( hiern ) radlkofer\\nloppé formé de quelques bractées linéaires longues de 2-3,5 mm ,'\n",
      "\n",
      "  warnings.warn(msg)\n",
      "C:\\Users\\ATLASP~1\\AppData\\Local\\Temp/ipykernel_16344/1447259902.py:24: UserWarning: Skipping entity [63, 67, MEASURE] in the following text because the character span '5 mm' does not align with token boundaries:\n",
      "\n",
      "'2 celosia trigyna linné\\nlules subglobuleuses à bractées de i-i,5 mm , avec i5-20 fleurs à'\n",
      "\n",
      "  warnings.warn(msg)\n",
      "C:\\Users\\ATLASP~1\\AppData\\Local\\Temp/ipykernel_16344/1447259902.py:24: UserWarning: Skipping entity [34, 60, MEASURE] in the following text because the character span 'icelle grêle long de 10 mm' does not align with token boundaries:\n",
      "\n",
      "'3 ceiosia leptostachya bentham\\npédicelle grêle long de 10 mm .'\n",
      "\n",
      "  warnings.warn(msg)\n",
      "C:\\Users\\ATLASP~1\\AppData\\Local\\Temp/ipykernel_16344/1447259902.py:24: UserWarning: Skipping entity [46, 50, MEASURE] in the following text because the character span '5 mm' does not align with token boundaries:\n",
      "\n",
      "'5 celosia globosa schinz\\npétales longs de i-i,5 mm .'\n",
      "\n",
      "  warnings.warn(msg)\n",
      "C:\\Users\\ATLASP~1\\AppData\\Local\\Temp/ipykernel_16344/1447259902.py:24: UserWarning: Skipping entity [81, 84, MEASURE] in the following text because the character span '5 m' does not align with token boundaries:\n",
      "\n",
      "'1 aerva javanica ( burman fil ) schultes\\npl . 20 , 3 , p. 91. herbe atteignant i,5 m , copieusement'\n",
      "\n",
      "  warnings.warn(msg)\n",
      "C:\\Users\\ATLASP~1\\AppData\\Local\\Temp/ipykernel_16344/1447259902.py:24: UserWarning: Skipping entity [49, 61, MEASURE] in the following text because the character span 'ignant 3o cm' does not align with token boundaries:\n",
      "\n",
      "'2 pandiaka involucrata ( moquin ) hooker fil\\natteignant 3o cm de large au niveau des premières pennes pour'\n",
      "\n",
      "  warnings.warn(msg)\n",
      "C:\\Users\\ATLASP~1\\AppData\\Local\\Temp/ipykernel_16344/1447259902.py:24: UserWarning: Skipping entity [80, 86, MEASURE] in the following text because the character span '5-i cm' does not align with token boundaries:\n",
      "\n",
      "'3 manilkara letouzei aubr\\ndéveloppé , formé de quelques bractées linéaires de o,5-i cm .'\n",
      "\n",
      "  warnings.warn(msg)\n",
      "C:\\Users\\ATLASP~1\\AppData\\Local\\Temp/ipykernel_16344/1447259902.py:24: UserWarning: Skipping entity [60, 69, DESC] in the following text because the character span 'lancéolés' does not align with token boundaries:\n",
      "\n",
      "'8 manilkara fouilloyana aubr et pellegr\\nde 1 mm ; pétales oblancéolés , longs de 2,5-2,8 mm , infléchis'\n",
      "\n",
      "  warnings.warn(msg)\n"
     ]
    }
   ],
   "source": [
    "s=convert('fr',train[0:2500],'ner_data/train{:}.spacy'.format(len(train)))\n",
    "ss=convert('fr',train[2500:3170],'ner_data/valid{:}.spacy'.format(len(train)))"
   ]
  },
  {
   "cell_type": "code",
   "execution_count": null,
   "id": "8a89dd1d",
   "metadata": {},
   "outputs": [],
   "source": []
  }
 ],
 "metadata": {
  "kernelspec": {
   "display_name": "Python 3",
   "language": "python",
   "name": "python3"
  },
  "language_info": {
   "codemirror_mode": {
    "name": "ipython",
    "version": 3
   },
   "file_extension": ".py",
   "mimetype": "text/x-python",
   "name": "python",
   "nbconvert_exporter": "python",
   "pygments_lexer": "ipython3",
   "version": "3.10.0"
  },
  "vscode": {
   "interpreter": {
    "hash": "56a72d4692ef0c1b231c46e32d3c17e6fd4335b61c614b1ca765a7c115f7edac"
   }
  }
 },
 "nbformat": 4,
 "nbformat_minor": 5
}

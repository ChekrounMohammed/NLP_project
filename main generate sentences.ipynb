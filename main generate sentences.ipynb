{
 "cells": [
  {
   "cell_type": "code",
   "execution_count": 1,
   "id": "5483104e-f25e-48a1-a88d-789582664090",
   "metadata": {},
   "outputs": [],
   "source": [
    "import pandas as ps\n",
    "import numpy as np \n",
    "import os\n",
    "import re"
   ]
  },
  {
   "cell_type": "code",
   "execution_count": 2,
   "id": "fce467aa-5b27-46dc-9f52-8d55445cda6f",
   "metadata": {},
   "outputs": [
    {
     "data": {
      "text/plain": [
       "['Flore du Cameroun tome 10 1970 Ombellales',\n",
       " 'Flore du Cameroun tome 10 1970 Ombellales.pdf',\n",
       " 'Flore du Cameroun tome 12 1972 Loganiaceae',\n",
       " 'Flore du Cameroun tome 12 1972 Loganiaceae.pdf',\n",
       " 'Flore du Cameroun tome 16 1973 Sapindaceae',\n",
       " 'Flore du Cameroun tome 16 1973 Sapindaceae.pdf',\n",
       " 'Flore du Cameroun tome 17 1974 Amaranthaceae',\n",
       " 'Flore du Cameroun tome 17 1974 Amaranthaceae.pdf',\n",
       " 'Flore du Cameroun tome 2 1964 Sapotacees',\n",
       " 'Flore du Cameroun tome 2 1964 Sapotacees.pdf',\n",
       " 'Flore du Cameroun tome 6 1967 Cucurbitaceae',\n",
       " 'Flore du Cameroun tome 6 1967 Cucurbitaceae.pdf',\n",
       " 'Flore du Cameroun tome 9 1970 Caesalpinioidae',\n",
       " 'Flore du Cameroun tome 9 1970 Caesalpinioidae.pdf']"
      ]
     },
     "execution_count": 2,
     "metadata": {},
     "output_type": "execute_result"
    }
   ],
   "source": [
    "os.listdir(\"data\")"
   ]
  },
  {
   "cell_type": "code",
   "execution_count": 3,
   "id": "461a607d-cb3b-40c4-b962-3eaf8f487823",
   "metadata": {},
   "outputs": [],
   "source": [
    "folder = []\n",
    "for item in os.listdir('data'):\n",
    "    if(len(item.split('.')) == 1):\n",
    "        folder.append(item)"
   ]
  },
  {
   "cell_type": "code",
   "execution_count": 4,
   "id": "a8aa7ff8-6509-4472-9fe1-e820116cf77f",
   "metadata": {},
   "outputs": [
    {
     "data": {
      "text/plain": [
       "['Flore du Cameroun tome 10 1970 Ombellales',\n",
       " 'Flore du Cameroun tome 12 1972 Loganiaceae',\n",
       " 'Flore du Cameroun tome 16 1973 Sapindaceae',\n",
       " 'Flore du Cameroun tome 17 1974 Amaranthaceae',\n",
       " 'Flore du Cameroun tome 2 1964 Sapotacees',\n",
       " 'Flore du Cameroun tome 6 1967 Cucurbitaceae',\n",
       " 'Flore du Cameroun tome 9 1970 Caesalpinioidae']"
      ]
     },
     "execution_count": 4,
     "metadata": {},
     "output_type": "execute_result"
    }
   ],
   "source": [
    "folder"
   ]
  },
  {
   "cell_type": "code",
   "execution_count": 5,
   "id": "5d371ff5-40b0-4879-b476-79543613fdf9",
   "metadata": {},
   "outputs": [
    {
     "data": {
      "text/plain": [
       "'cle des especes camerounaises et gabonaises'"
      ]
     },
     "execution_count": 5,
     "metadata": {},
     "output_type": "execute_result"
    }
   ],
   "source": [
    "def f_remove_accents(old):\n",
    "    \"\"\"\n",
    "    Removes common accent characters, lower form.\n",
    "    Uses: regex.\n",
    "    \"\"\"\n",
    "    new = old.lower()\n",
    "    new = re.sub(r'[àáâãäå]', 'a', new)\n",
    "    new = re.sub(r'[èéêë]', 'e', new)\n",
    "    new = re.sub(r'[ìíîï]', 'i', new)\n",
    "    new = re.sub(r'[òóôõö]', 'o', new)\n",
    "    new = re.sub(r'[ùúûü]', 'u', new)\n",
    "    return new\n",
    "f_remove_accents(\"CLÉ DES ESPÈCES CAMEROUNAISES ET GABONAISES\")\n"
   ]
  },
  {
   "cell_type": "code",
   "execution_count": 6,
   "id": "25d75e29-aa8e-45f9-894d-a3e9c727941b",
   "metadata": {},
   "outputs": [
    {
     "name": "stdout",
     "output_type": "stream",
     "text": [
      "=============================================================\n",
      "data/Flore du Cameroun tome 12 1972 Loganiaceae\n",
      "cle des especes camerounaises et gabonaises\n",
      "cle des especes camerounaises et gabonaises\n",
      "cle des especes camerounaises et gabonaises\n",
      "cle des especes camerounaises et gabonaises\n"
     ]
    }
   ],
   "source": [
    "famille =[]\n",
    "famille_ = []\n",
    "tailles = []\n",
    "\n",
    "#for f in folder:\n",
    "path = 'data/' + 'Flore du Cameroun tome 12 1972 Loganiaceae'\n",
    "print(\"=============================================================\")\n",
    "print(path)\n",
    "for i in range(len(os.listdir(path))):\n",
    "    with open(path+'/'+ str(i+1) +'.txt', 'r') as fp:\n",
    "        lines = fp.readlines()\n",
    "        #print(\"=================\")\n",
    "        for j in range(len(lines)):\n",
    "            l = lines[j].strip()\n",
    "            l = l.replace('  ',' ')\n",
    "            #print(l)\n",
    "            l = f_remove_accents(l)\n",
    "            x = re.search(\"^cle.*espece\", l)\n",
    "            if(x):\n",
    "                print(l)"
   ]
  },
  {
   "cell_type": "code",
   "execution_count": 7,
   "id": "7727611d-7d7c-4666-bd1b-3accac316a1b",
   "metadata": {},
   "outputs": [
    {
     "name": "stdout",
     "output_type": "stream",
     "text": [
      "=============================================================\n",
      "data/Flore du Cameroun tome 9 1970 Caesalpinioidae\n",
      "CLEF DES ESPÈCES DE CÉSALPINIOÏDÉES \n",
      "\n",
      "CLEF DES ESPÈCES \n",
      "\n",
      "CLEF DES ESPÈCES \n",
      "\n",
      "CLEF DES ESPÈCES \n",
      "\n",
      "CLEF DES ESPÈCES \n",
      "\n",
      "CLEF DES ESPÈCES \n",
      "\n",
      "CLEF DES GROUPES ET ESPÈCES \n",
      "\n",
      "CLEF DES ESPÈCES \n",
      "\n",
      "CLEF DES ESPÈCES \n",
      "\n",
      "CLEF DES ESPÈCES \n",
      "\n",
      "CLEF DES ESPÈCES \n",
      "\n",
      "CLEFS DES ESPÈCES \n",
      "\n",
      "CLEF DES ESPÈCES \n",
      "\n",
      "CLEF DES ESPÈCES \n",
      "\n",
      "CLEF DES ESPÈCES \n",
      "\n",
      "CLEF DES ESPÈCES \n",
      "\n",
      "CLEF DES ESPÈCES \n",
      "\n",
      "CLEF DÈS ESPÈCES \n",
      "\n",
      "CLEF DES ESPÈCES \n",
      "\n",
      "CLEF DES ESPÈCES \n",
      "\n",
      "CLEF DES ESPÈCES \n",
      "\n",
      "CLEF DES ESPÈCES \n",
      "\n",
      "CLEF DES ESPÈCES \n",
      "\n",
      "CLEF DES ESPÈCES \n",
      "\n",
      "CLEF DES ESPÈCES \n",
      "\n",
      "CLEF DES ESPÈCES \n",
      "\n",
      "CLEF DES ESPÈCES \n",
      "\n",
      "CLEF DES ESPÈCES \n",
      "\n",
      "CLEF DES ESPÈCES \n",
      "\n",
      "CLEF DES ESPÈCES \n",
      "\n",
      "CLEF DES ESPÈCES D'APBÈS LES FEUILLES \n",
      "\n",
      "CLEF DES ESPÈCES \n",
      "\n",
      "CLEF DES ESPÈCES \n",
      "\n",
      "CLEF DES ESPÈCES \n",
      "\n"
     ]
    }
   ],
   "source": [
    "path = 'data/' + 'Flore du Cameroun tome 9 1970 Caesalpinioidae'\n",
    "print(\"=============================================================\")\n",
    "print(path)\n",
    "for i in range(len(os.listdir(path))):\n",
    "    with open(path+'/'+ str(i+1) +'.txt', 'r') as fp:\n",
    "        lines = fp.readlines()\n",
    "        #print(\"=================\")\n",
    "        for j in range(len(lines)):\n",
    "            l = lines[j].strip()\n",
    "            l = l.replace('  ',' ')\n",
    "            #print(l)\n",
    "            l = f_remove_accents(l)\n",
    "            x = re.search(\"^cle.*espece\", l)\n",
    "            if(x):\n",
    "                print(lines[j])"
   ]
  },
  {
   "cell_type": "code",
   "execution_count": 8,
   "id": "229f0e2a-4c60-487a-b3cf-ee73772d04d3",
   "metadata": {},
   "outputs": [
    {
     "name": "stdout",
     "output_type": "stream",
     "text": [
      "=============================================================\n",
      "data/Flore du Cameroun tome 2 1964 Sapotacees\n",
      "CLEF  DES  ESPÈCES \n",
      "\n",
      "CLEF  DES  ESPÈCES \n",
      "\n",
      "CLEF  DES  ESPÈCES \n",
      "\n",
      "CLEF  DES  ESPÈCES  (i) \n",
      "\n",
      "CLEF  DES  ESPÈCES \n",
      "\n"
     ]
    }
   ],
   "source": [
    "path = 'data/' + 'Flore du Cameroun tome 2 1964 Sapotacees'\n",
    "print(\"=============================================================\")\n",
    "print(path)\n",
    "for i in range(len(os.listdir(path))):\n",
    "    with open(path+'/'+ str(i+1) +'.txt', 'r') as fp:\n",
    "        lines = fp.readlines()\n",
    "        #print(\"=================\")\n",
    "        for j in range(len(lines)):\n",
    "            l = lines[j].strip()\n",
    "            l = l.replace('  ',' ')\n",
    "            #print(l)\n",
    "            l = f_remove_accents(l)\n",
    "            x = re.search(\"^cle.*espece\", l)\n",
    "            if(x):\n",
    "                print(lines[j])"
   ]
  },
  {
   "cell_type": "code",
   "execution_count": 9,
   "id": "20bb85a4-3e8f-4480-b855-3bfa9d3b857f",
   "metadata": {},
   "outputs": [
    {
     "data": {
      "text/plain": [
       "'espèces'"
      ]
     },
     "execution_count": 9,
     "metadata": {},
     "output_type": "execute_result"
    }
   ],
   "source": [
    "\"ESPÈCES\".lower()"
   ]
  },
  {
   "cell_type": "code",
   "execution_count": 10,
   "id": "ecd822c7-5801-441b-a126-a117df23992d",
   "metadata": {},
   "outputs": [
    {
     "name": "stdout",
     "output_type": "stream",
     "text": [
      "=============================================================\n",
      "data/Flore du Cameroun tome 12 1972 Loganiaceae\n",
      "9\n",
      "cle des especes camerounaises et gabonaises\n",
      "30\n",
      "cle des especes camerounaises et gabonaises\n",
      "49\n",
      "cle des especes camerounaises et gabonaises\n",
      "54\n",
      "cle des especes camerounaises et gabonaises\n"
     ]
    }
   ],
   "source": [
    "famille =[]\n",
    "famille_ = []\n",
    "tailles = []\n",
    "\n",
    "#for f in folder:\n",
    "path = 'data/' + 'Flore du Cameroun tome 12 1972 Loganiaceae'\n",
    "print(\"=============================================================\")\n",
    "print(path)\n",
    "for i in range(len(os.listdir(path))):\n",
    "    with open(path+'/'+ str(i+1) +'.txt', 'r') as fp:\n",
    "        lines = fp.readlines()\n",
    "        #print(\"=================\")\n",
    "        for j in range(len(lines)):\n",
    "            l = lines[j].strip()\n",
    "            l = l.replace('  ',' ')\n",
    "            #print(l)\n",
    "            l = f_remove_accents(l)\n",
    "            x = re.search(\"^cle.*espece\", l)\n",
    "            if(x):\n",
    "                print(i+1)\n",
    "                print(l)"
   ]
  },
  {
   "cell_type": "code",
   "execution_count": 11,
   "id": "aca7e94c",
   "metadata": {},
   "outputs": [],
   "source": [
    "path = 'data/' + 'Flore du Cameroun tome 17 1974 Amaranthaceae'"
   ]
  },
  {
   "cell_type": "code",
   "execution_count": 12,
   "id": "6be60c42",
   "metadata": {
    "scrolled": false
   },
   "outputs": [
    {
     "name": "stdout",
     "output_type": "stream",
     "text": [
      "=============================================================\n",
      "data/Flore du Cameroun tome 17 1974 Amaranthaceae\n",
      "8\n",
      "cle des especes\n",
      "18\n",
      "cle des especes\n",
      "27\n",
      "cle des especes\n",
      "34\n",
      "cle des especes\n",
      "39\n",
      "cle des especes\n",
      "45\n",
      "cle des especes\n",
      "55\n",
      "cle des especes\n",
      "61\n",
      "cle des especes\n"
     ]
    }
   ],
   "source": [
    "print(\"=============================================================\")\n",
    "print(path)\n",
    "for i in range(len(os.listdir(path))):\n",
    "    with open(path+'/'+ str(i+1) +'.txt', 'r') as fp:\n",
    "        lines = fp.readlines()\n",
    "        #print(\"=================\")\n",
    "        for j in range(len(lines)):\n",
    "            l = lines[j].strip()\n",
    "            l = l.replace('  ',' ')\n",
    "            #print(l)\n",
    "            l = f_remove_accents(l)\n",
    "            x = re.search(\"cle.?\\sdes\\sespece\", l)\n",
    "            if(x):\n",
    "                print(i+1)\n",
    "                print(l)"
   ]
  },
  {
   "cell_type": "markdown",
   "id": "07d92b4a",
   "metadata": {},
   "source": [
    "# ============================="
   ]
  },
  {
   "cell_type": "markdown",
   "id": "d5c05e41",
   "metadata": {},
   "source": [
    "## Extract species names"
   ]
  },
  {
   "cell_type": "code",
   "execution_count": 13,
   "id": "f93c1141",
   "metadata": {},
   "outputs": [],
   "source": [
    "def especes_pages(path):\n",
    "    pages = []\n",
    "    for i in range(len(os.listdir(path))):\n",
    "        with open(path+'/'+ str(i+1) +'.txt', 'r') as fp:\n",
    "            lines = fp.readlines()\n",
    "            #print(\"=================\")\n",
    "            for j in range(len(lines)):\n",
    "                l = lines[j].strip()\n",
    "                l = l.replace('  ',' ')\n",
    "                l = f_remove_accents(l)\n",
    "                x = re.search(\"cle.?\\sdes\\sespece\", l)\n",
    "                if(x):\n",
    "                    pages.append(i+1)\n",
    "                    pages.append(i+2)\n",
    "                    pages.append(i+3)\n",
    "    return pages"
   ]
  },
  {
   "cell_type": "code",
   "execution_count": 15,
   "id": "3e9907ed",
   "metadata": {},
   "outputs": [],
   "source": [
    "def get_especes(pages):\n",
    "    especes = []\n",
    "    for p in pages:\n",
    "        with open(path+'/'+ str(p) +'.txt', 'r') as fp:\n",
    "            lines = fp.readlines()\n",
    "            for j in range(len(lines)):\n",
    "                l = lines[j].strip()\n",
    "                l = l.replace('  ',' ')\n",
    "                l = f_remove_accents(l)\n",
    "                x = re.findall(\"\\s\\w\\.\\s\\w+$\", l)\n",
    "                x = re.findall(\"[A-Za-z0-9]\\.\\s\\w\\.\\s\\w+\\.?$\", l)\n",
    "                if(x):\n",
    "                    especes.append(x)\n",
    "    especes = np.array(especes).reshape(-1)\n",
    "    esp = [esp.strip().split(' ')[2][:-1] for esp in especes]\n",
    "    initials = [esp.strip().split(' ')[1][:-1].upper() for esp in especes]\n",
    "    return esp, initials\n",
    "\n",
    "def preprocess(line):\n",
    "    l = line.strip()\n",
    "    l = l.replace('  ',' ')\n",
    "    #l = f_remove_accents(l)\n",
    "    return l"
   ]
  },
  {
   "cell_type": "markdown",
   "id": "7308e691",
   "metadata": {},
   "source": [
    "## get species full name"
   ]
  },
  {
   "cell_type": "code",
   "execution_count": 21,
   "id": "7663bcb1",
   "metadata": {},
   "outputs": [],
   "source": [
    "def get_especes_names(especes, initials, path):\n",
    "    esp_names = []\n",
    "    for i in range(len(os.listdir(path))):\n",
    "        with open(path+'/'+ str(i+1) +'.txt', 'r') as fp:\n",
    "            lines = fp.readlines()\n",
    "            for j in range(len(lines)):\n",
    "                l = preprocess(lines[j])\n",
    "                for i, esp in enumerate(especes):\n",
    "                    contains = l.find(esp.capitalize()) != -1 or l.find(esp) != -1 \n",
    "                    if contains:\n",
    "                        exp = \"^[1-9]\\.\\s{}[a-z]+.*\".format(initials[i])\n",
    "                        x = re.findall(exp, l)\n",
    "                        if(x):\n",
    "                            full_name = x[0].strip()[3:]\n",
    "                            full_name = full_name.split(' ')[0]+' '+full_name.split(' ')[1]\n",
    "                            esp_names.append([full_name,x[0]])\n",
    "    return esp_names"
   ]
  },
  {
   "cell_type": "markdown",
   "id": "c3e691ff",
   "metadata": {},
   "source": [
    "## Execute"
   ]
  },
  {
   "cell_type": "code",
   "execution_count": 28,
   "id": "60acac16",
   "metadata": {},
   "outputs": [
    {
     "name": "stdout",
     "output_type": "stream",
     "text": [
      "data/Flore du Cameroun tome 10 1970 Ombellales\n",
      "======================\n",
      "Species number : 15\n",
      "Species title number : 14\n",
      "data/Flore du Cameroun tome 12 1972 Loganiaceae\n",
      "======================\n",
      "Species number : 63\n",
      "Species title number : 43\n",
      "data/Flore du Cameroun tome 16 1973 Sapindaceae\n",
      "======================\n",
      "Species number : 61\n",
      "Species title number : 41\n",
      "data/Flore du Cameroun tome 17 1974 Amaranthaceae\n",
      "======================\n",
      "Species number : 21\n",
      "Species title number : 17\n",
      "data/Flore du Cameroun tome 2 1964 Sapotacees\n",
      "======================\n",
      "Species number : 33\n",
      "Species title number : 33\n",
      "data/Flore du Cameroun tome 6 1967 Cucurbitaceae\n",
      "======================\n",
      "Species number : 37\n",
      "Species title number : 30\n",
      "data/Flore du Cameroun tome 9 1970 Caesalpinioidae\n",
      "======================\n",
      "Species number : 90\n",
      "Species title number : 66\n"
     ]
    }
   ],
   "source": [
    "paths = ['data/'+ fold for fold in folder]\n",
    "names = []\n",
    "for path in paths:\n",
    "    print(path)\n",
    "    print(\"======================\")\n",
    "    pages = especes_pages(path)\n",
    "    especes, initials = get_especes(pages)\n",
    "    print(\"Species number : \"+ str(len(especes)))\n",
    "    all_species = get_especes_names(especes,initials, path)\n",
    "    names += all_species\n",
    "    print(\"Species title number : \"+ str(len(all_species)))"
   ]
  },
  {
   "cell_type": "code",
   "execution_count": 29,
   "id": "3b05b9dc",
   "metadata": {},
   "outputs": [],
   "source": [
    "import pandas as pd\n",
    "df=pd.DataFrame(names,columns=[\"espèce\",\"description\"])"
   ]
  },
  {
   "cell_type": "code",
   "execution_count": 31,
   "id": "c91db99e",
   "metadata": {},
   "outputs": [],
   "source": [
    "df.to_csv('flora_titles_with_species_names.csv',index=False)"
   ]
  },
  {
   "cell_type": "code",
   "execution_count": 34,
   "id": "0f726786",
   "metadata": {},
   "outputs": [
    {
     "data": {
      "text/html": [
       "<div>\n",
       "<style scoped>\n",
       "    .dataframe tbody tr th:only-of-type {\n",
       "        vertical-align: middle;\n",
       "    }\n",
       "\n",
       "    .dataframe tbody tr th {\n",
       "        vertical-align: top;\n",
       "    }\n",
       "\n",
       "    .dataframe thead th {\n",
       "        text-align: right;\n",
       "    }\n",
       "</style>\n",
       "<table border=\"1\" class=\"dataframe\">\n",
       "  <thead>\n",
       "    <tr style=\"text-align: right;\">\n",
       "      <th></th>\n",
       "      <th>espèce</th>\n",
       "      <th>description</th>\n",
       "    </tr>\n",
       "  </thead>\n",
       "  <tbody>\n",
       "    <tr>\n",
       "      <th>0</th>\n",
       "      <td>Schefflera abyssinica</td>\n",
       "      <td>1. Schefflera abyssinica</td>\n",
       "    </tr>\n",
       "    <tr>\n",
       "      <th>1</th>\n",
       "      <td>Schefflera Mannii</td>\n",
       "      <td>3. Schefflera Mannii (Hooker fil.) Harms</td>\n",
       "    </tr>\n",
       "    <tr>\n",
       "      <th>2</th>\n",
       "      <td>Hydrocotyle sibthorpioides</td>\n",
       "      <td>1. Hydrocotyle sibthorpioides Lamarck</td>\n",
       "    </tr>\n",
       "    <tr>\n",
       "      <th>3</th>\n",
       "      <td>Hydrocotyle hirta</td>\n",
       "      <td>2. Hydrocotyle hirta R. Brown ex A. Richard</td>\n",
       "    </tr>\n",
       "    <tr>\n",
       "      <th>4</th>\n",
       "      <td>Hydrocotyle bonariensis</td>\n",
       "      <td>3. Hydrocotyle bonariensis Lamarck</td>\n",
       "    </tr>\n",
       "    <tr>\n",
       "      <th>...</th>\n",
       "      <td>...</td>\n",
       "      <td>...</td>\n",
       "    </tr>\n",
       "    <tr>\n",
       "      <th>239</th>\n",
       "      <td>Monopetalanthus Pellegrinii</td>\n",
       "      <td>5. Monopetalanthus Pellegrinii A. Chevalier</td>\n",
       "    </tr>\n",
       "    <tr>\n",
       "      <th>240</th>\n",
       "      <td>Swartzia fistuloides</td>\n",
       "      <td>1. Swartzia fistuloides Harms</td>\n",
       "    </tr>\n",
       "    <tr>\n",
       "      <th>241</th>\n",
       "      <td>Swartzia madagascariensis</td>\n",
       "      <td>2. Swartzia madagascariensis Desvaux</td>\n",
       "    </tr>\n",
       "    <tr>\n",
       "      <th>242</th>\n",
       "      <td>Csesalpinia Welwitschiana</td>\n",
       "      <td>1. Csesalpinia Welwitschiana (Oliver) Brenan</td>\n",
       "    </tr>\n",
       "    <tr>\n",
       "      <th>243</th>\n",
       "      <td>Erythrophleum ivorense</td>\n",
       "      <td>1. Erythrophleum ivorense A. Chevalier</td>\n",
       "    </tr>\n",
       "  </tbody>\n",
       "</table>\n",
       "<p>244 rows × 2 columns</p>\n",
       "</div>"
      ],
      "text/plain": [
       "                          espèce                                   description\n",
       "0          Schefflera abyssinica                      1. Schefflera abyssinica\n",
       "1              Schefflera Mannii      3. Schefflera Mannii (Hooker fil.) Harms\n",
       "2     Hydrocotyle sibthorpioides         1. Hydrocotyle sibthorpioides Lamarck\n",
       "3              Hydrocotyle hirta   2. Hydrocotyle hirta R. Brown ex A. Richard\n",
       "4        Hydrocotyle bonariensis            3. Hydrocotyle bonariensis Lamarck\n",
       "..                           ...                                           ...\n",
       "239  Monopetalanthus Pellegrinii   5. Monopetalanthus Pellegrinii A. Chevalier\n",
       "240         Swartzia fistuloides                 1. Swartzia fistuloides Harms\n",
       "241    Swartzia madagascariensis          2. Swartzia madagascariensis Desvaux\n",
       "242    Csesalpinia Welwitschiana  1. Csesalpinia Welwitschiana (Oliver) Brenan\n",
       "243       Erythrophleum ivorense        1. Erythrophleum ivorense A. Chevalier\n",
       "\n",
       "[244 rows x 2 columns]"
      ]
     },
     "execution_count": 34,
     "metadata": {},
     "output_type": "execute_result"
    }
   ],
   "source": [
    "data=pd.read_excel('flora_titles_with_species_names.xlsx')\n",
    "data"
   ]
  },
  {
   "cell_type": "code",
   "execution_count": null,
   "id": "346703bd",
   "metadata": {},
   "outputs": [],
   "source": []
  },
  {
   "cell_type": "code",
   "execution_count": 36,
   "id": "d9314306",
   "metadata": {},
   "outputs": [],
   "source": [
    "data.drop_duplicates(inplace=True)\n",
    "data.dropna(inplace=True)"
   ]
  },
  {
   "cell_type": "code",
   "execution_count": 40,
   "id": "1e2df018",
   "metadata": {},
   "outputs": [],
   "source": [
    "data.reset_index(drop=True,inplace=True)"
   ]
  },
  {
   "cell_type": "code",
   "execution_count": 41,
   "id": "a53d5293",
   "metadata": {},
   "outputs": [
    {
     "data": {
      "text/html": [
       "<div>\n",
       "<style scoped>\n",
       "    .dataframe tbody tr th:only-of-type {\n",
       "        vertical-align: middle;\n",
       "    }\n",
       "\n",
       "    .dataframe tbody tr th {\n",
       "        vertical-align: top;\n",
       "    }\n",
       "\n",
       "    .dataframe thead th {\n",
       "        text-align: right;\n",
       "    }\n",
       "</style>\n",
       "<table border=\"1\" class=\"dataframe\">\n",
       "  <thead>\n",
       "    <tr style=\"text-align: right;\">\n",
       "      <th></th>\n",
       "      <th>espèce</th>\n",
       "      <th>description</th>\n",
       "    </tr>\n",
       "  </thead>\n",
       "  <tbody>\n",
       "    <tr>\n",
       "      <th>0</th>\n",
       "      <td>Schefflera abyssinica</td>\n",
       "      <td>1. Schefflera abyssinica</td>\n",
       "    </tr>\n",
       "    <tr>\n",
       "      <th>1</th>\n",
       "      <td>Schefflera Mannii</td>\n",
       "      <td>3. Schefflera Mannii (Hooker fil.) Harms</td>\n",
       "    </tr>\n",
       "    <tr>\n",
       "      <th>2</th>\n",
       "      <td>Hydrocotyle sibthorpioides</td>\n",
       "      <td>1. Hydrocotyle sibthorpioides Lamarck</td>\n",
       "    </tr>\n",
       "    <tr>\n",
       "      <th>3</th>\n",
       "      <td>Hydrocotyle hirta</td>\n",
       "      <td>2. Hydrocotyle hirta R. Brown ex A. Richard</td>\n",
       "    </tr>\n",
       "    <tr>\n",
       "      <th>4</th>\n",
       "      <td>Hydrocotyle bonariensis</td>\n",
       "      <td>3. Hydrocotyle bonariensis Lamarck</td>\n",
       "    </tr>\n",
       "    <tr>\n",
       "      <th>...</th>\n",
       "      <td>...</td>\n",
       "      <td>...</td>\n",
       "    </tr>\n",
       "    <tr>\n",
       "      <th>200</th>\n",
       "      <td>Monopetalanthus Pellegrinii</td>\n",
       "      <td>5. Monopetalanthus Pellegrinii A. Chevalier</td>\n",
       "    </tr>\n",
       "    <tr>\n",
       "      <th>201</th>\n",
       "      <td>Swartzia fistuloides</td>\n",
       "      <td>1. Swartzia fistuloides Harms</td>\n",
       "    </tr>\n",
       "    <tr>\n",
       "      <th>202</th>\n",
       "      <td>Swartzia madagascariensis</td>\n",
       "      <td>2. Swartzia madagascariensis Desvaux</td>\n",
       "    </tr>\n",
       "    <tr>\n",
       "      <th>203</th>\n",
       "      <td>Csesalpinia Welwitschiana</td>\n",
       "      <td>1. Csesalpinia Welwitschiana (Oliver) Brenan</td>\n",
       "    </tr>\n",
       "    <tr>\n",
       "      <th>204</th>\n",
       "      <td>Erythrophleum ivorense</td>\n",
       "      <td>1. Erythrophleum ivorense A. Chevalier</td>\n",
       "    </tr>\n",
       "  </tbody>\n",
       "</table>\n",
       "<p>205 rows × 2 columns</p>\n",
       "</div>"
      ],
      "text/plain": [
       "                          espèce                                   description\n",
       "0          Schefflera abyssinica                      1. Schefflera abyssinica\n",
       "1              Schefflera Mannii      3. Schefflera Mannii (Hooker fil.) Harms\n",
       "2     Hydrocotyle sibthorpioides         1. Hydrocotyle sibthorpioides Lamarck\n",
       "3              Hydrocotyle hirta   2. Hydrocotyle hirta R. Brown ex A. Richard\n",
       "4        Hydrocotyle bonariensis            3. Hydrocotyle bonariensis Lamarck\n",
       "..                           ...                                           ...\n",
       "200  Monopetalanthus Pellegrinii   5. Monopetalanthus Pellegrinii A. Chevalier\n",
       "201         Swartzia fistuloides                 1. Swartzia fistuloides Harms\n",
       "202    Swartzia madagascariensis          2. Swartzia madagascariensis Desvaux\n",
       "203    Csesalpinia Welwitschiana  1. Csesalpinia Welwitschiana (Oliver) Brenan\n",
       "204       Erythrophleum ivorense        1. Erythrophleum ivorense A. Chevalier\n",
       "\n",
       "[205 rows x 2 columns]"
      ]
     },
     "execution_count": 41,
     "metadata": {},
     "output_type": "execute_result"
    }
   ],
   "source": [
    "data"
   ]
  },
  {
   "cell_type": "code",
   "execution_count": 42,
   "id": "2a61294c",
   "metadata": {},
   "outputs": [],
   "source": [
    "data.to_csv('species_and_titles_dataframe.csv',index=False)"
   ]
  },
  {
   "cell_type": "code",
   "execution_count": null,
   "id": "bc2887c9",
   "metadata": {},
   "outputs": [],
   "source": []
  }
 ],
 "metadata": {
  "kernelspec": {
   "display_name": "Python 3.10.0 64-bit",
   "language": "python",
   "name": "python3"
  },
  "language_info": {
   "codemirror_mode": {
    "name": "ipython",
    "version": 3
   },
   "file_extension": ".py",
   "mimetype": "text/x-python",
   "name": "python",
   "nbconvert_exporter": "python",
   "pygments_lexer": "ipython3",
   "version": "3.10.0 (tags/v3.10.0:b494f59, Oct  4 2021, 19:00:18) [MSC v.1929 64 bit (AMD64)]"
  },
  "vscode": {
   "interpreter": {
    "hash": "56a72d4692ef0c1b231c46e32d3c17e6fd4335b61c614b1ca765a7c115f7edac"
   }
  }
 },
 "nbformat": 4,
 "nbformat_minor": 5
}

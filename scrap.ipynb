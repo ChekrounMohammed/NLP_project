{
 "cells": [
  {
   "cell_type": "code",
   "execution_count": 4,
   "metadata": {},
   "outputs": [
    {
     "name": "stdout",
     "output_type": "stream",
     "text": [
      "200\n"
     ]
    }
   ],
   "source": [
    "import requests\n",
    "\n",
    "response = requests.get(\n",
    "\turl=\"https://fr.wikipedia.org/wiki/Daniellia_oliveri\",\n",
    ")\n",
    "print(response.status_code)\n"
   ]
  },
  {
   "cell_type": "code",
   "execution_count": 5,
   "metadata": {},
   "outputs": [],
   "source": [
    "from bs4 import BeautifulSoup"
   ]
  },
  {
   "cell_type": "code",
   "execution_count": 8,
   "metadata": {},
   "outputs": [
    {
     "name": "stdout",
     "output_type": "stream",
     "text": [
      "None\n"
     ]
    }
   ],
   "source": [
    "soup = BeautifulSoup(response.content, 'html.parser')\n",
    "\n",
    "title = soup.find(id=\"mw-content-text\")\n"
   ]
  },
  {
   "cell_type": "code",
   "execution_count": 15,
   "metadata": {},
   "outputs": [
    {
     "data": {
      "text/plain": [
       "[<i>Daniellia oliveri</i>,\n",
       " <i>Daniellia oliveri</i>,\n",
       " <i>Paradaniellia oliveri</i>,\n",
       " <i><b>Daniellia oliveri</b></i>,\n",
       " <i><a href=\"/wiki/Fabaceae\" title=\"Fabaceae\">Fabaceae</a></i>,\n",
       " <i><a href=\"/wiki/Daniellia\" title=\"Daniellia\">Daniellia</a></i>,\n",
       " <i>The Plant List</i>,\n",
       " <i>Analyse des impacts écologiques et socioculturels de l'exploitation des produits de Daniellia Oliveri sur la viabilité de ses peuplements au Bénin</i>,\n",
       " <i><span class=\"lang-en\" lang=\"en\"><a href=\"/wiki/Catalogue_of_Life\" title=\"Catalogue of Life\">Catalogue of Life</a></span></i>,\n",
       " <i>Daniellia oliveri</i>,\n",
       " <i><a href=\"/wiki/Germplasm_Resources_Information_Network\" title=\"Germplasm Resources Information Network\">GRIN</a></i>,\n",
       " <i>Daniellia oliveri</i>,\n",
       " <i><a href=\"/wiki/Syst%C3%A8me_d%27information_taxonomique_int%C3%A9gr%C3%A9\" title=\"Système d'information taxonomique intégré\">ITIS</a></i>,\n",
       " <i>Daniellia oliveri</i>,\n",
       " <i><a href=\"/wiki/National_Center_for_Biotechnology_Information\" title=\"National Center for Biotechnology Information\">NCBI</a></i>,\n",
       " <i>Daniellia oliveri</i>,\n",
       " <i><a href=\"/wiki/The_Plant_List\" title=\"The Plant List\">The Plant List</a></i>,\n",
       " <i>Daniellia oliveri</i>,\n",
       " <i>Legume Database and Information Service</i>,\n",
       " <i>ILDIS</i>,\n",
       " <i><a href=\"/wiki/Tropicos\" title=\"Tropicos\">Tropicos</a></i>,\n",
       " <i>Daniellia oliveri</i>,\n",
       " <i>Fabaceae</i>]"
      ]
     },
     "execution_count": 15,
     "metadata": {},
     "output_type": "execute_result"
    }
   ],
   "source": [
    "title.find_all('i')"
   ]
  },
  {
   "cell_type": "code",
   "execution_count": 5,
   "metadata": {},
   "outputs": [],
   "source": [
    "import wikipedia"
   ]
  },
  {
   "cell_type": "code",
   "execution_count": 32,
   "metadata": {},
   "outputs": [
    {
     "name": "stdout",
     "output_type": "stream",
     "text": [
      "Pimpinella ledermannii H. Wolff est une espèce d'herbes de la famille des Apiaceae et du genre Pimpinella, présente en Afrique tropicale.\n",
      "\n",
      "\n",
      "== Étymologie ==\n",
      "Son épithète spécifique rend hommage au botaniste suisse Carl Ludwig Ledermann , qui collecta le premier spécimen sur les monts Bamboutos (Cameroun) en décembre 1907.\n",
      "\n",
      "\n",
      "== Liste des sous-espèces ==\n",
      "Selon Catalogue of Life                                   (19 janvier 2018) :\n",
      "\n",
      "sous-espèce Pimpinella ledermannii subsp. engleriana\n",
      "sous-espèce Pimpinella ledermannii subsp. ledermanniiSelon The Plant List            (19 janvier 2018) :\n",
      "\n",
      "sous-espèce Pimpinella ledermannii subsp.\n"
     ]
    }
   ],
   "source": [
    "wikipedia.set_lang(\"fr\")\n",
    "print(wikipedia.summary(\"Pimpinella Ledermannii\",sentences=5))"
   ]
  },
  {
   "cell_type": "code",
   "execution_count": 2,
   "metadata": {},
   "outputs": [
    {
     "data": {
      "text/plain": [
       "['Schefflera abyssinica',\n",
       " 'Schefflera Mannii',\n",
       " 'Eriocœlum macrocarpum',\n",
       " 'Tessmannia africana',\n",
       " 'Alternanthera sessilis',\n",
       " 'Manilkara Fouilloyana',\n",
       " 'Cucumis Figarei',\n",
       " 'Pimpinella Ledermannii',\n",
       " 'Pandiaka schweinfurthii',\n",
       " 'Lagenaria guineensis',\n",
       " 'Anthocleista liebrechtsiana',\n",
       " 'Cardiospermum halicacabum',\n",
       " 'Deinbollia pycnophylla',\n",
       " 'Griffonia speciosa',\n",
       " 'Strychnos boonei',\n",
       " 'Deinbollia macroura',\n",
       " 'Anthocleista schweinfurthii',\n",
       " 'Zehneria Keayana',\n",
       " 'Dialium Zenkeri',\n",
       " 'Raphidiocystis Jeffreyana',\n",
       " 'Zehneria capillacea',\n",
       " 'Deinbollia macrantha',\n",
       " 'Placodiscus glandulosus',\n",
       " 'Plagiosiphon discifer',\n",
       " 'Laccodiscus klaineanus',\n",
       " 'Swartzia madagascariensis',\n",
       " 'Copaifera religiosa',\n",
       " 'Strychnos asterantha',\n",
       " 'Berlinia grandiflora',\n",
       " 'Lagenaria breviflora',\n",
       " 'Oxystigma Buchholzii',\n",
       " 'Momordica angustisepala',\n",
       " 'Lychnodiscus grandifolius',\n",
       " 'Mostuea brunonis',\n",
       " 'Manilkara Pellegriniana',\n",
       " 'Mostuea batesii',\n",
       " 'Manilkara multinervis',\n",
       " 'Gambeya subnuda',\n",
       " 'Cucurbita maxima',\n",
       " 'Isoberlinia tomentosa',\n",
       " 'Momordica Charantia',\n",
       " 'Hydrocotyle hirta',\n",
       " 'Cucumis hirsutus',\n",
       " 'Eriocœlum microspermum',\n",
       " 'Crossonephelis unijugatus',\n",
       " 'Gilbertiodendron brachystegioides',\n",
       " 'Allophylus conraui',\n",
       " 'Lychnodiscus brevibracteatus',\n",
       " 'Blighia welwitschii',\n",
       " 'Allophylus hirtellus',\n",
       " 'Manilkara lacera',\n",
       " 'Telfairia Batesii',\n",
       " 'Zehneria scabra',\n",
       " 'Pandiaka heudelotii',\n",
       " 'Cyathula uncinulata',\n",
       " 'Lagenaria siceraria',\n",
       " 'Piliostigma reticulatum',\n",
       " 'Berlinia auriculata',\n",
       " 'Anthocleista laxiflora',\n",
       " 'Momordica camerounensis',\n",
       " 'Isomacrolobium isopetalum',\n",
       " 'Gomphrena celosioides',\n",
       " 'Didelotia africana',\n",
       " 'Kedrostis fœtidissima',\n",
       " 'Hymenostegia brachyura',\n",
       " 'Cardiospermum grandiflorum',\n",
       " 'Allophylus welwitschii',\n",
       " 'Manilkara Zenkeri',\n",
       " 'Gambeya perpulchra',\n",
       " 'Zehneria minutiflora',\n",
       " 'Coccinia grandis',\n",
       " 'Manilkara Welwitschii',\n",
       " 'Placodiscus opacus',\n",
       " 'Anthocleista djalonensis',\n",
       " 'Tetraberlinia polyphylla',\n",
       " 'Momordica Jeffreyana',\n",
       " 'Dialium Dinklagei',\n",
       " 'Hydrocotyle bonariensis',\n",
       " 'Deinbollia rambaensis',\n",
       " 'Brachystegia eurycoma',\n",
       " 'Ceiosia laxa',\n",
       " 'Anthocleista vogelii',\n",
       " 'Strychnos angolensis',\n",
       " 'Achyranthes talbotii',\n",
       " 'Gambeya gigantea',\n",
       " 'Cucurbita moschata',\n",
       " 'Gilletiodendron Mildbraedii',\n",
       " 'Swartzia fistuloides',\n",
       " 'Peucedanum Winkleri',\n",
       " 'Pancovia laurentii',\n",
       " 'Raphidiocystis phyllocalyx',\n",
       " 'Gilbertiodendron ogoouense',\n",
       " 'GiLbertiodendron pachyanthum',\n",
       " 'Brachystegia cynometroides',\n",
       " 'Mostuea neurocarpa',\n",
       " 'Alternanthera nodiflora',\n",
       " 'Gambeya Lacourtiana',\n",
       " 'Aphanocalyx margininervatus',\n",
       " 'Anthocleista obanensis',\n",
       " 'Gambeya africana',\n",
       " 'Crossonephelis africanus',\n",
       " 'Cyathula achyranthoides',\n",
       " 'Pancovia pedicellaris',\n",
       " 'Section Densiflorae',\n",
       " 'Alternanthera repens',\n",
       " 'Blighia unijugata',\n",
       " 'Griffonia physocarpa',\n",
       " 'Berlinia Craibiana',\n",
       " 'Peucedanum Zenkeri',\n",
       " 'Anthocleista scandens',\n",
       " 'Strychnos chromatoxylon',\n",
       " 'Aporrhiza letestui',\n",
       " 'Didelotia Letouzeyi',\n",
       " 'Brachystegia Zenkeri',\n",
       " 'Diplolophium africanum',\n",
       " 'Section Spinosae',\n",
       " 'Section Brevitubae',\n",
       " 'Gilbertiodendron demonstrans',\n",
       " 'Strychnos camptoneura',\n",
       " 'Tetraberlinia bifoliolata',\n",
       " 'Pimpinella Buchananii',\n",
       " 'Cassia mimosoides',\n",
       " 'Coccinia adoensis',\n",
       " 'Strychnos aculeata',\n",
       " 'Section Lanigerae',\n",
       " 'Eriocœlum paniculatum',\n",
       " 'Amphimas pterocarpoides',\n",
       " 'Plagiosiphon longitubus',\n",
       " 'Cassia Kirkii',\n",
       " 'Kedrostis hirtella',\n",
       " 'Raphidiocystis Mannii',\n",
       " 'Piliostigma Thonningii',\n",
       " 'Eriocœlum racemosum',\n",
       " 'Plagiosiphon emarginatus',\n",
       " 'Strychnos campicola',\n",
       " 'Ceiosia leptostachya',\n",
       " 'Copaifera Mildbraedii',\n",
       " 'Cassia obtusifolia',\n",
       " 'Detarium macrocarpum',\n",
       " 'Section Aculeatae',\n",
       " 'Aerva javanica',\n",
       " 'Allophylus lastoursvillensis',\n",
       " 'Hymenostegia Felicis',\n",
       " 'Gambeya boukokoensis',\n",
       " 'Coccinia Barteri',\n",
       " 'Deinbollia maxima',\n",
       " 'Anthonotha ferruginea',\n",
       " 'Allophylus ngounyensis',\n",
       " 'Erythrophleum ivorense',\n",
       " 'Telfairia occidenlalis',\n",
       " 'Aporrhiza multijuga',\n",
       " 'Celosia trigyna',\n",
       " 'Manilkara argentea',\n",
       " 'Gambeya Beguei',\n",
       " 'Strychnos canthioides',\n",
       " 'Anthocleista microphylla',\n",
       " 'Tessmannia anomala',\n",
       " 'Momordica Friesiorum',\n",
       " 'Deinbollia cuneifolia',\n",
       " 'Didelotia unifoliolata',\n",
       " 'Donella ogowensis',\n",
       " 'Citrullus lanatus',\n",
       " 'Aporrhiza talbotii',\n",
       " 'Celosia globosa',\n",
       " 'Aporrhiza lastoursvillensis',\n",
       " 'Peucedanum angustisectum',\n",
       " 'Gilbertiodendron Klainei',\n",
       " 'Momordica enneaphylla',\n",
       " 'Daniellia oblonga',\n",
       " 'Anthonotha lamprophylla',\n",
       " 'Berlinia bracteosa',\n",
       " 'Section Breviflorae',\n",
       " 'Amphimas ferrugineus',\n",
       " 'Detarium microcarpum',\n",
       " 'Anthonotha fragrans',\n",
       " 'Plagiosiphon multijugus',\n",
       " 'Celosia pseudovirgata',\n",
       " 'Allophylus spicatus',\n",
       " 'Afzelia africana',\n",
       " 'Daniellia Oliveri',\n",
       " 'Donella pruniformis',\n",
       " 'Pandiaka involucrata',\n",
       " 'Strychnos barteri',\n",
       " 'Gilbertiodendron Dewevrei',\n",
       " 'Csesalpinia Welwitschiana',\n",
       " 'Eriocœlum petiolare',\n",
       " 'Section Penicillatae',\n",
       " 'Zehneria Thwaitesii',\n",
       " 'Brachystegia Mildbraedii',\n",
       " 'Coccinia subhastata',\n",
       " 'Achyranthes bidentata',\n",
       " 'Laccodiscus ferrugineus',\n",
       " 'Cassia italica',\n",
       " 'Cassia Sieberana',\n",
       " 'Diplolophium diplolophioides',\n",
       " 'Hymenostegia Breteleri',\n",
       " 'Monopetalanthus Pellegrinii',\n",
       " 'Monopetalanthus Hedinii',\n",
       " 'Monopetalanthus microphyllus',\n",
       " 'Laccodiscus spinulosodentatus',\n",
       " 'Manilkara Letouzei',\n",
       " 'Isomacrolobium leptorrhachis',\n",
       " 'Deinbollia dasybotrys',\n",
       " 'Hydrocotyle sibthorpioides',\n",
       " 'Gilbertiodendron mayombense']"
      ]
     },
     "execution_count": 2,
     "metadata": {},
     "output_type": "execute_result"
    }
   ],
   "source": [
    "#read the species file \n",
    "f = open(\"species-new.txt\", \"r\")\n",
    "species=f.readlines()\n",
    "species=[s.replace('\\n','') for s in species]\n",
    "species"
   ]
  },
  {
   "cell_type": "code",
   "execution_count": 3,
   "metadata": {},
   "outputs": [
    {
     "data": {
      "text/plain": [
       "205"
      ]
     },
     "execution_count": 3,
     "metadata": {},
     "output_type": "execute_result"
    }
   ],
   "source": [
    "len(species)"
   ]
  },
  {
   "cell_type": "code",
   "execution_count": 11,
   "metadata": {},
   "outputs": [],
   "source": [
    "#scrapping from wiki \n",
    "wikipedia.set_lang(\"fr\")\n",
    "sentences=dict()\n",
    "for s in species:\n",
    "    try:\n",
    "        sentences[s]=wikipedia.summary(s)\n",
    "    except:\n",
    "        continue"
   ]
  },
  {
   "cell_type": "code",
   "execution_count": 12,
   "metadata": {},
   "outputs": [
    {
     "data": {
      "text/plain": [
       "{'Schefflera abyssinica': 'Le genre Schefflera constitue un groupe d’arbres tropicaux vivaces au luxuriant feuillage persistant de la famille des Araliaceae, originaires de l’Asie et de l’Amérique centrale, où ils peuvent atteindre 30 m de haut. Au Queensland en Australie, il forme un petit arbre pouvant mesurer jusqu’à 12 m. En zone humide, ils poussent aussi en épiphytes sur des rochers ou des arbres. \\nIl est dédié à Jacob Christian Scheffler, botaniste allemand du XIXe siècle.\\nLe genre comprend environ 150 espèces et 900 variétés, originaires des zones tropicales et subtropicales humides, mais on cultive essentiellement les variétés arboricola et actinophylla aux feuilles vertes ou panachés de jaune ou d’ivoire, selon les hybrides, comme plantes tropicales d’intérieur, et peuvent atteindre 1,50 m (arboricola) et 3 m (actinophylla) dans les appartements. Cette plante est appréciée pour sa capacité à purifier l’air des appartements.\\nIls portent les surnoms de parasol, d’arbre-parapluie, d’arbre-ombrelle, ou d’arbre du bureau. Son nom local en Nouvelle-Calédonie, est Petit Boux.\\nLes 37 espèces américaines de Schefflera J.R. et G. Forst. sont retournées dans le genre Didymopanax Decne. & Planch..',\n",
       " 'Schefflera Mannii': 'Schefflera mannii (Hook.f.) Harms est une espèce de plantes de la famille des Araliaceae et du genre Schefflera, endémique de la ligne montagneuse du Cameroun.',\n",
       " 'Tessmannia africana': \"Tessmannia est un genre de plantes dicotylédones de la famille des Fabaceae (Légumineuses), sous-famille des Caesalpinioideae, originaire d'Afrique, qui comprend une douzaine d'espèces acceptées.\\nCe sont des arbres  dont certaines espèces sont exploitées pour leur résine (copal) ou leur bois utilisé comme bois d'œuvre (menuiserie, traverses de chemin de fer, manches d'outils, poteaux).\",\n",
       " 'Alternanthera sessilis': 'Alternanthera est un genre qui regroupe plus de 80 plantes herbacées, dont un certain nombre peut être utilisé en aquarium.',\n",
       " 'Pimpinella Ledermannii': \"Pimpinella ledermannii H. Wolff est une espèce d'herbes de la famille des Apiaceae et du genre Pimpinella, présente en Afrique tropicale.\",\n",
       " 'Lagenaria guineensis': \"Lagenaria est un genre de lianes de la famille des Cucurbitacées donnant des courges, également connu sous le nom de gourde.\\nLe genre est composé d'au moins sept espèces dont la plus connue est la calebasse (Lagenaria siceraria).\",\n",
       " 'Anthocleista liebrechtsiana': \"Anthocleista est un genre d'arbres de la famille des Gentianaceae, présente en Afrique tropicale.\",\n",
       " 'Cardiospermum halicacabum': \"Pois est un nom vernaculaire donné en français à des plantes ou des légumes de la famille des Fabaceae, du genre Pisum, plus particulièrement de l'espèce Pisum sativum, appelée « petit pois » ou simplement « pois ». On trouve également dans cette espèce les pois mangetout, les pois fourragers ainsi que les pois sauvages.\\nNéanmoins, de nombreuses autres plantes d'espèces différentes, consommées ou non par l'homme, sont appelées « pois », souvent par analogie de forme de leurs graines avec celles du pois cultivé. Ce sont, sauf exception, également des plantes de la famille des Fabaceae.\",\n",
       " 'Deinbollia pycnophylla': 'Deinbollia est un genre de plantes de la famille des Sapindaceae.',\n",
       " 'Griffonia speciosa': 'Griffonia est un genre de plantes la famille des Caesalpiniaceae selon la classification classique, ou des Fabaceae (sous-famille des Caesalpinioideae) selon la classification phylogénétique.',\n",
       " 'Strychnos boonei': \"Strychnos est un genre de plantes dicotylédones de la famille des Loganiaceae, à répartition pantropicale, qui  regroupe environ 170 espèces acceptées.\\nCe sont des arbustes, des lianes ou de petits arbres souvent épineux, à feuilles opposées. Le fruit est une baie plus ou moins charnue, et dans le cas de l'espèce la plus connue (Strychnos nux-vomica), les graines très toxiques (appelées « noix vomiques »), contiennent divers alcaloïdes, notamment de la strychnine.\",\n",
       " 'Deinbollia macroura': 'Deinbollia est un genre de plantes de la famille des Sapindaceae.',\n",
       " 'Anthocleista schweinfurthii': \"Anthocleista est un genre d'arbres de la famille des Gentianaceae, présente en Afrique tropicale.\",\n",
       " 'Dialium Zenkeri': \"Dialium est un genre de plantes dicotylédones de la famille des Fabaceae, sous-famille des Caesalpinioideae, à répartition pantropicale, qui comprend une quarantaine d'espèces acceptées.\\nCe sont des arbres pouvant atteindre 35 mètres de haut. Certaines espèces sont exploitées pour leur bois dur, apprécié comme bois d'œuvre. D'autres fournissent des fruits dont la pulpe et les graines sont comestibles.\\nEn indonésie, le fruit de Dialium indum est appelé karanji.\",\n",
       " 'Deinbollia macrantha': 'Deinbollia macrantha est une espèce de petit arbre de la famille des Sapindaceae.',\n",
       " 'Plagiosiphon discifer': \"Plagiosiphon discifer Harms est une espèce de plantes du genre Plagiosiphon et de la famille des Fabaceae (selon APGIII). Décrite par Hermann Harms en 1897, c'est une plante endémique du Cameroun.\",\n",
       " 'Swartzia madagascariensis': \"Bobgunnia madagascariensis est un arbre de la famille des Fabaceae. L'Université de Lausanne a effectué des recherches au Zimbabwe sur cette plante pour le compte de Phytera et breveté une substance antifongique provenant de la racine de cet arbre.\",\n",
       " 'Copaifera religiosa': \"Copaifera est un genre botanique composé de 25 à 43 espèces d'arbres tropicaux.\",\n",
       " 'Strychnos asterantha': \"Strychnos est un genre de plantes dicotylédones de la famille des Loganiaceae, à répartition pantropicale, qui  regroupe environ 170 espèces acceptées.\\nCe sont des arbustes, des lianes ou de petits arbres souvent épineux, à feuilles opposées. Le fruit est une baie plus ou moins charnue, et dans le cas de l'espèce la plus connue (Strychnos nux-vomica), les graines très toxiques (appelées « noix vomiques »), contiennent divers alcaloïdes, notamment de la strychnine.\",\n",
       " 'Berlinia grandiflora': \"Berlinia est un genre de plantes dicotylédones de la famille des Fabaceae, sous-famille des Caesalpinioideae, originaire d'Afrique, qui comprend 18 espèces acceptées.\\nCe sont des arbustes ou de arbres de taille variable (de 10 à 40 mètres de haut). Certaines espèces, notamment Berlinia bracteosa, Berlinia confusa et Berlinia grandiflora, sont exploitées pour leur bois utilisé comme bois d'œuvre et commercialisé sous le nom d'« ebiara ».\",\n",
       " 'Lagenaria breviflora': \"Lagenaria est un genre de lianes de la famille des Cucurbitacées donnant des courges, également connu sous le nom de gourde.\\nLe genre est composé d'au moins sept espèces dont la plus connue est la calebasse (Lagenaria siceraria).\",\n",
       " 'Momordica angustisepala': \"Momordica est un genre de plantes de la famille des Cucurbitaceae.\\nUne de ses espèces la plus connue est la margose, concombre amer ou momordique (Momordica charantia). Les fruits de Momordica cochinchinensis, Momordica dioica et Momordica grosvenorii sont également cultivés pour l'alimentation humaine mais sont de moindre importance commerciale.\",\n",
       " 'Lychnodiscus grandifolius': \"Lychnodiscus grandifolius Radlk. est une espèce d'arbres d'Afrique tropicale de la famille des Sapindaceae et du genre Lychnodiscus que l’on trouve principalement au Cameroun et au Gabon, également au Nigeria,.\",\n",
       " 'Manilkara multinervis': \"Les chutes de Kota (ou chutes de la Kota) forment un chapelet de cascades à l'est de la chaîne de l'Atacora au Bénin. Elles font partie des aires protégées du Bénin et sont situées dans l'arrondissement de Kotopounga, à une vingtaine de kilomètres de Natitingou.\",\n",
       " 'Gambeya subnuda': 'Gambeya est un genre de plantes de la famille des Sapotaceae.',\n",
       " 'Cucurbita maxima': \"Le potiron (Cucurbita maxima) est une plante de la famille des Cucurbitacées originaire des régions tropicales d'Amérique du Sud.\\nLe potiron est largement cultivé comme plante potagère pour son fruit comestible à maturité. Le terme désigne aussi ce fruit consommé comme légume. C'est l'une des cinq espèces de courges les plus couramment cultivées.\",\n",
       " 'Isoberlinia tomentosa': 'Isoberlinia tomentosa est une espèce de plantes de la famille des Fabaceae et du genre Isoberlinia, présente en Afrique tropicale.',\n",
       " 'Momordica Charantia': 'La margose, ou le melon amer / momordique (momordica charantia), est une plante potagère grimpante de la famille des cucurbitaceae, cultivée dans les climats chauds ou tempérés en plante annuelle. Le terme \"margose\" désigne la plante et le fruit, la plante est parfois nommée improprement margosier qui désigne en créole de l\\'Océan indien le mélia (Melia azedarach. L).\\nLe fruit, la feuille et les graines sont comestibles et amers (le mucilage rouge qui entoure la graine est la seule partie douce de la plante). Cette amertume provient des momordicines, substances proches de la quinine. La margose est connue pour ses qualités culinaires et pour ses propriétés thérapeutiques en médecine traditionnelle, notamment dans le traitement du diabète et de certains cancers.',\n",
       " 'Hydrocotyle hirta': 'Le genre Dorstenia fait partie de la famille des Moraceae. Les espèces de ce genre sont des plantes succulentes.\\nLe nom de ce genre est un hommage à Théodoric Dorsténius, un médecin allemand du XVIe siècle.\\nLa fleur des plantes de ce genre est monopétale et irrégulière.',\n",
       " 'Cucumis hirsutus': 'Cucumis hirsutus est une espèce de plantes herbacées vivace de la tribu des Benincaseae et de la famille de la courge (Cucurbitaceae). Ses feuilles sont consommés cuites.',\n",
       " 'Gilbertiodendron brachystegioides': \"Gilbertiodendron brachystegioides est une espèce d'arbres de la famille des Fabaceae et du genre Gilbertiodendron, présente en Afrique tropicale.\",\n",
       " 'Allophylus conraui': 'Allophylus conraui Gilg ex Radlk. est une espèce de plantes de la famille des Sapindaceae et du genre Allophylus, originaire du Cameroun.',\n",
       " 'Lychnodiscus brevibracteatus': 'Lychnodiscus est un genre de plantes de la famille des Sapindaceae.',\n",
       " 'Blighia welwitschii': \"Blighia est un genre d'arbres et d'arbustes de la famille des Sapindaceae. \\nIl comprend plusieurs espèces originaires d'Afrique tropicale (de l'Est de la Guinée au Kenya). Le non du genre honore le capitaine William Bligh. Les fruits forment des arilles comestibles et Blighia sapida est une espèce cultivée.\",\n",
       " 'Allophylus hirtellus': \"Allophylus est un genre d'arbres et d'arbustes de la famille des Sapindaceae. Il comprend environ 200 espèces réparties dans les régions tropicales et subtropicales.\",\n",
       " 'Telfairia Batesii': 'Telfairia batesii Keraudren est une espèce de plantes de la famille des Cucurbitaceae et du genre Telfairia , endémique du Cameroun.',\n",
       " 'Zehneria scabra': \"La liste des espèces de plantes menacées en Australie ci-dessous comprend toutes les espèces végétales énumérées comme gravement menacées ou en danger critique d'extinction en Australie selon l’Environment Protection and Biodiversity Conservation Act 1999.\",\n",
       " 'Cyathula uncinulata': 'Cyathula Blume est un genre de plantes de la famille des Amaranthaceae.',\n",
       " 'Lagenaria siceraria': \"La calebasse, ou gourde, ou louche est une espèce de plantes herbacées annuelles de la famille des Cucurbitacées, cultivée comme plante potagère pour son fruit caractéristique également dénommé calebasse. Ce fruit est utilisé à l'état sec depuis des temps préhistoriques dans toutes les régions du monde pour fabriquer divers objets (ex. : récipient portatif pour boisson), ou plus rarement consommé à l'état frais comme légume.\\nNom commun : calebasse, gourde, gourde pèlerine, cougourde, cougourdon (surtout dans la région niçoise), cuyon (dans le Sud-Ouest), courge-bouteille. Allemand : Flaschenkürbis ; anglais : calabash gourd, bottle gourd ; espagnol : calabaza, cajombre.\\nNom scientifique : Lagenaria siceraria (Molina) Standl., famille des Cucurbitacées, tribu des Benincaseae.\\nSynonymes :\\n\\n(=) Cucurbita lagenaria L., c'est le nom encore utilisé par les jardiniers\\n(=) Cucurbita leucantha Duchesne\\n(=) Cucurbita longa hort.\\n(≡) Cucurbita siceraria Molina (basionyme)\\n(=) Lagenaria lagenaria (L.) Cockerell, nom. inval.\\n(≡) Lagenaria leucantha Rusby\\n(=) Lagenaria vulgaris Ser.La calebasse est également le fruit d'une plante différente, le calebassier, un petit arbre tropical de la famille des Bignoniacées.\",\n",
       " 'Berlinia auriculata': \"Berlinia est un genre de plantes dicotylédones de la famille des Fabaceae, sous-famille des Caesalpinioideae, originaire d'Afrique, qui comprend 18 espèces acceptées.\\nCe sont des arbustes ou de arbres de taille variable (de 10 à 40 mètres de haut). Certaines espèces, notamment Berlinia bracteosa, Berlinia confusa et Berlinia grandiflora, sont exploitées pour leur bois utilisé comme bois d'œuvre et commercialisé sous le nom d'« ebiara ».\",\n",
       " 'Anthocleista laxiflora': \"Anthocleista est un genre d'arbres de la famille des Gentianaceae, présente en Afrique tropicale.\",\n",
       " 'Momordica camerounensis': 'Momordica camerounensis est une espèce de plante épiphyte de la famille des Cucurbitaceae. et du genre Momordica, selon la classification phylogénétique.\\nSon épithète spécifique camerounensis fait référence au Cameroun.',\n",
       " 'Gomphrena celosioides': \"Les Amaranthaceae (Amaranthacées) sont une famille de plantes dicotylédones de l'ordre des Caryophyllales. Cette famille comprend plus de 800 espèces réparties en environ 75 genres.\\nCe sont des arbustes ou des plantes herbacées, des régions tempérées à tropicales, largement répandues.\\nEn France, la famille des Amaranthaceae est représentée par le genre Amaranthus, les amarantes ou amaranthes, qui comprend des plantes ornementales (amarante queue-de-renard), des plantes cultivées (betterave) ou qui sont des adventices indésirables dans les cultures, ainsi que par des salicornes.\",\n",
       " 'Didelotia africana': \"Les essences fréquemment utilisées, commercialisées ou ayant été commercialisées sont :\\n\\nAcajou amer, Cedrela odorata L., Méliacées\\nAcajou d'Afrique, Khaya ivorensis A. Chev., Méliacées\\nAcajou d'Amérique, Swietenia mahagoni (L.) Jacq., Méliacées\\nAfrormosia, Pericopsis elata, Fabacées\\nAmarante, Peltogyne venosa, Césalpiniacées\\nAmourette, Piratinera guianensis, Moracées\\nAssamela\\nAngélique, Dicorynia guianensis Amshoff, Fabacées\\nAvodiré, Turraeanthus africana, Méliacées\\nAzobé, Lophira alata Banks ex C. F. Gaertn., Ochnacées\\nBalata franc, Manilkara bidentata, Sapotacées\\nBalsa, Ochroma pyramidale (Cav. ex Lam.) Urb., Malvacées\\nBété, Mansonia Altissima, Sterculiacées\\nBilinga, Nauclea trillesii, Rubiacées\\nBois de rose, Dalbergia variabilis, Fabacées\\nBois violet ou Bois de violette, Dalbergia cearensis, Fabacées\\nBossé clair, Guarea cedrata, Méliacées\\nBois canon, Cécropia, Cécropiacées\\nCoumarou ou Cumaru, Dipteryx odorata, Fabacées\\nDabéma, Pitadenia africana Mimosacées\\nDoussié, Afzelia sp, Césalpiniacées\\nÉbène, Diospyros ebenum J. König, Ébénacées\\nFlamboyant, Delonix regia,  Césalpiniacées\\nFramiré, Terminalia ivorensis Engl. & Diels, Combretacées\\nFraké ou Limba, Terminalia superba A. Chev., Combretacées\\nFromager, Ceiba pentandra, Bombacaceae\\nGombé, Didelotia africana, idae, letouzeyi, brevipaniculata, spp., Leguminosae - Césalpiniacées\\nGmelina, Gmelina arborea Roxb., Lamiacées\\nGrenadille, Dalbergia melanoxylon, Fabacées\\nIpé, Tabebuia spp, Bignoniaceae\\nIroko, Milicia excelsa (Welw.) C. C. Berg, Moracées\\nMoabi, Baillonella toxisperma Pierre, Sapotacées\\nMovingui\\nNiangon, Heritiera utilis (Sprague) Sprague, Malvacées\\nOkoumé, Aucoumea klaineana Pierre, Burséracées\\nOzigo, Dacryodes buetnerii, Burséracées\\nPalissandre d'Asie, Dalbergia latifolia Roxb., Fabacées\\nPalissandre de Rio, Dalbergia nigra (Vell.) Allemão ex Benth., Fabacées\\nSapelli, Entandrophragma cylindricum (Sprague) Sprague, Méliacées\\nSamba, Wawa ou ayous, Triplochiton scleroxylon K. Schum., Sterculiacées\\nSipo, Entandrophragma utile (Dawe & Sprague) Sprague, Méliacées\\nTamarinier, Tamarindus indica, Césalpiniacées\\nTchitola,\\nTeck, Tectona grandis L. f., Verbénacées. Pour le Teck du Brésil, voir Coumarou.\\nTola, Prioria balsamiferum, Césalpiniacées\\nWapa, Eperua falcata, Césalpiniacées\\nWenge, Millettia Laurentii, Fabacées\",\n",
       " 'Hymenostegia brachyura': 'Hymenostegia brachyura (Harms) J. Léonard est une espèce de plantes du genre Hymenostegia, de la famille des Fabaceae,, endémique du Cameroun.',\n",
       " 'Cardiospermum grandiflorum': \"Cardiospermum est un genre de lianes et d'arbustes de la famille des Sapindaceae.\",\n",
       " 'Allophylus welwitschii': \"Allophylus est un genre d'arbres et d'arbustes de la famille des Sapindaceae. Il comprend environ 200 espèces réparties dans les régions tropicales et subtropicales.\",\n",
       " 'Manilkara Zenkeri': \"Manilkara zenkeri Lecomte ex Aubrév. & Pellegr. est une espèce de plantes d'Afrique tropicale de la famille des Sapotaceae et du genre Manilkara.\",\n",
       " 'Gambeya perpulchra': 'Gambeya est un genre de plantes de la famille des Sapotaceae.',\n",
       " 'Coccinia grandis': \"Coccinia grandis (tindola ou courge écarlate) est une espèce de plantes herbacées vivaces, grimpantes ou rampantes, de la famille des Cucurbitaceae, originaire des régions tropicales  d'Afrique et d'Asie.\",\n",
       " 'Anthocleista djalonensis': \"Anthocleista est un genre d'arbres de la famille des Gentianaceae, présente en Afrique tropicale.\",\n",
       " 'Tetraberlinia polyphylla': \"Tetraberlinia est un genre de plantes dicotylédones de la famille des Fabaceae (légumineuses), sous-famille des Caesalpinioideae, originaire d'Afrique équatoriale, qui comprend sept espèces acceptées.\",\n",
       " 'Momordica Jeffreyana': \"Momordica est un genre de plantes de la famille des Cucurbitaceae.\\nUne de ses espèces la plus connue est la margose, concombre amer ou momordique (Momordica charantia). Les fruits de Momordica cochinchinensis, Momordica dioica et Momordica grosvenorii sont également cultivés pour l'alimentation humaine mais sont de moindre importance commerciale.\",\n",
       " 'Dialium Dinklagei': \"Dialium est un genre de plantes dicotylédones de la famille des Fabaceae, sous-famille des Caesalpinioideae, à répartition pantropicale, qui comprend une quarantaine d'espèces acceptées.\\nCe sont des arbres pouvant atteindre 35 mètres de haut. Certaines espèces sont exploitées pour leur bois dur, apprécié comme bois d'œuvre. D'autres fournissent des fruits dont la pulpe et les graines sont comestibles.\\nEn indonésie, le fruit de Dialium indum est appelé karanji.\",\n",
       " 'Hydrocotyle bonariensis': \"Les hydrocotyles (Hydrocotyle) forment un genre de plantes aquatiques ou semi-aquatiques autrefois classées parmi les Apiaceae et maintenant dans la famille des Araliaceae. Dans leur aire naturelle de répartition, les hydrocotyles sont des plantes très communes ,,.\\nCertaines espèces introduites hors de leur aire naturelle de répartition sont considérées comme localement invasives ; c'est le cas de l'hydrocotyle fausse-renoncule (Hydrocotyle ranunculoides), introduite d'Amérique du Nord en Europe occidentale, qui est en train de coloniser de manière très dense certaines portions de cours d'eau.\",\n",
       " 'Deinbollia rambaensis': 'Deinbollia rambaensis est une espèce de plantes du genre Deinbollia de la famille des Sapindaceae endémique du Gabon.',\n",
       " 'Brachystegia eurycoma': \"Brachystegia est un genre botanique composé de 25 à 43 espèces d'arbres tropicaux originaires d'Afrique. Les arbres de ce genre sont généralement connus sous le nom de miombo et sont prédominants dans les formations arborées de miombo d'Afrique centrale et méridionale.\\n\\n\",\n",
       " 'Anthocleista vogelii': \"Anthocleista vogelii est une espèce petits arbres tropicaux de la famille des Gentianaceae et du genre Anthocleista, présente en Afrique de l'Ouest.\",\n",
       " 'Strychnos angolensis': \"Strychnos est un genre de plantes dicotylédones de la famille des Loganiaceae, à répartition pantropicale, qui  regroupe environ 170 espèces acceptées.\\nCe sont des arbustes, des lianes ou de petits arbres souvent épineux, à feuilles opposées. Le fruit est une baie plus ou moins charnue, et dans le cas de l'espèce la plus connue (Strychnos nux-vomica), les graines très toxiques (appelées « noix vomiques »), contiennent divers alcaloïdes, notamment de la strychnine.\",\n",
       " 'Achyranthes talbotii': 'Achyranthes talbotii Hutch. & Dalziel est une espèce de plantes herbacées de la famille des Amaranthaceae et du genre Achyranthes, présente principalement au Cameroun, également au Nigeria.',\n",
       " 'Gambeya gigantea': 'Gambeya est un genre de plantes de la famille des Sapotaceae.',\n",
       " 'Cucurbita moschata': \"La courge musquée (Cucurbita moschata Duchesne) est une plante de la famille des Cucurbitacées, largement cultivée comme plante potagère pour son fruit comestible à maturité. C'est l'une des cinq espèces de courges les plus couramment cultivées.\\nNoms communs : courge musquée, courge muscade, sucrine.\\nLe terme « courge » désigne aussi ce fruit consommé comme légume, ainsi que les potirons (Cucurbita maxima) et les courges en général.\",\n",
       " 'Gilletiodendron Mildbraedii': \"Gilletiodendron est un genre de plantes dicotylédones de la famille des Fabaceae, sous-famille des Caesalpinioideae, originaire d'Afrique, qui comprend cinq espèces acceptées.\",\n",
       " 'Swartzia fistuloides': \"Swartzia est un genre de la famille des Fabaceae de la sous-famille des Faboideae (Légumineuses) comprenant plus de 180 espèces d'arbres tropicaux. Certains fournissent des bois précieux. \\nL'espèce type est Swartzia alata Willd. (dont le nom correct est Swartzia guianensis (Aubl.) Urb.).\\nBobgunnia fistuloides (Harms) J.H. Kirkbr. & Wiersema (anciennement Swartzia fistuloides Harms) correspond au Pau-rosa d'Afrique de l'Ouest\",\n",
       " 'Pancovia laurentii': 'Pancovia est un genre de plantes de la famille des Sapindaceae.',\n",
       " 'Gilbertiodendron ogoouense': \"Gilbertiodendron est un genre de plantes appartenant à la famille des Fabaceae.\\nSon nom rend hommage à l'ingénieur et botaniste belge Georges Gilbert.\",\n",
       " 'GiLbertiodendron pachyanthum': \"Gilbertiodendron pachyanthum (Harms) J. Léonard est une espèce d'arbres de la famille des Fabacées et du genre Gilbertiodendron, endémique du Cameroun.\",\n",
       " 'Brachystegia cynometroides': 'Brachystegia cynometroides est un arbre à taille moyenne à assez grande de la famille des Caesalpiniaceae (Leguminosae - Caesalpinioideae), peu réparti. On le trouve principalement dans l’ouest du Cameroun et en Guinée équatoriale - Bioko. L’arbre pousse généralement jusqu’à 200 m d’altitude, dans les régions à températures moyennes de 23,5-25 °C.  Son nom commun est naga.',\n",
       " 'Alternanthera nodiflora': 'Alternanthera est un genre qui regroupe plus de 80 plantes herbacées, dont un certain nombre peut être utilisé en aquarium.',\n",
       " 'Gambeya Lacourtiana': 'Gambeya est un genre de plantes de la famille des Sapotaceae.',\n",
       " 'Aphanocalyx margininervatus': \"Aphanocalyx est un genre de plantes dicotylédones de la famille des Fabaceae, sous-famille des Caesalpinioideae, originaire d'Afrique, qui comprend une quinzaine d'espèces acceptées.\\nCe sont des arbres ou arbustes poussant dans les forêts pluviales et forêts riveraines de plaine ou submontagnardes, souvent sur des sols sablonneux pauvres en éléments nutritifs. Ces espèces forment habituellement des peuplements monodominants.\\nCertaines espèces sont exploitées pour leur bois utilisé comme bois d'œuvre et commercialisé sous le nom d’« andoung ».\",\n",
       " 'Anthocleista obanensis': \"Anthocleista est un genre d'arbres de la famille des Gentianaceae, présente en Afrique tropicale.\",\n",
       " 'Gambeya africana': 'Gambeya est un genre de plantes de la famille des Sapotaceae.',\n",
       " 'Cyathula achyranthoides': 'Cyathula Blume est un genre de plantes de la famille des Amaranthaceae.',\n",
       " 'Pancovia pedicellaris': 'Pancovia est un genre de plantes de la famille des Sapindaceae.',\n",
       " 'Section Densiflorae': 'Parashorea densiflora est un grand arbre sempervirent de la Péninsule Malaise appartenant à la famille des Diptérocarpacées.',\n",
       " 'Blighia unijugata': \"Blighia est un genre d'arbres et d'arbustes de la famille des Sapindaceae. \\nIl comprend plusieurs espèces originaires d'Afrique tropicale (de l'Est de la Guinée au Kenya). Le non du genre honore le capitaine William Bligh. Les fruits forment des arilles comestibles et Blighia sapida est une espèce cultivée.\",\n",
       " 'Griffonia physocarpa': 'Griffonia est un genre de plantes la famille des Caesalpiniaceae selon la classification classique, ou des Fabaceae (sous-famille des Caesalpinioideae) selon la classification phylogénétique.',\n",
       " 'Berlinia Craibiana': \"Berlinia est un genre de plantes dicotylédones de la famille des Fabaceae, sous-famille des Caesalpinioideae, originaire d'Afrique, qui comprend 18 espèces acceptées.\\nCe sont des arbustes ou de arbres de taille variable (de 10 à 40 mètres de haut). Certaines espèces, notamment Berlinia bracteosa, Berlinia confusa et Berlinia grandiflora, sont exploitées pour leur bois utilisé comme bois d'œuvre et commercialisé sous le nom d'« ebiara ».\",\n",
       " 'Peucedanum Zenkeri': 'Peucedanum est un genre végétal de la famille des Apiaceae (Ombellifères). Ce nom latin est dérivé du grec πευκέδανον, peukédanon, lui même formé à partir de πεύκη, peukê (« pin ») pour désigner des plantes ayant une odeur résineuse .',\n",
       " 'Anthocleista scandens': \"Anthocleista est un genre d'arbres de la famille des Gentianaceae, présente en Afrique tropicale.\",\n",
       " 'Strychnos chromatoxylon': \"Strychnos est un genre de plantes dicotylédones de la famille des Loganiaceae, à répartition pantropicale, qui  regroupe environ 170 espèces acceptées.\\nCe sont des arbustes, des lianes ou de petits arbres souvent épineux, à feuilles opposées. Le fruit est une baie plus ou moins charnue, et dans le cas de l'espèce la plus connue (Strychnos nux-vomica), les graines très toxiques (appelées « noix vomiques »), contiennent divers alcaloïdes, notamment de la strychnine.\",\n",
       " 'Didelotia Letouzeyi': \"Didelotia letouzeyi, aussi appelé gombé, fait partie de la famille des Caesalpiniaceae. Ses diverses appellations vernaculaires sont : Ekop-gombé ou Gombé (Cameroun), Broutou ou Toubaouaté (Côte d'Ivoire), Angok ou Tomé (Gabon), Bondu (Liberia) et Timba (Sierra Leone). Ses synonymes botaniques sont : Didelotia africana Baill., Didelotia brevipaniculata J. Léonard, Didelotia idae Oldeman & Al. Et Didelotia p.p. L'épithète letouzeyi fait référence au botaniste français René Letouzey. Il s’agit d’une espèce rare que l’on retrouve disséminée pied par pied dans la forêt primitive et souvent dans les peuplements d’Andoungs au Gabon, mais aussi au Cameroun et dans le Mayombe congolais. Le gombé est semblable à l’okoumé et on confond aussi souvent Didelotia letouzeyi avec Didelotia africana.\",\n",
       " 'Brachystegia Zenkeri': \"Brachystegia est un genre botanique composé de 25 à 43 espèces d'arbres tropicaux originaires d'Afrique. Les arbres de ce genre sont généralement connus sous le nom de miombo et sont prédominants dans les formations arborées de miombo d'Afrique centrale et méridionale.\\n\\n\",\n",
       " 'Section Brevitubae': \"Baicalellia est un genre de vers plats aquatiques de la famille des Provorticidae et de l'ordre des Rhabdocoela.\\n\\n\",\n",
       " 'Gilbertiodendron demonstrans': \"Gilbertiodendron est un genre de plantes appartenant à la famille des Fabaceae.\\nSon nom rend hommage à l'ingénieur et botaniste belge Georges Gilbert.\",\n",
       " 'Strychnos camptoneura': 'Strychnos camptoneura est une espèce de plantes de la famille des Loganiaceae et du genre Strychnos, présente en Afrique tropicale.',\n",
       " 'Tetraberlinia bifoliolata': \"Tetraberlinia est un genre de plantes dicotylédones de la famille des Fabaceae (légumineuses), sous-famille des Caesalpinioideae, originaire d'Afrique équatoriale, qui comprend sept espèces acceptées.\",\n",
       " 'Cassia mimosoides': \"Cassia est un genre de la famille des Caesalpiniaceae dans la classification classique de Cronquist (1981), ou de la famille des Fabaceae, sous-famille des Caesalpinioideae  dans la classification phylogénétique APG II (2003).\\nDes espèces du genre Cassia sont des plantes qui servent d'aliment aux larves de certaines espèces de lépidoptères, parmi lesquelles Endoclita malabaricus.\",\n",
       " 'Coccinia adoensis': \"Coccinia est un genre de plantes herbacées de la famille des Cucurbitaceae.\\nCe genre comprend 25 espèces originaires de l'Afrique subsaharienne avec une espèce aussi distribuée à l'Asie du Sud et du Sud-est, qui est aussi envahissante aux îles de l'océan pacifique et l'Amérique tropicale.\\nL'espèce plus connue est Coccinia grandis, la courge écarlate, qui est cultivée pour ses feuilles jeunes et fruits comestibles.\\nLe nom générique Coccinia dérive du latin coccineus, écarlate, en référence à la couleur rouge brillant du fruit mûr.\",\n",
       " 'Strychnos aculeata': \"Strychnos est un genre de plantes dicotylédones de la famille des Loganiaceae, à répartition pantropicale, qui  regroupe environ 170 espèces acceptées.\\nCe sont des arbustes, des lianes ou de petits arbres souvent épineux, à feuilles opposées. Le fruit est une baie plus ou moins charnue, et dans le cas de l'espèce la plus connue (Strychnos nux-vomica), les graines très toxiques (appelées « noix vomiques »), contiennent divers alcaloïdes, notamment de la strychnine.\",\n",
       " 'Amphimas pterocarpoides': \"Amphimas pterocarpoides est un arbre de la famille des Fabaceae. Cet arbre fruitier, de genre Amphimas,  est une plante originaire d'Afrique et pousse dans les forêts sempervirentes comme dans les forêts décidues et secondaires. Au Cameroun, cette plante est appelée lati parallèle, edjin ou encore edzil.\",\n",
       " 'Plagiosiphon longitubus': \"Plagiosiphon est un genre de plantes dicotylédones de la famille des Fabaceae, sous-famille des Caesalpinioideae, originaire d'Afrique, qui comprend cinq espèces acceptées.\",\n",
       " 'Cassia Kirkii': \"Cassia est un genre de la famille des Caesalpiniaceae dans la classification classique de Cronquist (1981), ou de la famille des Fabaceae, sous-famille des Caesalpinioideae  dans la classification phylogénétique APG II (2003).\\nDes espèces du genre Cassia sont des plantes qui servent d'aliment aux larves de certaines espèces de lépidoptères, parmi lesquelles Endoclita malabaricus.\",\n",
       " 'Piliostigma Thonningii': \"Le genre Bauhinia ou arbre à orchidées est un genre des plantes dicotylédones, famille des Caesalpiniaceae (ou des Fabaceae, sous-famille des Caesalpinioideae). Le genre tire son nom des frères Johan et Gaspard Bauhin, naturalistes franco-suisses du XVe siècle ; d'après la légende parce que la proximité des feuilles rappelle celle des deux frères.\\nLa circonscription du genre est discutée.\",\n",
       " 'Plagiosiphon emarginatus': \"Plagiosiphon est un genre de plantes dicotylédones de la famille des Fabaceae, sous-famille des Caesalpinioideae, originaire d'Afrique, qui comprend cinq espèces acceptées.\",\n",
       " 'Strychnos campicola': \"Strychnos est un genre de plantes dicotylédones de la famille des Loganiaceae, à répartition pantropicale, qui  regroupe environ 170 espèces acceptées.\\nCe sont des arbustes, des lianes ou de petits arbres souvent épineux, à feuilles opposées. Le fruit est une baie plus ou moins charnue, et dans le cas de l'espèce la plus connue (Strychnos nux-vomica), les graines très toxiques (appelées « noix vomiques »), contiennent divers alcaloïdes, notamment de la strychnine.\",\n",
       " 'Copaifera Mildbraedii': \"Copaifera est un genre botanique composé de 25 à 43 espèces d'arbres tropicaux.\",\n",
       " 'Cassia obtusifolia': \"Senna obtusifolia (pistache marron ou casse fétide) est une espèce de plantes dicotylédones de la famille des Fabaceae originaire des régions tropicales d'Amérique du Sud.\\nCette plante, herbacée annuelle ou vivace, ou arbrisseau, est considérée comme une mauvaise herbe dans toutes les régions où elle a été introduite, en particulier en Australie.\",\n",
       " 'Detarium macrocarpum': \"Detarium est un genre de plantes dicotylédones de la famille des Fabaceae (Légumineuses), sous-famille des Caesalpinioideae, originaire d'Afrique, qui comprend quatre espèces acceptées.\",\n",
       " 'Allophylus lastoursvillensis': \"Allophylus est un genre d'arbres et d'arbustes de la famille des Sapindaceae. Il comprend environ 200 espèces réparties dans les régions tropicales et subtropicales.\",\n",
       " 'Hymenostegia Felicis': \"Hymenostegia est un genre de plantes dicotylédones de la famille des Fabaceae, sous-famille des Caesalpinioideae, originaire d'Afrique équatoriale, qui comprend une quinzaine d'espèces acceptées.\\nCe sont des arbustes ou des arbres pouvant atteindre 30 mètres de haut, aux feuilles composées paripennées. Les arbres produisent un bois durable, au grain fin, susceptible de prendre un beau poli, mais la quantité produite est très limitée. Certaines espèces sont utilisées comme arbres d'ornement dans les parcs et jardins ou dans les rues.\",\n",
       " 'Gambeya boukokoensis': 'Gambeya est un genre de plantes de la famille des Sapotaceae.',\n",
       " 'Coccinia Barteri': \"Coccinia est un genre de plantes herbacées de la famille des Cucurbitaceae.\\nCe genre comprend 25 espèces originaires de l'Afrique subsaharienne avec une espèce aussi distribuée à l'Asie du Sud et du Sud-est, qui est aussi envahissante aux îles de l'océan pacifique et l'Amérique tropicale.\\nL'espèce plus connue est Coccinia grandis, la courge écarlate, qui est cultivée pour ses feuilles jeunes et fruits comestibles.\\nLe nom générique Coccinia dérive du latin coccineus, écarlate, en référence à la couleur rouge brillant du fruit mûr.\",\n",
       " 'Deinbollia maxima': 'Deinbollia est un genre de plantes de la famille des Sapindaceae.',\n",
       " 'Anthonotha ferruginea': \"Anthonotha est un genre de plantes dicotylédones de la famille des Fabaceae, sous-famille des Caesalpinioideae, originaire d'Afrique tropicale, qui compte une trentaine d'espèces acceptées.\",\n",
       " 'Allophylus ngounyensis': \"Allophylus est un genre d'arbres et d'arbustes de la famille des Sapindaceae. Il comprend environ 200 espèces réparties dans les régions tropicales et subtropicales.\",\n",
       " 'Erythrophleum ivorense': 'Erythrophleum ivorense est un arbre de la famille des Caesalpiniaceae, qui a pour noms vernaculaires lim du Gabon, ou encore tali (en français), et ordeal tree, ou sasswood tree (en anglais). L’arbre est présent de la Gambie à la Centrafrique et au Gabon.',\n",
       " 'Aporrhiza multijuga': 'Aporrhiza multijuga est une espèce de plantes de la famille des Sapindaceae et du genre Aporrhiza, endémique du Cameroun.',\n",
       " 'Gambeya Beguei': 'Gambeya est un genre de plantes de la famille des Sapotaceae.',\n",
       " 'Strychnos canthioides': \"Strychnos est un genre de plantes dicotylédones de la famille des Loganiaceae, à répartition pantropicale, qui  regroupe environ 170 espèces acceptées.\\nCe sont des arbustes, des lianes ou de petits arbres souvent épineux, à feuilles opposées. Le fruit est une baie plus ou moins charnue, et dans le cas de l'espèce la plus connue (Strychnos nux-vomica), les graines très toxiques (appelées « noix vomiques »), contiennent divers alcaloïdes, notamment de la strychnine.\",\n",
       " 'Anthocleista microphylla': \"Anthocleista est un genre d'arbres de la famille des Gentianaceae, présente en Afrique tropicale.\",\n",
       " 'Tessmannia anomala': \"Tessmannia est un genre de plantes dicotylédones de la famille des Fabaceae (Légumineuses), sous-famille des Caesalpinioideae, originaire d'Afrique, qui comprend une douzaine d'espèces acceptées.\\nCe sont des arbres  dont certaines espèces sont exploitées pour leur résine (copal) ou leur bois utilisé comme bois d'œuvre (menuiserie, traverses de chemin de fer, manches d'outils, poteaux).\",\n",
       " 'Momordica Friesiorum': \"Momordica est un genre de plantes de la famille des Cucurbitaceae.\\nUne de ses espèces la plus connue est la margose, concombre amer ou momordique (Momordica charantia). Les fruits de Momordica cochinchinensis, Momordica dioica et Momordica grosvenorii sont également cultivés pour l'alimentation humaine mais sont de moindre importance commerciale.\",\n",
       " 'Deinbollia cuneifolia': 'Deinbollia est un genre de plantes de la famille des Sapindaceae.',\n",
       " 'Didelotia unifoliolata': \"Didelotia est un genre de plantes dicotylédones de la famille des Fabaceae (Légumineuses), sous-famille des Caesalpinioideae, originaire d'Afrique et d'Amérique du Sud, qui comprend une douzaine d'espèces acceptées.\\nCe sont des arbres qui poussent dans les forêts pluviales tropicales de plaine, souvent le long des cours d'eau.\\nCertaines espèces sont exploitées pour leur bois, parfois commercialisé sous le nom de « gombé », et utilisé comme bois d'œuvre pour la construction, la menuiserie, la fabrication de contreplaqués et panneaux lattés, ou bien transformé en charbon de bois.\",\n",
       " 'Citrullus lanatus': \"La pastèque  (Citrullus lanatus (Thunb.) Matsum. & Nakai, 1916), aussi appelée melon d'eau au Québec, est une espèce de plantes herbacées de la famille des Cucurbitacées, originaire d'Afrique, largement cultivée pour ses gros fruits lisses, à chair rouge, jaune, verdâtre ou blanche et à graines noires ou rouges. Le terme désigne également ce fruit. Le fruit pèse généralement, à maturité, entre 2 et 5 kg.\\nIl faut distinguer la pastèque consommable crue de la pastèque à confiture ou « citre » qui doit être cuite. Cette dernière est aussi communément appelée « courge gigérine » ou « courge barbarine » dans le sud de la France et « melons de Moscovie » en Charentes.\",\n",
       " 'Aporrhiza talbotii': 'Aporrhiza est un genre de plantes de la famille des Sapindaceae.',\n",
       " 'Celosia globosa': 'Les célosies sont des plantes annuelles appartenant au genre Celosia de la famille des Amaranthaceae dont certaines espèces sont cultivées comme plantes ornementales pour leur floraison en épis spectaculaire, et parfois comme plantes potagères, pour leurs feuilles comestibles à la manière des épinards ou pour leurs graines. Certaines espèces sont des mauvaises herbes communes dans les champs cultivés.\\nLe groupe des Plumosa offre des fleurs en forme de plumeau alors que le groupe des Olympia présente des inflorescences en forme de crête ondulée, ce qui lui vaut le surnom de crête de coq. Au Mexique, elle est connue, en général, sous le nom de \"Fleur de velours\".[réf. nécessaire]',\n",
       " 'Aporrhiza lastoursvillensis': 'Aporrhiza est un genre de plantes de la famille des Sapindaceae.',\n",
       " 'Peucedanum angustisectum': \"Lefebvrea angustisecta est une espèce de plantes dicotylédones de la famille des Apiaceae (Ombellifères), originaire d'Afrique tropicale.\\nC'est une plante à fleurs qui se rencontre sur les hauts plateaux du Cameroun, mais aussi au Nigeria.\\nL'espèce présente actuellement un faible risque de menace, mais sa situation notamment en prairie lui confère un état de menace futur à cause des feux de brousses et de l'élevage.\",\n",
       " 'Gilbertiodendron Klainei': 'Gilbertiodendron klainei est une espèce de plantes de la famille des Fabaceae.',\n",
       " 'Momordica enneaphylla': \"Momordica est un genre de plantes de la famille des Cucurbitaceae.\\nUne de ses espèces la plus connue est la margose, concombre amer ou momordique (Momordica charantia). Les fruits de Momordica cochinchinensis, Momordica dioica et Momordica grosvenorii sont également cultivés pour l'alimentation humaine mais sont de moindre importance commerciale.\",\n",
       " 'Daniellia oblonga': 'Daniellia oblonga est une espèce de plantes de la famille des Fabaceae.',\n",
       " 'Anthonotha lamprophylla': \"Anthonotha est un genre de plantes dicotylédones de la famille des Fabaceae, sous-famille des Caesalpinioideae, originaire d'Afrique tropicale, qui compte une trentaine d'espèces acceptées.\",\n",
       " 'Berlinia bracteosa': 'Berlinia bracteosa est un arbre de la famille des Caesalpiniaceae (Leguminosae - Caesalpinioideae), que l’on trouve du sud-est du Nigeria jusqu’en Centrafrique, ainsi qu’à l’ouest de la République démocratique du Congo, et vers le sud jusqu’au Cabinda en Angola.',\n",
       " 'Section Breviflorae': \"Amaryllis est un genre de plantes à bulbes de la famille des Amaryllidaceae. Ce sont pour les botanistes les « amaryllis vraies ». En revanche, les fleurs ou bulbes commercialisés sous le nom d'« amaryllis » sont le plus souvent des cultivars d'un genre distinct, Hippeastrum. De plus, Amaryllis est un genre dont la classification est encore débattue par les botanistes et tend à se réduire à un petit nombre d'espèces, voire une seule : l'Amaryllis belladonne (Amaryllis belladonna).\",\n",
       " 'Amphimas ferrugineus': \"Amphimas est un genre de plantes dicotylédones de la famille des Fabaceae, sous-famille des Faboideae, originaire d'Afrique, qui comprend trois espèces acceptées.\",\n",
       " 'Detarium microcarpum': \"Detarium microcarpum est une espèce de plantes du genre Detarium de la famille des Fabaceae, que l'on trouve en Afrique de l'Ouest et du Centre.\",\n",
       " 'Anthonotha fragrans': \"Anthonotha est un genre de plantes dicotylédones de la famille des Fabaceae, sous-famille des Caesalpinioideae, originaire d'Afrique tropicale, qui compte une trentaine d'espèces acceptées.\",\n",
       " 'Plagiosiphon multijugus': \"Plagiosiphon est un genre de plantes dicotylédones de la famille des Fabaceae, sous-famille des Caesalpinioideae, originaire d'Afrique, qui comprend cinq espèces acceptées.\",\n",
       " 'Allophylus spicatus': \"Allophylus est un genre d'arbres et d'arbustes de la famille des Sapindaceae. Il comprend environ 200 espèces réparties dans les régions tropicales et subtropicales.\",\n",
       " 'Afzelia africana': \"Afzelia africana est une espèce d'arbres de la famille des Fabaceae (sous-famille des Caesalpinioideae), originaire d'Afrique.\",\n",
       " 'Daniellia Oliveri': \"Daniellia oliveri est une espèce d'arbres tropicaux de la famille des Fabaceae et du genre Daniellia, présente en Afrique de l'Ouest et du Centre.\\nC'est une plante mellifère appréciée des abeilles notamment pour sa bonne production de nectar.\",\n",
       " 'Strychnos barteri': \"Strychnos est un genre de plantes dicotylédones de la famille des Loganiaceae, à répartition pantropicale, qui  regroupe environ 170 espèces acceptées.\\nCe sont des arbustes, des lianes ou de petits arbres souvent épineux, à feuilles opposées. Le fruit est une baie plus ou moins charnue, et dans le cas de l'espèce la plus connue (Strychnos nux-vomica), les graines très toxiques (appelées « noix vomiques »), contiennent divers alcaloïdes, notamment de la strychnine.\",\n",
       " 'Gilbertiodendron Dewevrei': \"Gilbertiodendron dewevrei est un arbre de grande taille de la famille des Caesalpiniaceae et du genre Gilbertiodendron, qui a pour nom vernaculaire limbali en français. Son aire de répartition s’étend du Nigeria jusqu'en République démocratique du Congo et au nord de l’Angola, généralement au-dessous de 1 000 m d’altitude.\\nSon épithète spécifique dewevrei rend hommage au botaniste belge Alfred Dewèvre.\",\n",
       " 'Brachystegia Mildbraedii': 'Brachystegia mildbraedii est un arbre de taille moyenne de la famille des Caesalpiniaceae (Leguminosae - Caesalpinioideae), que l’on trouve principalement dans l’ouest du Cameroun, en Guinée équatoriale, ainsi qu’au Gabon. Son bois est connu sous le nom de bomanga ou encore ekop évène.',\n",
       " 'Coccinia subhastata': \"Coccinia est un genre de plantes herbacées de la famille des Cucurbitaceae.\\nCe genre comprend 25 espèces originaires de l'Afrique subsaharienne avec une espèce aussi distribuée à l'Asie du Sud et du Sud-est, qui est aussi envahissante aux îles de l'océan pacifique et l'Amérique tropicale.\\nL'espèce plus connue est Coccinia grandis, la courge écarlate, qui est cultivée pour ses feuilles jeunes et fruits comestibles.\\nLe nom générique Coccinia dérive du latin coccineus, écarlate, en référence à la couleur rouge brillant du fruit mûr.\",\n",
       " 'Achyranthes bidentata': \"Achyranthes bidentata est une espèce de plante à fleur de la famille des Amaranthaceae, originaire d'une large partie de l'Asie.\\nSa racine fournit une matière médicale couramment utilisée en Chine depuis au moins deux millénaires.\",\n",
       " 'Cassia italica': \"Cassia est un genre de la famille des Caesalpiniaceae dans la classification classique de Cronquist (1981), ou de la famille des Fabaceae, sous-famille des Caesalpinioideae  dans la classification phylogénétique APG II (2003).\\nDes espèces du genre Cassia sont des plantes qui servent d'aliment aux larves de certaines espèces de lépidoptères, parmi lesquelles Endoclita malabaricus.\",\n",
       " 'Hymenostegia Breteleri': \"Hymenostegia est un genre de plantes dicotylédones de la famille des Fabaceae, sous-famille des Caesalpinioideae, originaire d'Afrique équatoriale, qui comprend une quinzaine d'espèces acceptées.\\nCe sont des arbustes ou des arbres pouvant atteindre 30 mètres de haut, aux feuilles composées paripennées. Les arbres produisent un bois durable, au grain fin, susceptible de prendre un beau poli, mais la quantité produite est très limitée. Certaines espèces sont utilisées comme arbres d'ornement dans les parcs et jardins ou dans les rues.\",\n",
       " 'Monopetalanthus Hedinii': \"Aphanocalyx hedinii est une espèce d'arbres de la famille des Fabaceae, endémique du Cameroun.\",\n",
       " 'Monopetalanthus microphyllus': 'Monopetalanthus heitzii est une espèce de plantes de la famille des Fabaceae.',\n",
       " 'Deinbollia dasybotrys': 'Deinbollia est un genre de plantes de la famille des Sapindaceae.',\n",
       " 'Hydrocotyle sibthorpioides': \"Les hydrocotyles (Hydrocotyle) forment un genre de plantes aquatiques ou semi-aquatiques autrefois classées parmi les Apiaceae et maintenant dans la famille des Araliaceae. Dans leur aire naturelle de répartition, les hydrocotyles sont des plantes très communes ,,.\\nCertaines espèces introduites hors de leur aire naturelle de répartition sont considérées comme localement invasives ; c'est le cas de l'hydrocotyle fausse-renoncule (Hydrocotyle ranunculoides), introduite d'Amérique du Nord en Europe occidentale, qui est en train de coloniser de manière très dense certaines portions de cours d'eau.\",\n",
       " 'Gilbertiodendron mayombense': \"Gilbertiodendron est un genre de plantes appartenant à la famille des Fabaceae.\\nSon nom rend hommage à l'ingénieur et botaniste belge Georges Gilbert.\"}"
      ]
     },
     "execution_count": 12,
     "metadata": {},
     "output_type": "execute_result"
    }
   ],
   "source": [
    "sentences"
   ]
  },
  {
   "cell_type": "code",
   "execution_count": 13,
   "metadata": {},
   "outputs": [
    {
     "data": {
      "text/plain": [
       "146"
      ]
     },
     "execution_count": 13,
     "metadata": {},
     "output_type": "execute_result"
    }
   ],
   "source": [
    "len(sentences)"
   ]
  },
  {
   "cell_type": "code",
   "execution_count": 25,
   "metadata": {},
   "outputs": [],
   "source": [
    "#create a dataframe for all sentences\n",
    "import pandas as pd\n",
    "sdata=pd.DataFrame(list(sentences.items()))"
   ]
  },
  {
   "cell_type": "code",
   "execution_count": 26,
   "metadata": {},
   "outputs": [],
   "source": [
    "sdata.rename(columns={0:\"espèce\",1:\"description\"},inplace=True)"
   ]
  },
  {
   "cell_type": "code",
   "execution_count": 31,
   "metadata": {},
   "outputs": [
    {
     "data": {
      "text/plain": [
       "'Pimpinella Ledermannii'"
      ]
     },
     "execution_count": 31,
     "metadata": {},
     "output_type": "execute_result"
    }
   ],
   "source": [
    "for idx,row in sdata.iterrows():\n",
    "    "
   ]
  },
  {
   "cell_type": "code",
   "execution_count": 33,
   "metadata": {},
   "outputs": [
    {
     "data": {
      "text/plain": [
       "dict_items([('Schefflera abyssinica', 'Le genre Schefflera constitue un groupe d’arbres tropicaux vivaces au luxuriant feuillage persistant de la famille des Araliaceae, originaires de l’Asie et de l’Amérique centrale, où ils peuvent atteindre 30 m de haut. Au Queensland en Australie, il forme un petit arbre pouvant mesurer jusqu’à 12 m. En zone humide, ils poussent aussi en épiphytes sur des rochers ou des arbres. \\nIl est dédié à Jacob Christian Scheffler, botaniste allemand du XIXe siècle.\\nLe genre comprend environ 150 espèces et 900 variétés, originaires des zones tropicales et subtropicales humides, mais on cultive essentiellement les variétés arboricola et actinophylla aux feuilles vertes ou panachés de jaune ou d’ivoire, selon les hybrides, comme plantes tropicales d’intérieur, et peuvent atteindre 1,50 m (arboricola) et 3 m (actinophylla) dans les appartements. Cette plante est appréciée pour sa capacité à purifier l’air des appartements.\\nIls portent les surnoms de parasol, d’arbre-parapluie, d’arbre-ombrelle, ou d’arbre du bureau. Son nom local en Nouvelle-Calédonie, est Petit Boux.\\nLes 37 espèces américaines de Schefflera J.R. et G. Forst. sont retournées dans le genre Didymopanax Decne. & Planch..'), ('Schefflera Mannii', 'Schefflera mannii (Hook.f.) Harms est une espèce de plantes de la famille des Araliaceae et du genre Schefflera, endémique de la ligne montagneuse du Cameroun.'), ('Tessmannia africana', \"Tessmannia est un genre de plantes dicotylédones de la famille des Fabaceae (Légumineuses), sous-famille des Caesalpinioideae, originaire d'Afrique, qui comprend une douzaine d'espèces acceptées.\\nCe sont des arbres  dont certaines espèces sont exploitées pour leur résine (copal) ou leur bois utilisé comme bois d'œuvre (menuiserie, traverses de chemin de fer, manches d'outils, poteaux).\"), ('Alternanthera sessilis', 'Alternanthera est un genre qui regroupe plus de 80 plantes herbacées, dont un certain nombre peut être utilisé en aquarium.'), ('Pimpinella Ledermannii', \"Pimpinella ledermannii H. Wolff est une espèce d'herbes de la famille des Apiaceae et du genre Pimpinella, présente en Afrique tropicale.\"), ('Lagenaria guineensis', \"Lagenaria est un genre de lianes de la famille des Cucurbitacées donnant des courges, également connu sous le nom de gourde.\\nLe genre est composé d'au moins sept espèces dont la plus connue est la calebasse (Lagenaria siceraria).\"), ('Anthocleista liebrechtsiana', \"Anthocleista est un genre d'arbres de la famille des Gentianaceae, présente en Afrique tropicale.\"), ('Cardiospermum halicacabum', \"Pois est un nom vernaculaire donné en français à des plantes ou des légumes de la famille des Fabaceae, du genre Pisum, plus particulièrement de l'espèce Pisum sativum, appelée « petit pois » ou simplement « pois ». On trouve également dans cette espèce les pois mangetout, les pois fourragers ainsi que les pois sauvages.\\nNéanmoins, de nombreuses autres plantes d'espèces différentes, consommées ou non par l'homme, sont appelées « pois », souvent par analogie de forme de leurs graines avec celles du pois cultivé. Ce sont, sauf exception, également des plantes de la famille des Fabaceae.\"), ('Deinbollia pycnophylla', 'Deinbollia est un genre de plantes de la famille des Sapindaceae.'), ('Griffonia speciosa', 'Griffonia est un genre de plantes la famille des Caesalpiniaceae selon la classification classique, ou des Fabaceae (sous-famille des Caesalpinioideae) selon la classification phylogénétique.'), ('Strychnos boonei', \"Strychnos est un genre de plantes dicotylédones de la famille des Loganiaceae, à répartition pantropicale, qui  regroupe environ 170 espèces acceptées.\\nCe sont des arbustes, des lianes ou de petits arbres souvent épineux, à feuilles opposées. Le fruit est une baie plus ou moins charnue, et dans le cas de l'espèce la plus connue (Strychnos nux-vomica), les graines très toxiques (appelées « noix vomiques »), contiennent divers alcaloïdes, notamment de la strychnine.\"), ('Deinbollia macroura', 'Deinbollia est un genre de plantes de la famille des Sapindaceae.'), ('Anthocleista schweinfurthii', \"Anthocleista est un genre d'arbres de la famille des Gentianaceae, présente en Afrique tropicale.\"), ('Dialium Zenkeri', \"Dialium est un genre de plantes dicotylédones de la famille des Fabaceae, sous-famille des Caesalpinioideae, à répartition pantropicale, qui comprend une quarantaine d'espèces acceptées.\\nCe sont des arbres pouvant atteindre 35 mètres de haut. Certaines espèces sont exploitées pour leur bois dur, apprécié comme bois d'œuvre. D'autres fournissent des fruits dont la pulpe et les graines sont comestibles.\\nEn indonésie, le fruit de Dialium indum est appelé karanji.\"), ('Deinbollia macrantha', 'Deinbollia macrantha est une espèce de petit arbre de la famille des Sapindaceae.'), ('Plagiosiphon discifer', \"Plagiosiphon discifer Harms est une espèce de plantes du genre Plagiosiphon et de la famille des Fabaceae (selon APGIII). Décrite par Hermann Harms en 1897, c'est une plante endémique du Cameroun.\"), ('Swartzia madagascariensis', \"Bobgunnia madagascariensis est un arbre de la famille des Fabaceae. L'Université de Lausanne a effectué des recherches au Zimbabwe sur cette plante pour le compte de Phytera et breveté une substance antifongique provenant de la racine de cet arbre.\"), ('Copaifera religiosa', \"Copaifera est un genre botanique composé de 25 à 43 espèces d'arbres tropicaux.\"), ('Strychnos asterantha', \"Strychnos est un genre de plantes dicotylédones de la famille des Loganiaceae, à répartition pantropicale, qui  regroupe environ 170 espèces acceptées.\\nCe sont des arbustes, des lianes ou de petits arbres souvent épineux, à feuilles opposées. Le fruit est une baie plus ou moins charnue, et dans le cas de l'espèce la plus connue (Strychnos nux-vomica), les graines très toxiques (appelées « noix vomiques »), contiennent divers alcaloïdes, notamment de la strychnine.\"), ('Berlinia grandiflora', \"Berlinia est un genre de plantes dicotylédones de la famille des Fabaceae, sous-famille des Caesalpinioideae, originaire d'Afrique, qui comprend 18 espèces acceptées.\\nCe sont des arbustes ou de arbres de taille variable (de 10 à 40 mètres de haut). Certaines espèces, notamment Berlinia bracteosa, Berlinia confusa et Berlinia grandiflora, sont exploitées pour leur bois utilisé comme bois d'œuvre et commercialisé sous le nom d'« ebiara ».\"), ('Lagenaria breviflora', \"Lagenaria est un genre de lianes de la famille des Cucurbitacées donnant des courges, également connu sous le nom de gourde.\\nLe genre est composé d'au moins sept espèces dont la plus connue est la calebasse (Lagenaria siceraria).\"), ('Momordica angustisepala', \"Momordica est un genre de plantes de la famille des Cucurbitaceae.\\nUne de ses espèces la plus connue est la margose, concombre amer ou momordique (Momordica charantia). Les fruits de Momordica cochinchinensis, Momordica dioica et Momordica grosvenorii sont également cultivés pour l'alimentation humaine mais sont de moindre importance commerciale.\"), ('Lychnodiscus grandifolius', \"Lychnodiscus grandifolius Radlk. est une espèce d'arbres d'Afrique tropicale de la famille des Sapindaceae et du genre Lychnodiscus que l’on trouve principalement au Cameroun et au Gabon, également au Nigeria,.\"), ('Manilkara multinervis', \"Les chutes de Kota (ou chutes de la Kota) forment un chapelet de cascades à l'est de la chaîne de l'Atacora au Bénin. Elles font partie des aires protégées du Bénin et sont situées dans l'arrondissement de Kotopounga, à une vingtaine de kilomètres de Natitingou.\"), ('Gambeya subnuda', 'Gambeya est un genre de plantes de la famille des Sapotaceae.'), ('Cucurbita maxima', \"Le potiron (Cucurbita maxima) est une plante de la famille des Cucurbitacées originaire des régions tropicales d'Amérique du Sud.\\nLe potiron est largement cultivé comme plante potagère pour son fruit comestible à maturité. Le terme désigne aussi ce fruit consommé comme légume. C'est l'une des cinq espèces de courges les plus couramment cultivées.\"), ('Isoberlinia tomentosa', 'Isoberlinia tomentosa est une espèce de plantes de la famille des Fabaceae et du genre Isoberlinia, présente en Afrique tropicale.'), ('Momordica Charantia', 'La margose, ou le melon amer / momordique (momordica charantia), est une plante potagère grimpante de la famille des cucurbitaceae, cultivée dans les climats chauds ou tempérés en plante annuelle. Le terme \"margose\" désigne la plante et le fruit, la plante est parfois nommée improprement margosier qui désigne en créole de l\\'Océan indien le mélia (Melia azedarach. L).\\nLe fruit, la feuille et les graines sont comestibles et amers (le mucilage rouge qui entoure la graine est la seule partie douce de la plante). Cette amertume provient des momordicines, substances proches de la quinine. La margose est connue pour ses qualités culinaires et pour ses propriétés thérapeutiques en médecine traditionnelle, notamment dans le traitement du diabète et de certains cancers.'), ('Hydrocotyle hirta', 'Le genre Dorstenia fait partie de la famille des Moraceae. Les espèces de ce genre sont des plantes succulentes.\\nLe nom de ce genre est un hommage à Théodoric Dorsténius, un médecin allemand du XVIe siècle.\\nLa fleur des plantes de ce genre est monopétale et irrégulière.'), ('Cucumis hirsutus', 'Cucumis hirsutus est une espèce de plantes herbacées vivace de la tribu des Benincaseae et de la famille de la courge (Cucurbitaceae). Ses feuilles sont consommés cuites.'), ('Gilbertiodendron brachystegioides', \"Gilbertiodendron brachystegioides est une espèce d'arbres de la famille des Fabaceae et du genre Gilbertiodendron, présente en Afrique tropicale.\"), ('Allophylus conraui', 'Allophylus conraui Gilg ex Radlk. est une espèce de plantes de la famille des Sapindaceae et du genre Allophylus, originaire du Cameroun.'), ('Lychnodiscus brevibracteatus', 'Lychnodiscus est un genre de plantes de la famille des Sapindaceae.'), ('Blighia welwitschii', \"Blighia est un genre d'arbres et d'arbustes de la famille des Sapindaceae. \\nIl comprend plusieurs espèces originaires d'Afrique tropicale (de l'Est de la Guinée au Kenya). Le non du genre honore le capitaine William Bligh. Les fruits forment des arilles comestibles et Blighia sapida est une espèce cultivée.\"), ('Allophylus hirtellus', \"Allophylus est un genre d'arbres et d'arbustes de la famille des Sapindaceae. Il comprend environ 200 espèces réparties dans les régions tropicales et subtropicales.\"), ('Telfairia Batesii', 'Telfairia batesii Keraudren est une espèce de plantes de la famille des Cucurbitaceae et du genre Telfairia , endémique du Cameroun.'), ('Zehneria scabra', \"La liste des espèces de plantes menacées en Australie ci-dessous comprend toutes les espèces végétales énumérées comme gravement menacées ou en danger critique d'extinction en Australie selon l’Environment Protection and Biodiversity Conservation Act 1999.\"), ('Cyathula uncinulata', 'Cyathula Blume est un genre de plantes de la famille des Amaranthaceae.'), ('Lagenaria siceraria', \"La calebasse, ou gourde, ou louche est une espèce de plantes herbacées annuelles de la famille des Cucurbitacées, cultivée comme plante potagère pour son fruit caractéristique également dénommé calebasse. Ce fruit est utilisé à l'état sec depuis des temps préhistoriques dans toutes les régions du monde pour fabriquer divers objets (ex. : récipient portatif pour boisson), ou plus rarement consommé à l'état frais comme légume.\\nNom commun : calebasse, gourde, gourde pèlerine, cougourde, cougourdon (surtout dans la région niçoise), cuyon (dans le Sud-Ouest), courge-bouteille. Allemand : Flaschenkürbis ; anglais : calabash gourd, bottle gourd ; espagnol : calabaza, cajombre.\\nNom scientifique : Lagenaria siceraria (Molina) Standl., famille des Cucurbitacées, tribu des Benincaseae.\\nSynonymes :\\n\\n(=) Cucurbita lagenaria L., c'est le nom encore utilisé par les jardiniers\\n(=) Cucurbita leucantha Duchesne\\n(=) Cucurbita longa hort.\\n(≡) Cucurbita siceraria Molina (basionyme)\\n(=) Lagenaria lagenaria (L.) Cockerell, nom. inval.\\n(≡) Lagenaria leucantha Rusby\\n(=) Lagenaria vulgaris Ser.La calebasse est également le fruit d'une plante différente, le calebassier, un petit arbre tropical de la famille des Bignoniacées.\"), ('Berlinia auriculata', \"Berlinia est un genre de plantes dicotylédones de la famille des Fabaceae, sous-famille des Caesalpinioideae, originaire d'Afrique, qui comprend 18 espèces acceptées.\\nCe sont des arbustes ou de arbres de taille variable (de 10 à 40 mètres de haut). Certaines espèces, notamment Berlinia bracteosa, Berlinia confusa et Berlinia grandiflora, sont exploitées pour leur bois utilisé comme bois d'œuvre et commercialisé sous le nom d'« ebiara ».\"), ('Anthocleista laxiflora', \"Anthocleista est un genre d'arbres de la famille des Gentianaceae, présente en Afrique tropicale.\"), ('Momordica camerounensis', 'Momordica camerounensis est une espèce de plante épiphyte de la famille des Cucurbitaceae. et du genre Momordica, selon la classification phylogénétique.\\nSon épithète spécifique camerounensis fait référence au Cameroun.'), ('Gomphrena celosioides', \"Les Amaranthaceae (Amaranthacées) sont une famille de plantes dicotylédones de l'ordre des Caryophyllales. Cette famille comprend plus de 800 espèces réparties en environ 75 genres.\\nCe sont des arbustes ou des plantes herbacées, des régions tempérées à tropicales, largement répandues.\\nEn France, la famille des Amaranthaceae est représentée par le genre Amaranthus, les amarantes ou amaranthes, qui comprend des plantes ornementales (amarante queue-de-renard), des plantes cultivées (betterave) ou qui sont des adventices indésirables dans les cultures, ainsi que par des salicornes.\"), ('Didelotia africana', \"Les essences fréquemment utilisées, commercialisées ou ayant été commercialisées sont :\\n\\nAcajou amer, Cedrela odorata L., Méliacées\\nAcajou d'Afrique, Khaya ivorensis A. Chev., Méliacées\\nAcajou d'Amérique, Swietenia mahagoni (L.) Jacq., Méliacées\\nAfrormosia, Pericopsis elata, Fabacées\\nAmarante, Peltogyne venosa, Césalpiniacées\\nAmourette, Piratinera guianensis, Moracées\\nAssamela\\nAngélique, Dicorynia guianensis Amshoff, Fabacées\\nAvodiré, Turraeanthus africana, Méliacées\\nAzobé, Lophira alata Banks ex C. F. Gaertn., Ochnacées\\nBalata franc, Manilkara bidentata, Sapotacées\\nBalsa, Ochroma pyramidale (Cav. ex Lam.) Urb., Malvacées\\nBété, Mansonia Altissima, Sterculiacées\\nBilinga, Nauclea trillesii, Rubiacées\\nBois de rose, Dalbergia variabilis, Fabacées\\nBois violet ou Bois de violette, Dalbergia cearensis, Fabacées\\nBossé clair, Guarea cedrata, Méliacées\\nBois canon, Cécropia, Cécropiacées\\nCoumarou ou Cumaru, Dipteryx odorata, Fabacées\\nDabéma, Pitadenia africana Mimosacées\\nDoussié, Afzelia sp, Césalpiniacées\\nÉbène, Diospyros ebenum J. König, Ébénacées\\nFlamboyant, Delonix regia,  Césalpiniacées\\nFramiré, Terminalia ivorensis Engl. & Diels, Combretacées\\nFraké ou Limba, Terminalia superba A. Chev., Combretacées\\nFromager, Ceiba pentandra, Bombacaceae\\nGombé, Didelotia africana, idae, letouzeyi, brevipaniculata, spp., Leguminosae - Césalpiniacées\\nGmelina, Gmelina arborea Roxb., Lamiacées\\nGrenadille, Dalbergia melanoxylon, Fabacées\\nIpé, Tabebuia spp, Bignoniaceae\\nIroko, Milicia excelsa (Welw.) C. C. Berg, Moracées\\nMoabi, Baillonella toxisperma Pierre, Sapotacées\\nMovingui\\nNiangon, Heritiera utilis (Sprague) Sprague, Malvacées\\nOkoumé, Aucoumea klaineana Pierre, Burséracées\\nOzigo, Dacryodes buetnerii, Burséracées\\nPalissandre d'Asie, Dalbergia latifolia Roxb., Fabacées\\nPalissandre de Rio, Dalbergia nigra (Vell.) Allemão ex Benth., Fabacées\\nSapelli, Entandrophragma cylindricum (Sprague) Sprague, Méliacées\\nSamba, Wawa ou ayous, Triplochiton scleroxylon K. Schum., Sterculiacées\\nSipo, Entandrophragma utile (Dawe & Sprague) Sprague, Méliacées\\nTamarinier, Tamarindus indica, Césalpiniacées\\nTchitola,\\nTeck, Tectona grandis L. f., Verbénacées. Pour le Teck du Brésil, voir Coumarou.\\nTola, Prioria balsamiferum, Césalpiniacées\\nWapa, Eperua falcata, Césalpiniacées\\nWenge, Millettia Laurentii, Fabacées\"), ('Hymenostegia brachyura', 'Hymenostegia brachyura (Harms) J. Léonard est une espèce de plantes du genre Hymenostegia, de la famille des Fabaceae,, endémique du Cameroun.'), ('Cardiospermum grandiflorum', \"Cardiospermum est un genre de lianes et d'arbustes de la famille des Sapindaceae.\"), ('Allophylus welwitschii', \"Allophylus est un genre d'arbres et d'arbustes de la famille des Sapindaceae. Il comprend environ 200 espèces réparties dans les régions tropicales et subtropicales.\"), ('Manilkara Zenkeri', \"Manilkara zenkeri Lecomte ex Aubrév. & Pellegr. est une espèce de plantes d'Afrique tropicale de la famille des Sapotaceae et du genre Manilkara.\"), ('Gambeya perpulchra', 'Gambeya est un genre de plantes de la famille des Sapotaceae.'), ('Coccinia grandis', \"Coccinia grandis (tindola ou courge écarlate) est une espèce de plantes herbacées vivaces, grimpantes ou rampantes, de la famille des Cucurbitaceae, originaire des régions tropicales  d'Afrique et d'Asie.\"), ('Anthocleista djalonensis', \"Anthocleista est un genre d'arbres de la famille des Gentianaceae, présente en Afrique tropicale.\"), ('Tetraberlinia polyphylla', \"Tetraberlinia est un genre de plantes dicotylédones de la famille des Fabaceae (légumineuses), sous-famille des Caesalpinioideae, originaire d'Afrique équatoriale, qui comprend sept espèces acceptées.\"), ('Momordica Jeffreyana', \"Momordica est un genre de plantes de la famille des Cucurbitaceae.\\nUne de ses espèces la plus connue est la margose, concombre amer ou momordique (Momordica charantia). Les fruits de Momordica cochinchinensis, Momordica dioica et Momordica grosvenorii sont également cultivés pour l'alimentation humaine mais sont de moindre importance commerciale.\"), ('Dialium Dinklagei', \"Dialium est un genre de plantes dicotylédones de la famille des Fabaceae, sous-famille des Caesalpinioideae, à répartition pantropicale, qui comprend une quarantaine d'espèces acceptées.\\nCe sont des arbres pouvant atteindre 35 mètres de haut. Certaines espèces sont exploitées pour leur bois dur, apprécié comme bois d'œuvre. D'autres fournissent des fruits dont la pulpe et les graines sont comestibles.\\nEn indonésie, le fruit de Dialium indum est appelé karanji.\"), ('Hydrocotyle bonariensis', \"Les hydrocotyles (Hydrocotyle) forment un genre de plantes aquatiques ou semi-aquatiques autrefois classées parmi les Apiaceae et maintenant dans la famille des Araliaceae. Dans leur aire naturelle de répartition, les hydrocotyles sont des plantes très communes ,,.\\nCertaines espèces introduites hors de leur aire naturelle de répartition sont considérées comme localement invasives ; c'est le cas de l'hydrocotyle fausse-renoncule (Hydrocotyle ranunculoides), introduite d'Amérique du Nord en Europe occidentale, qui est en train de coloniser de manière très dense certaines portions de cours d'eau.\"), ('Deinbollia rambaensis', 'Deinbollia rambaensis est une espèce de plantes du genre Deinbollia de la famille des Sapindaceae endémique du Gabon.'), ('Brachystegia eurycoma', \"Brachystegia est un genre botanique composé de 25 à 43 espèces d'arbres tropicaux originaires d'Afrique. Les arbres de ce genre sont généralement connus sous le nom de miombo et sont prédominants dans les formations arborées de miombo d'Afrique centrale et méridionale.\\n\\n\"), ('Anthocleista vogelii', \"Anthocleista vogelii est une espèce petits arbres tropicaux de la famille des Gentianaceae et du genre Anthocleista, présente en Afrique de l'Ouest.\"), ('Strychnos angolensis', \"Strychnos est un genre de plantes dicotylédones de la famille des Loganiaceae, à répartition pantropicale, qui  regroupe environ 170 espèces acceptées.\\nCe sont des arbustes, des lianes ou de petits arbres souvent épineux, à feuilles opposées. Le fruit est une baie plus ou moins charnue, et dans le cas de l'espèce la plus connue (Strychnos nux-vomica), les graines très toxiques (appelées « noix vomiques »), contiennent divers alcaloïdes, notamment de la strychnine.\"), ('Achyranthes talbotii', 'Achyranthes talbotii Hutch. & Dalziel est une espèce de plantes herbacées de la famille des Amaranthaceae et du genre Achyranthes, présente principalement au Cameroun, également au Nigeria.'), ('Gambeya gigantea', 'Gambeya est un genre de plantes de la famille des Sapotaceae.'), ('Cucurbita moschata', \"La courge musquée (Cucurbita moschata Duchesne) est une plante de la famille des Cucurbitacées, largement cultivée comme plante potagère pour son fruit comestible à maturité. C'est l'une des cinq espèces de courges les plus couramment cultivées.\\nNoms communs : courge musquée, courge muscade, sucrine.\\nLe terme « courge » désigne aussi ce fruit consommé comme légume, ainsi que les potirons (Cucurbita maxima) et les courges en général.\"), ('Gilletiodendron Mildbraedii', \"Gilletiodendron est un genre de plantes dicotylédones de la famille des Fabaceae, sous-famille des Caesalpinioideae, originaire d'Afrique, qui comprend cinq espèces acceptées.\"), ('Swartzia fistuloides', \"Swartzia est un genre de la famille des Fabaceae de la sous-famille des Faboideae (Légumineuses) comprenant plus de 180 espèces d'arbres tropicaux. Certains fournissent des bois précieux. \\nL'espèce type est Swartzia alata Willd. (dont le nom correct est Swartzia guianensis (Aubl.) Urb.).\\nBobgunnia fistuloides (Harms) J.H. Kirkbr. & Wiersema (anciennement Swartzia fistuloides Harms) correspond au Pau-rosa d'Afrique de l'Ouest\"), ('Pancovia laurentii', 'Pancovia est un genre de plantes de la famille des Sapindaceae.'), ('Gilbertiodendron ogoouense', \"Gilbertiodendron est un genre de plantes appartenant à la famille des Fabaceae.\\nSon nom rend hommage à l'ingénieur et botaniste belge Georges Gilbert.\"), ('GiLbertiodendron pachyanthum', \"Gilbertiodendron pachyanthum (Harms) J. Léonard est une espèce d'arbres de la famille des Fabacées et du genre Gilbertiodendron, endémique du Cameroun.\"), ('Brachystegia cynometroides', 'Brachystegia cynometroides est un arbre à taille moyenne à assez grande de la famille des Caesalpiniaceae (Leguminosae - Caesalpinioideae), peu réparti. On le trouve principalement dans l’ouest du Cameroun et en Guinée équatoriale - Bioko. L’arbre pousse généralement jusqu’à 200 m d’altitude, dans les régions à températures moyennes de 23,5-25 °C.  Son nom commun est naga.'), ('Alternanthera nodiflora', 'Alternanthera est un genre qui regroupe plus de 80 plantes herbacées, dont un certain nombre peut être utilisé en aquarium.'), ('Gambeya Lacourtiana', 'Gambeya est un genre de plantes de la famille des Sapotaceae.'), ('Aphanocalyx margininervatus', \"Aphanocalyx est un genre de plantes dicotylédones de la famille des Fabaceae, sous-famille des Caesalpinioideae, originaire d'Afrique, qui comprend une quinzaine d'espèces acceptées.\\nCe sont des arbres ou arbustes poussant dans les forêts pluviales et forêts riveraines de plaine ou submontagnardes, souvent sur des sols sablonneux pauvres en éléments nutritifs. Ces espèces forment habituellement des peuplements monodominants.\\nCertaines espèces sont exploitées pour leur bois utilisé comme bois d'œuvre et commercialisé sous le nom d’« andoung ».\"), ('Anthocleista obanensis', \"Anthocleista est un genre d'arbres de la famille des Gentianaceae, présente en Afrique tropicale.\"), ('Gambeya africana', 'Gambeya est un genre de plantes de la famille des Sapotaceae.'), ('Cyathula achyranthoides', 'Cyathula Blume est un genre de plantes de la famille des Amaranthaceae.'), ('Pancovia pedicellaris', 'Pancovia est un genre de plantes de la famille des Sapindaceae.'), ('Section Densiflorae', 'Parashorea densiflora est un grand arbre sempervirent de la Péninsule Malaise appartenant à la famille des Diptérocarpacées.'), ('Blighia unijugata', \"Blighia est un genre d'arbres et d'arbustes de la famille des Sapindaceae. \\nIl comprend plusieurs espèces originaires d'Afrique tropicale (de l'Est de la Guinée au Kenya). Le non du genre honore le capitaine William Bligh. Les fruits forment des arilles comestibles et Blighia sapida est une espèce cultivée.\"), ('Griffonia physocarpa', 'Griffonia est un genre de plantes la famille des Caesalpiniaceae selon la classification classique, ou des Fabaceae (sous-famille des Caesalpinioideae) selon la classification phylogénétique.'), ('Berlinia Craibiana', \"Berlinia est un genre de plantes dicotylédones de la famille des Fabaceae, sous-famille des Caesalpinioideae, originaire d'Afrique, qui comprend 18 espèces acceptées.\\nCe sont des arbustes ou de arbres de taille variable (de 10 à 40 mètres de haut). Certaines espèces, notamment Berlinia bracteosa, Berlinia confusa et Berlinia grandiflora, sont exploitées pour leur bois utilisé comme bois d'œuvre et commercialisé sous le nom d'« ebiara ».\"), ('Peucedanum Zenkeri', 'Peucedanum est un genre végétal de la famille des Apiaceae (Ombellifères). Ce nom latin est dérivé du grec πευκέδανον, peukédanon, lui même formé à partir de πεύκη, peukê (« pin ») pour désigner des plantes ayant une odeur résineuse .'), ('Anthocleista scandens', \"Anthocleista est un genre d'arbres de la famille des Gentianaceae, présente en Afrique tropicale.\"), ('Strychnos chromatoxylon', \"Strychnos est un genre de plantes dicotylédones de la famille des Loganiaceae, à répartition pantropicale, qui  regroupe environ 170 espèces acceptées.\\nCe sont des arbustes, des lianes ou de petits arbres souvent épineux, à feuilles opposées. Le fruit est une baie plus ou moins charnue, et dans le cas de l'espèce la plus connue (Strychnos nux-vomica), les graines très toxiques (appelées « noix vomiques »), contiennent divers alcaloïdes, notamment de la strychnine.\"), ('Didelotia Letouzeyi', \"Didelotia letouzeyi, aussi appelé gombé, fait partie de la famille des Caesalpiniaceae. Ses diverses appellations vernaculaires sont : Ekop-gombé ou Gombé (Cameroun), Broutou ou Toubaouaté (Côte d'Ivoire), Angok ou Tomé (Gabon), Bondu (Liberia) et Timba (Sierra Leone). Ses synonymes botaniques sont : Didelotia africana Baill., Didelotia brevipaniculata J. Léonard, Didelotia idae Oldeman & Al. Et Didelotia p.p. L'épithète letouzeyi fait référence au botaniste français René Letouzey. Il s’agit d’une espèce rare que l’on retrouve disséminée pied par pied dans la forêt primitive et souvent dans les peuplements d’Andoungs au Gabon, mais aussi au Cameroun et dans le Mayombe congolais. Le gombé est semblable à l’okoumé et on confond aussi souvent Didelotia letouzeyi avec Didelotia africana.\"), ('Brachystegia Zenkeri', \"Brachystegia est un genre botanique composé de 25 à 43 espèces d'arbres tropicaux originaires d'Afrique. Les arbres de ce genre sont généralement connus sous le nom de miombo et sont prédominants dans les formations arborées de miombo d'Afrique centrale et méridionale.\\n\\n\"), ('Section Brevitubae', \"Baicalellia est un genre de vers plats aquatiques de la famille des Provorticidae et de l'ordre des Rhabdocoela.\\n\\n\"), ('Gilbertiodendron demonstrans', \"Gilbertiodendron est un genre de plantes appartenant à la famille des Fabaceae.\\nSon nom rend hommage à l'ingénieur et botaniste belge Georges Gilbert.\"), ('Strychnos camptoneura', 'Strychnos camptoneura est une espèce de plantes de la famille des Loganiaceae et du genre Strychnos, présente en Afrique tropicale.'), ('Tetraberlinia bifoliolata', \"Tetraberlinia est un genre de plantes dicotylédones de la famille des Fabaceae (légumineuses), sous-famille des Caesalpinioideae, originaire d'Afrique équatoriale, qui comprend sept espèces acceptées.\"), ('Cassia mimosoides', \"Cassia est un genre de la famille des Caesalpiniaceae dans la classification classique de Cronquist (1981), ou de la famille des Fabaceae, sous-famille des Caesalpinioideae  dans la classification phylogénétique APG II (2003).\\nDes espèces du genre Cassia sont des plantes qui servent d'aliment aux larves de certaines espèces de lépidoptères, parmi lesquelles Endoclita malabaricus.\"), ('Coccinia adoensis', \"Coccinia est un genre de plantes herbacées de la famille des Cucurbitaceae.\\nCe genre comprend 25 espèces originaires de l'Afrique subsaharienne avec une espèce aussi distribuée à l'Asie du Sud et du Sud-est, qui est aussi envahissante aux îles de l'océan pacifique et l'Amérique tropicale.\\nL'espèce plus connue est Coccinia grandis, la courge écarlate, qui est cultivée pour ses feuilles jeunes et fruits comestibles.\\nLe nom générique Coccinia dérive du latin coccineus, écarlate, en référence à la couleur rouge brillant du fruit mûr.\"), ('Strychnos aculeata', \"Strychnos est un genre de plantes dicotylédones de la famille des Loganiaceae, à répartition pantropicale, qui  regroupe environ 170 espèces acceptées.\\nCe sont des arbustes, des lianes ou de petits arbres souvent épineux, à feuilles opposées. Le fruit est une baie plus ou moins charnue, et dans le cas de l'espèce la plus connue (Strychnos nux-vomica), les graines très toxiques (appelées « noix vomiques »), contiennent divers alcaloïdes, notamment de la strychnine.\"), ('Amphimas pterocarpoides', \"Amphimas pterocarpoides est un arbre de la famille des Fabaceae. Cet arbre fruitier, de genre Amphimas,  est une plante originaire d'Afrique et pousse dans les forêts sempervirentes comme dans les forêts décidues et secondaires. Au Cameroun, cette plante est appelée lati parallèle, edjin ou encore edzil.\"), ('Plagiosiphon longitubus', \"Plagiosiphon est un genre de plantes dicotylédones de la famille des Fabaceae, sous-famille des Caesalpinioideae, originaire d'Afrique, qui comprend cinq espèces acceptées.\"), ('Cassia Kirkii', \"Cassia est un genre de la famille des Caesalpiniaceae dans la classification classique de Cronquist (1981), ou de la famille des Fabaceae, sous-famille des Caesalpinioideae  dans la classification phylogénétique APG II (2003).\\nDes espèces du genre Cassia sont des plantes qui servent d'aliment aux larves de certaines espèces de lépidoptères, parmi lesquelles Endoclita malabaricus.\"), ('Piliostigma Thonningii', \"Le genre Bauhinia ou arbre à orchidées est un genre des plantes dicotylédones, famille des Caesalpiniaceae (ou des Fabaceae, sous-famille des Caesalpinioideae). Le genre tire son nom des frères Johan et Gaspard Bauhin, naturalistes franco-suisses du XVe siècle ; d'après la légende parce que la proximité des feuilles rappelle celle des deux frères.\\nLa circonscription du genre est discutée.\"), ('Plagiosiphon emarginatus', \"Plagiosiphon est un genre de plantes dicotylédones de la famille des Fabaceae, sous-famille des Caesalpinioideae, originaire d'Afrique, qui comprend cinq espèces acceptées.\"), ('Strychnos campicola', \"Strychnos est un genre de plantes dicotylédones de la famille des Loganiaceae, à répartition pantropicale, qui  regroupe environ 170 espèces acceptées.\\nCe sont des arbustes, des lianes ou de petits arbres souvent épineux, à feuilles opposées. Le fruit est une baie plus ou moins charnue, et dans le cas de l'espèce la plus connue (Strychnos nux-vomica), les graines très toxiques (appelées « noix vomiques »), contiennent divers alcaloïdes, notamment de la strychnine.\"), ('Copaifera Mildbraedii', \"Copaifera est un genre botanique composé de 25 à 43 espèces d'arbres tropicaux.\"), ('Cassia obtusifolia', \"Senna obtusifolia (pistache marron ou casse fétide) est une espèce de plantes dicotylédones de la famille des Fabaceae originaire des régions tropicales d'Amérique du Sud.\\nCette plante, herbacée annuelle ou vivace, ou arbrisseau, est considérée comme une mauvaise herbe dans toutes les régions où elle a été introduite, en particulier en Australie.\"), ('Detarium macrocarpum', \"Detarium est un genre de plantes dicotylédones de la famille des Fabaceae (Légumineuses), sous-famille des Caesalpinioideae, originaire d'Afrique, qui comprend quatre espèces acceptées.\"), ('Allophylus lastoursvillensis', \"Allophylus est un genre d'arbres et d'arbustes de la famille des Sapindaceae. Il comprend environ 200 espèces réparties dans les régions tropicales et subtropicales.\"), ('Hymenostegia Felicis', \"Hymenostegia est un genre de plantes dicotylédones de la famille des Fabaceae, sous-famille des Caesalpinioideae, originaire d'Afrique équatoriale, qui comprend une quinzaine d'espèces acceptées.\\nCe sont des arbustes ou des arbres pouvant atteindre 30 mètres de haut, aux feuilles composées paripennées. Les arbres produisent un bois durable, au grain fin, susceptible de prendre un beau poli, mais la quantité produite est très limitée. Certaines espèces sont utilisées comme arbres d'ornement dans les parcs et jardins ou dans les rues.\"), ('Gambeya boukokoensis', 'Gambeya est un genre de plantes de la famille des Sapotaceae.'), ('Coccinia Barteri', \"Coccinia est un genre de plantes herbacées de la famille des Cucurbitaceae.\\nCe genre comprend 25 espèces originaires de l'Afrique subsaharienne avec une espèce aussi distribuée à l'Asie du Sud et du Sud-est, qui est aussi envahissante aux îles de l'océan pacifique et l'Amérique tropicale.\\nL'espèce plus connue est Coccinia grandis, la courge écarlate, qui est cultivée pour ses feuilles jeunes et fruits comestibles.\\nLe nom générique Coccinia dérive du latin coccineus, écarlate, en référence à la couleur rouge brillant du fruit mûr.\"), ('Deinbollia maxima', 'Deinbollia est un genre de plantes de la famille des Sapindaceae.'), ('Anthonotha ferruginea', \"Anthonotha est un genre de plantes dicotylédones de la famille des Fabaceae, sous-famille des Caesalpinioideae, originaire d'Afrique tropicale, qui compte une trentaine d'espèces acceptées.\"), ('Allophylus ngounyensis', \"Allophylus est un genre d'arbres et d'arbustes de la famille des Sapindaceae. Il comprend environ 200 espèces réparties dans les régions tropicales et subtropicales.\"), ('Erythrophleum ivorense', 'Erythrophleum ivorense est un arbre de la famille des Caesalpiniaceae, qui a pour noms vernaculaires lim du Gabon, ou encore tali (en français), et ordeal tree, ou sasswood tree (en anglais). L’arbre est présent de la Gambie à la Centrafrique et au Gabon.'), ('Aporrhiza multijuga', 'Aporrhiza multijuga est une espèce de plantes de la famille des Sapindaceae et du genre Aporrhiza, endémique du Cameroun.'), ('Gambeya Beguei', 'Gambeya est un genre de plantes de la famille des Sapotaceae.'), ('Strychnos canthioides', \"Strychnos est un genre de plantes dicotylédones de la famille des Loganiaceae, à répartition pantropicale, qui  regroupe environ 170 espèces acceptées.\\nCe sont des arbustes, des lianes ou de petits arbres souvent épineux, à feuilles opposées. Le fruit est une baie plus ou moins charnue, et dans le cas de l'espèce la plus connue (Strychnos nux-vomica), les graines très toxiques (appelées « noix vomiques »), contiennent divers alcaloïdes, notamment de la strychnine.\"), ('Anthocleista microphylla', \"Anthocleista est un genre d'arbres de la famille des Gentianaceae, présente en Afrique tropicale.\"), ('Tessmannia anomala', \"Tessmannia est un genre de plantes dicotylédones de la famille des Fabaceae (Légumineuses), sous-famille des Caesalpinioideae, originaire d'Afrique, qui comprend une douzaine d'espèces acceptées.\\nCe sont des arbres  dont certaines espèces sont exploitées pour leur résine (copal) ou leur bois utilisé comme bois d'œuvre (menuiserie, traverses de chemin de fer, manches d'outils, poteaux).\"), ('Momordica Friesiorum', \"Momordica est un genre de plantes de la famille des Cucurbitaceae.\\nUne de ses espèces la plus connue est la margose, concombre amer ou momordique (Momordica charantia). Les fruits de Momordica cochinchinensis, Momordica dioica et Momordica grosvenorii sont également cultivés pour l'alimentation humaine mais sont de moindre importance commerciale.\"), ('Deinbollia cuneifolia', 'Deinbollia est un genre de plantes de la famille des Sapindaceae.'), ('Didelotia unifoliolata', \"Didelotia est un genre de plantes dicotylédones de la famille des Fabaceae (Légumineuses), sous-famille des Caesalpinioideae, originaire d'Afrique et d'Amérique du Sud, qui comprend une douzaine d'espèces acceptées.\\nCe sont des arbres qui poussent dans les forêts pluviales tropicales de plaine, souvent le long des cours d'eau.\\nCertaines espèces sont exploitées pour leur bois, parfois commercialisé sous le nom de « gombé », et utilisé comme bois d'œuvre pour la construction, la menuiserie, la fabrication de contreplaqués et panneaux lattés, ou bien transformé en charbon de bois.\"), ('Citrullus lanatus', \"La pastèque  (Citrullus lanatus (Thunb.) Matsum. & Nakai, 1916), aussi appelée melon d'eau au Québec, est une espèce de plantes herbacées de la famille des Cucurbitacées, originaire d'Afrique, largement cultivée pour ses gros fruits lisses, à chair rouge, jaune, verdâtre ou blanche et à graines noires ou rouges. Le terme désigne également ce fruit. Le fruit pèse généralement, à maturité, entre 2 et 5 kg.\\nIl faut distinguer la pastèque consommable crue de la pastèque à confiture ou « citre » qui doit être cuite. Cette dernière est aussi communément appelée « courge gigérine » ou « courge barbarine » dans le sud de la France et « melons de Moscovie » en Charentes.\"), ('Aporrhiza talbotii', 'Aporrhiza est un genre de plantes de la famille des Sapindaceae.'), ('Celosia globosa', 'Les célosies sont des plantes annuelles appartenant au genre Celosia de la famille des Amaranthaceae dont certaines espèces sont cultivées comme plantes ornementales pour leur floraison en épis spectaculaire, et parfois comme plantes potagères, pour leurs feuilles comestibles à la manière des épinards ou pour leurs graines. Certaines espèces sont des mauvaises herbes communes dans les champs cultivés.\\nLe groupe des Plumosa offre des fleurs en forme de plumeau alors que le groupe des Olympia présente des inflorescences en forme de crête ondulée, ce qui lui vaut le surnom de crête de coq. Au Mexique, elle est connue, en général, sous le nom de \"Fleur de velours\".[réf. nécessaire]'), ('Aporrhiza lastoursvillensis', 'Aporrhiza est un genre de plantes de la famille des Sapindaceae.'), ('Peucedanum angustisectum', \"Lefebvrea angustisecta est une espèce de plantes dicotylédones de la famille des Apiaceae (Ombellifères), originaire d'Afrique tropicale.\\nC'est une plante à fleurs qui se rencontre sur les hauts plateaux du Cameroun, mais aussi au Nigeria.\\nL'espèce présente actuellement un faible risque de menace, mais sa situation notamment en prairie lui confère un état de menace futur à cause des feux de brousses et de l'élevage.\"), ('Gilbertiodendron Klainei', 'Gilbertiodendron klainei est une espèce de plantes de la famille des Fabaceae.'), ('Momordica enneaphylla', \"Momordica est un genre de plantes de la famille des Cucurbitaceae.\\nUne de ses espèces la plus connue est la margose, concombre amer ou momordique (Momordica charantia). Les fruits de Momordica cochinchinensis, Momordica dioica et Momordica grosvenorii sont également cultivés pour l'alimentation humaine mais sont de moindre importance commerciale.\"), ('Daniellia oblonga', 'Daniellia oblonga est une espèce de plantes de la famille des Fabaceae.'), ('Anthonotha lamprophylla', \"Anthonotha est un genre de plantes dicotylédones de la famille des Fabaceae, sous-famille des Caesalpinioideae, originaire d'Afrique tropicale, qui compte une trentaine d'espèces acceptées.\"), ('Berlinia bracteosa', 'Berlinia bracteosa est un arbre de la famille des Caesalpiniaceae (Leguminosae - Caesalpinioideae), que l’on trouve du sud-est du Nigeria jusqu’en Centrafrique, ainsi qu’à l’ouest de la République démocratique du Congo, et vers le sud jusqu’au Cabinda en Angola.'), ('Section Breviflorae', \"Amaryllis est un genre de plantes à bulbes de la famille des Amaryllidaceae. Ce sont pour les botanistes les « amaryllis vraies ». En revanche, les fleurs ou bulbes commercialisés sous le nom d'« amaryllis » sont le plus souvent des cultivars d'un genre distinct, Hippeastrum. De plus, Amaryllis est un genre dont la classification est encore débattue par les botanistes et tend à se réduire à un petit nombre d'espèces, voire une seule : l'Amaryllis belladonne (Amaryllis belladonna).\"), ('Amphimas ferrugineus', \"Amphimas est un genre de plantes dicotylédones de la famille des Fabaceae, sous-famille des Faboideae, originaire d'Afrique, qui comprend trois espèces acceptées.\"), ('Detarium microcarpum', \"Detarium microcarpum est une espèce de plantes du genre Detarium de la famille des Fabaceae, que l'on trouve en Afrique de l'Ouest et du Centre.\"), ('Anthonotha fragrans', \"Anthonotha est un genre de plantes dicotylédones de la famille des Fabaceae, sous-famille des Caesalpinioideae, originaire d'Afrique tropicale, qui compte une trentaine d'espèces acceptées.\"), ('Plagiosiphon multijugus', \"Plagiosiphon est un genre de plantes dicotylédones de la famille des Fabaceae, sous-famille des Caesalpinioideae, originaire d'Afrique, qui comprend cinq espèces acceptées.\"), ('Allophylus spicatus', \"Allophylus est un genre d'arbres et d'arbustes de la famille des Sapindaceae. Il comprend environ 200 espèces réparties dans les régions tropicales et subtropicales.\"), ('Afzelia africana', \"Afzelia africana est une espèce d'arbres de la famille des Fabaceae (sous-famille des Caesalpinioideae), originaire d'Afrique.\"), ('Daniellia Oliveri', \"Daniellia oliveri est une espèce d'arbres tropicaux de la famille des Fabaceae et du genre Daniellia, présente en Afrique de l'Ouest et du Centre.\\nC'est une plante mellifère appréciée des abeilles notamment pour sa bonne production de nectar.\"), ('Strychnos barteri', \"Strychnos est un genre de plantes dicotylédones de la famille des Loganiaceae, à répartition pantropicale, qui  regroupe environ 170 espèces acceptées.\\nCe sont des arbustes, des lianes ou de petits arbres souvent épineux, à feuilles opposées. Le fruit est une baie plus ou moins charnue, et dans le cas de l'espèce la plus connue (Strychnos nux-vomica), les graines très toxiques (appelées « noix vomiques »), contiennent divers alcaloïdes, notamment de la strychnine.\"), ('Gilbertiodendron Dewevrei', \"Gilbertiodendron dewevrei est un arbre de grande taille de la famille des Caesalpiniaceae et du genre Gilbertiodendron, qui a pour nom vernaculaire limbali en français. Son aire de répartition s’étend du Nigeria jusqu'en République démocratique du Congo et au nord de l’Angola, généralement au-dessous de 1 000 m d’altitude.\\nSon épithète spécifique dewevrei rend hommage au botaniste belge Alfred Dewèvre.\"), ('Brachystegia Mildbraedii', 'Brachystegia mildbraedii est un arbre de taille moyenne de la famille des Caesalpiniaceae (Leguminosae - Caesalpinioideae), que l’on trouve principalement dans l’ouest du Cameroun, en Guinée équatoriale, ainsi qu’au Gabon. Son bois est connu sous le nom de bomanga ou encore ekop évène.'), ('Coccinia subhastata', \"Coccinia est un genre de plantes herbacées de la famille des Cucurbitaceae.\\nCe genre comprend 25 espèces originaires de l'Afrique subsaharienne avec une espèce aussi distribuée à l'Asie du Sud et du Sud-est, qui est aussi envahissante aux îles de l'océan pacifique et l'Amérique tropicale.\\nL'espèce plus connue est Coccinia grandis, la courge écarlate, qui est cultivée pour ses feuilles jeunes et fruits comestibles.\\nLe nom générique Coccinia dérive du latin coccineus, écarlate, en référence à la couleur rouge brillant du fruit mûr.\"), ('Achyranthes bidentata', \"Achyranthes bidentata est une espèce de plante à fleur de la famille des Amaranthaceae, originaire d'une large partie de l'Asie.\\nSa racine fournit une matière médicale couramment utilisée en Chine depuis au moins deux millénaires.\"), ('Cassia italica', \"Cassia est un genre de la famille des Caesalpiniaceae dans la classification classique de Cronquist (1981), ou de la famille des Fabaceae, sous-famille des Caesalpinioideae  dans la classification phylogénétique APG II (2003).\\nDes espèces du genre Cassia sont des plantes qui servent d'aliment aux larves de certaines espèces de lépidoptères, parmi lesquelles Endoclita malabaricus.\"), ('Hymenostegia Breteleri', \"Hymenostegia est un genre de plantes dicotylédones de la famille des Fabaceae, sous-famille des Caesalpinioideae, originaire d'Afrique équatoriale, qui comprend une quinzaine d'espèces acceptées.\\nCe sont des arbustes ou des arbres pouvant atteindre 30 mètres de haut, aux feuilles composées paripennées. Les arbres produisent un bois durable, au grain fin, susceptible de prendre un beau poli, mais la quantité produite est très limitée. Certaines espèces sont utilisées comme arbres d'ornement dans les parcs et jardins ou dans les rues.\"), ('Monopetalanthus Hedinii', \"Aphanocalyx hedinii est une espèce d'arbres de la famille des Fabaceae, endémique du Cameroun.\"), ('Monopetalanthus microphyllus', 'Monopetalanthus heitzii est une espèce de plantes de la famille des Fabaceae.'), ('Deinbollia dasybotrys', 'Deinbollia est un genre de plantes de la famille des Sapindaceae.'), ('Hydrocotyle sibthorpioides', \"Les hydrocotyles (Hydrocotyle) forment un genre de plantes aquatiques ou semi-aquatiques autrefois classées parmi les Apiaceae et maintenant dans la famille des Araliaceae. Dans leur aire naturelle de répartition, les hydrocotyles sont des plantes très communes ,,.\\nCertaines espèces introduites hors de leur aire naturelle de répartition sont considérées comme localement invasives ; c'est le cas de l'hydrocotyle fausse-renoncule (Hydrocotyle ranunculoides), introduite d'Amérique du Nord en Europe occidentale, qui est en train de coloniser de manière très dense certaines portions de cours d'eau.\"), ('Gilbertiodendron mayombense', \"Gilbertiodendron est un genre de plantes appartenant à la famille des Fabaceae.\\nSon nom rend hommage à l'ingénieur et botaniste belge Georges Gilbert.\")])"
      ]
     },
     "execution_count": 33,
     "metadata": {},
     "output_type": "execute_result"
    }
   ],
   "source": [
    "sentences.items()"
   ]
  },
  {
   "cell_type": "code",
   "execution_count": 34,
   "metadata": {},
   "outputs": [],
   "source": [
    "sdata.to_csv('scrapped_wikidata.csv',index=False)"
   ]
  },
  {
   "cell_type": "code",
   "execution_count": null,
   "metadata": {},
   "outputs": [],
   "source": [
    "#s"
   ]
  }
 ],
 "metadata": {
  "kernelspec": {
   "display_name": "Python 3.10.4 64-bit",
   "language": "python",
   "name": "python3"
  },
  "language_info": {
   "codemirror_mode": {
    "name": "ipython",
    "version": 3
   },
   "file_extension": ".py",
   "mimetype": "text/x-python",
   "name": "python",
   "nbconvert_exporter": "python",
   "pygments_lexer": "ipython3",
   "version": "3.10.4"
  },
  "orig_nbformat": 4,
  "vscode": {
   "interpreter": {
    "hash": "95ce74b681a010f2ef9649b663049bdf3564be80654c40f17354ea7c48f5168f"
   }
  }
 },
 "nbformat": 4,
 "nbformat_minor": 2
}
